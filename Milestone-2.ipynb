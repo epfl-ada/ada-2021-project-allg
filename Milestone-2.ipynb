{
 "cells": [
  {
   "cell_type": "code",
   "execution_count": 1,
   "id": "a6023742",
   "metadata": {},
   "outputs": [],
   "source": [
    "import time\n",
    "import json\n",
    "import bz2\n",
    "import pandas as pd\n",
    "import jsonlines"
   ]
  },
  {
   "cell_type": "code",
   "execution_count": 2,
   "id": "653c3404-5c2a-4dee-96cf-bfd66cee6425",
   "metadata": {},
   "outputs": [
    {
     "name": "stdout",
     "output_type": "stream",
     "text": [
      "Time: 0.0010027885437011719\n"
     ]
    }
   ],
   "source": [
    "###  IMPORTING DATA ###\n",
    "\n",
    "start = time.time() # time in which the code is executed\n",
    "\n",
    "data = pd.read_json(\"INSERT-json.bz2-PATH\",lines=True,compression='bz2', chunksize = 100000)\n",
    " \n",
    "print(f'Time: {time.time() - start}')  # print the time to excuted this code"
   ]
  }
 ],
 "metadata": {
  "kernelspec": {
   "display_name": "Python 3 (ipykernel)",
   "language": "python",
   "name": "python3"
  },
  "language_info": {
   "codemirror_mode": {
    "name": "ipython",
    "version": 3
   },
   "file_extension": ".py",
   "mimetype": "text/x-python",
   "name": "python",
   "nbconvert_exporter": "python",
   "pygments_lexer": "ipython3",
   "version": "3.8.11"
  }
 },
 "nbformat": 4,
 "nbformat_minor": 5
}
