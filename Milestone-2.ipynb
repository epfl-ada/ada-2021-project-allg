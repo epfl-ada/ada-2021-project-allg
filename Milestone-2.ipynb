{
 "cells": [
  {
   "cell_type": "code",
   "execution_count": 1,
   "id": "a6023742",
   "metadata": {},
   "outputs": [],
   "source": [
    "import time\n",
    "import json\n",
    "import bz2\n",
    "import pandas as pd\n",
    "import jsonlines"
   ]
  },
  {
   "cell_type": "code",
   "execution_count": 25,
   "id": "653c3404-5c2a-4dee-96cf-bfd66cee6425",
   "metadata": {},
   "outputs": [
    {
     "name": "stdout",
     "output_type": "stream",
     "text": [
      "Time: 0.005022287368774414\n"
     ]
    }
   ],
   "source": [
    "###  IMPORTING DATA ###\n",
    "\n",
    "# Define the path where the data is located\n",
    "\n",
    "Path = \"../quotes-2020.json.bz2\" #goes out of the current folder\n",
    "\n",
    "start = time.time() # time in which the code is executed\n",
    "\n",
    "data = pd.read_json(Path,lines=True,compression='bz2',chunksize = 100000) # Loading data\n",
    " \n",
    "print(f'Time: {time.time() - start}')  # print the time to excuted this code"
   ]
  },
  {
   "cell_type": "code",
   "execution_count": 26,
   "id": "9aaa02a4-870a-464d-8751-b136c8bd8ba7",
   "metadata": {},
   "outputs": [],
   "source": [
    "df_reader = pd.read_json(Path, lines=True, compression='bz2', chunksize=100)"
   ]
  },
  {
   "cell_type": "code",
   "execution_count": 27,
   "id": "4cc36778-37dc-4d7e-8f3d-4db3ff09dd16",
   "metadata": {},
   "outputs": [
    {
     "name": "stdout",
     "output_type": "stream",
     "text": [
      "Processing chunk with 1000000 rows\n",
      "Index(['quoteID', 'quotation', 'speaker', 'qids', 'date', 'numOccurrences',\n",
      "       'probas', 'urls', 'phase'],\n",
      "      dtype='object')\n",
      "Processing chunk with 1000000 rows\n",
      "Index(['quoteID', 'quotation', 'speaker', 'qids', 'date', 'numOccurrences',\n",
      "       'probas', 'urls', 'phase'],\n",
      "      dtype='object')\n",
      "Processing chunk with 1000000 rows\n",
      "Index(['quoteID', 'quotation', 'speaker', 'qids', 'date', 'numOccurrences',\n",
      "       'probas', 'urls', 'phase'],\n",
      "      dtype='object')\n",
      "Processing chunk with 1000000 rows\n",
      "Index(['quoteID', 'quotation', 'speaker', 'qids', 'date', 'numOccurrences',\n",
      "       'probas', 'urls', 'phase'],\n",
      "      dtype='object')\n",
      "Processing chunk with 1000000 rows\n",
      "Index(['quoteID', 'quotation', 'speaker', 'qids', 'date', 'numOccurrences',\n",
      "       'probas', 'urls', 'phase'],\n",
      "      dtype='object')\n",
      "Processing chunk with 244449 rows\n",
      "Index(['quoteID', 'quotation', 'speaker', 'qids', 'date', 'numOccurrences',\n",
      "       'probas', 'urls', 'phase'],\n",
      "      dtype='object')\n"
     ]
    }
   ],
   "source": [
    "import pandas as pd\n",
    "\n",
    "def process_chunk(chunk):\n",
    "        print(f'Processing chunk with {len(chunk)} rows')\n",
    "        print(chunk.columns)\n",
    "\n",
    "with pd.read_json(Path, lines=True, compression='bz2', chunksize=1000000) as df_reader:\n",
    "    for chunk in df_reader:\n",
    "        process_chunk(chunk)"
   ]
  },
  {
   "cell_type": "code",
   "execution_count": 29,
   "id": "2590e289",
   "metadata": {},
   "outputs": [
    {
     "data": {
      "text/html": [
       "<div>\n",
       "<style scoped>\n",
       "    .dataframe tbody tr th:only-of-type {\n",
       "        vertical-align: middle;\n",
       "    }\n",
       "\n",
       "    .dataframe tbody tr th {\n",
       "        vertical-align: top;\n",
       "    }\n",
       "\n",
       "    .dataframe thead th {\n",
       "        text-align: right;\n",
       "    }\n",
       "</style>\n",
       "<table border=\"1\" class=\"dataframe\">\n",
       "  <thead>\n",
       "    <tr style=\"text-align: right;\">\n",
       "      <th></th>\n",
       "      <th>quoteID</th>\n",
       "      <th>quotation</th>\n",
       "      <th>speaker</th>\n",
       "      <th>qids</th>\n",
       "      <th>date</th>\n",
       "      <th>numOccurrences</th>\n",
       "      <th>probas</th>\n",
       "      <th>urls</th>\n",
       "      <th>phase</th>\n",
       "    </tr>\n",
       "  </thead>\n",
       "  <tbody>\n",
       "    <tr>\n",
       "      <th>5000000</th>\n",
       "      <td>2020-03-06-047752</td>\n",
       "      <td>People get killed in wildlife collisions, most...</td>\n",
       "      <td>Dave Marsden</td>\n",
       "      <td>[Q5240722]</td>\n",
       "      <td>2020-03-06 17:20:36</td>\n",
       "      <td>3</td>\n",
       "      <td>[[Dave Marsden, 0.6329], [None, 0.3671]]</td>\n",
       "      <td>[http://www.washingtontimes.com/news/2020/mar/...</td>\n",
       "      <td>E</td>\n",
       "    </tr>\n",
       "    <tr>\n",
       "      <th>5000001</th>\n",
       "      <td>2020-01-31-070691</td>\n",
       "      <td>People my age and older have to figure out how...</td>\n",
       "      <td>Michelle Buteau</td>\n",
       "      <td>[Q54861496]</td>\n",
       "      <td>2020-01-31 17:47:00</td>\n",
       "      <td>2</td>\n",
       "      <td>[[Michelle Buteau, 0.8651], [None, 0.1349]]</td>\n",
       "      <td>[https://www.nbcnews.com/news/nbcblk/michelle-...</td>\n",
       "      <td>E</td>\n",
       "    </tr>\n",
       "    <tr>\n",
       "      <th>5000002</th>\n",
       "      <td>2020-03-26-047932</td>\n",
       "      <td>People now have time on their hands and they w...</td>\n",
       "      <td>Gary Gray</td>\n",
       "      <td>[Q21228842, Q3758498, Q5525157, Q5525158, Q552...</td>\n",
       "      <td>2020-03-26 19:43:00</td>\n",
       "      <td>1</td>\n",
       "      <td>[[Gary Gray, 0.8611], [None, 0.1389]]</td>\n",
       "      <td>[http://capenews.net/sandwich/news/business-is...</td>\n",
       "      <td>E</td>\n",
       "    </tr>\n",
       "    <tr>\n",
       "      <th>5000003</th>\n",
       "      <td>2020-01-10-061824</td>\n",
       "      <td>People should not recourse to violent methods ...</td>\n",
       "      <td>Peter Machado</td>\n",
       "      <td>[Q1385539]</td>\n",
       "      <td>2020-01-10 03:04:23</td>\n",
       "      <td>1</td>\n",
       "      <td>[[Peter Machado, 0.9013], [None, 0.0987]]</td>\n",
       "      <td>[https://www.newkerala.com/news/2020/4460.htm]</td>\n",
       "      <td>E</td>\n",
       "    </tr>\n",
       "  </tbody>\n",
       "</table>\n",
       "</div>"
      ],
      "text/plain": [
       "                   quoteID                                          quotation  \\\n",
       "5000000  2020-03-06-047752  People get killed in wildlife collisions, most...   \n",
       "5000001  2020-01-31-070691  People my age and older have to figure out how...   \n",
       "5000002  2020-03-26-047932  People now have time on their hands and they w...   \n",
       "5000003  2020-01-10-061824  People should not recourse to violent methods ...   \n",
       "\n",
       "                 speaker                                               qids  \\\n",
       "5000000     Dave Marsden                                         [Q5240722]   \n",
       "5000001  Michelle Buteau                                        [Q54861496]   \n",
       "5000002        Gary Gray  [Q21228842, Q3758498, Q5525157, Q5525158, Q552...   \n",
       "5000003    Peter Machado                                         [Q1385539]   \n",
       "\n",
       "                       date  numOccurrences  \\\n",
       "5000000 2020-03-06 17:20:36               3   \n",
       "5000001 2020-01-31 17:47:00               2   \n",
       "5000002 2020-03-26 19:43:00               1   \n",
       "5000003 2020-01-10 03:04:23               1   \n",
       "\n",
       "                                              probas  \\\n",
       "5000000     [[Dave Marsden, 0.6329], [None, 0.3671]]   \n",
       "5000001  [[Michelle Buteau, 0.8651], [None, 0.1349]]   \n",
       "5000002        [[Gary Gray, 0.8611], [None, 0.1389]]   \n",
       "5000003    [[Peter Machado, 0.9013], [None, 0.0987]]   \n",
       "\n",
       "                                                      urls phase  \n",
       "5000000  [http://www.washingtontimes.com/news/2020/mar/...     E  \n",
       "5000001  [https://www.nbcnews.com/news/nbcblk/michelle-...     E  \n",
       "5000002  [http://capenews.net/sandwich/news/business-is...     E  \n",
       "5000003     [https://www.newkerala.com/news/2020/4460.htm]     E  "
      ]
     },
     "execution_count": 29,
     "metadata": {},
     "output_type": "execute_result"
    }
   ],
   "source": [
    "chunk.head(4)"
   ]
  },
  {
   "cell_type": "code",
   "execution_count": null,
   "id": "efbf327a",
   "metadata": {},
   "outputs": [],
   "source": []
  }
 ],
 "metadata": {
  "kernelspec": {
   "display_name": "Python 3 (ipykernel)",
   "language": "python",
   "name": "python3"
  },
  "language_info": {
   "codemirror_mode": {
    "name": "ipython",
    "version": 3
   },
   "file_extension": ".py",
   "mimetype": "text/x-python",
   "name": "python",
   "nbconvert_exporter": "python",
   "pygments_lexer": "ipython3",
   "version": "3.8.12"
  }
 },
 "nbformat": 4,
 "nbformat_minor": 5
}
