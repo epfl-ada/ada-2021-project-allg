{
 "cells": [
  {
   "cell_type": "code",
   "execution_count": 1,
   "id": "a6023742",
   "metadata": {},
   "outputs": [],
   "source": [
    "import json\n",
    "import pandas as pd\n",
    "import requests"
   ]
  },
  {
   "cell_type": "code",
   "execution_count": null,
   "id": "653c3404-5c2a-4dee-96cf-bfd66cee6425",
   "metadata": {},
   "outputs": [],
   "source": [
    "# Step 1: Read the JSON line file into an object like any normal file\n",
    "with open('quotes-2019-nytimes.json') as f:\n",
    "    lines = f.read().splitlines()\n",
    "#Step 2 : Load the ‘lines’ object into a pandas Data Frame.\n",
    "df_inter = pd.DataFrame(lines)\n",
    "df_inter.columns = ['json_element']\n",
    "#Step 3:\n",
    "df_inter['json_element'].apply(json.loads)\n",
    "df = pd.json_normalize(df_inter['json_element'].apply(json.loads))"
   ]
  },
  {
   "cell_type": "code",
   "execution_count": null,
   "id": "58bd61c5-227e-420d-aee9-c64b80c57c93",
   "metadata": {},
   "outputs": [],
   "source": [
    "r = requests.get(\"http://emweb.securities.eastmoney.com/ProfitForecast/ProfitForecastAjax?code=SZ002439\")\n",
    "d = json.loads(r.text)\n",
    "df = pd.DataFrame(d[\"mgsy\"])\n",
    "print(df)"
   ]
  },
  {
   "cell_type": "code",
   "execution_count": null,
   "id": "22a097da-e922-4bdd-9e59-186972565f42",
   "metadata": {},
   "outputs": [],
   "source": [
    "# Exploring the columns\n",
    "df.columns"
   ]
  },
  {
   "cell_type": "code",
   "execution_count": null,
   "id": "9c1f122f-dd29-470b-a315-55ec57822fd5",
   "metadata": {},
   "outputs": [],
   "source": [
    "# Exploring the data set\n",
    "df.head()"
   ]
  }
 ],
 "metadata": {
  "kernelspec": {
   "display_name": "Python 3 (ipykernel)",
   "language": "python",
   "name": "python3"
  },
  "language_info": {
   "codemirror_mode": {
    "name": "ipython",
    "version": 3
   },
   "file_extension": ".py",
   "mimetype": "text/x-python",
   "name": "python",
   "nbconvert_exporter": "python",
   "pygments_lexer": "ipython3",
   "version": "3.8.11"
  }
 },
 "nbformat": 4,
 "nbformat_minor": 5
}
