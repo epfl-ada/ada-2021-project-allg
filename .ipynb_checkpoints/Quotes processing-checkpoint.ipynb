{
 "cells": [
  {
   "cell_type": "code",
   "execution_count": 3,
   "id": "e7bf19b5",
   "metadata": {},
   "outputs": [],
   "source": [
    "%load_ext autoreload\n",
    "%autoreload 2\n",
    "\n",
    "###Importing all the useful librairies\n",
    "\n",
    "import time\n",
    "import json\n",
    "import bz2\n",
    "import pandas as pd\n",
    "import numpy as np\n",
    "import re\n",
    "from pathlib import Path\n",
    "import matplotlib.pyplot as plt\n",
    "import pyarrow as pa\n",
    "import pyarrow.parquet as pq\n",
    "import glob\n",
    "\n",
    "import warnings; warnings.simplefilter('ignore')\n",
    "import os, codecs, string, random\n",
    "import numpy as np\n",
    "from numpy.random import seed as random_seed\n",
    "from numpy.random import shuffle as random_shuffle\n",
    "import matplotlib.pyplot as plt\n",
    "%matplotlib inline  \n",
    "\n",
    "seed = 42\n",
    "random.seed(seed)\n",
    "np.random.seed(seed)\n",
    "\n",
    "#NLP libraries\n",
    "import spacy, nltk, gensim, sklearn\n",
    "#import pyLDAvis.gensim\n",
    "\n",
    "#Vader\n",
    "import vaderSentiment\n",
    "from vaderSentiment.vaderSentiment import SentimentIntensityAnalyzer\n",
    "\n",
    "#Scikit imports\n",
    "from sklearn.feature_extraction.text import CountVectorizer\n",
    "from sklearn.model_selection import train_test_split\n",
    "from sklearn.model_selection import cross_val_score\n",
    "from sklearn.linear_model import LogisticRegression\n",
    "from sklearn import preprocessing\n",
    "from sklearn.preprocessing import StandardScaler\n",
    "from sklearn.utils import shuffle"
   ]
  },
  {
   "cell_type": "code",
   "execution_count": 4,
   "id": "3e4f58ff",
   "metadata": {},
   "outputs": [],
   "source": [
    "df = pd.read_csv(\"c:/data/tot_2020.csv\")"
   ]
  },
  {
   "cell_type": "code",
   "execution_count": 5,
   "id": "7186d504",
   "metadata": {},
   "outputs": [
    {
     "data": {
      "text/html": [
       "<div>\n",
       "<style scoped>\n",
       "    .dataframe tbody tr th:only-of-type {\n",
       "        vertical-align: middle;\n",
       "    }\n",
       "\n",
       "    .dataframe tbody tr th {\n",
       "        vertical-align: top;\n",
       "    }\n",
       "\n",
       "    .dataframe thead th {\n",
       "        text-align: right;\n",
       "    }\n",
       "</style>\n",
       "<table border=\"1\" class=\"dataframe\">\n",
       "  <thead>\n",
       "    <tr style=\"text-align: right;\">\n",
       "      <th></th>\n",
       "      <th>0</th>\n",
       "      <th>Q5268447</th>\n",
       "      <th>2020-01-17-000357</th>\n",
       "      <th>male</th>\n",
       "      <th>[ The delay ] will have an impact [ on Slough ] but that might be mitigated by the fact we are going to have this Western Rail Link to Heathrow. It looks like that may come in sooner than Crossrail.</th>\n",
       "    </tr>\n",
       "  </thead>\n",
       "  <tbody>\n",
       "    <tr>\n",
       "      <th>0</th>\n",
       "      <td>1</td>\n",
       "      <td>Q4864119</td>\n",
       "      <td>2020-04-02-000239</td>\n",
       "      <td>male</td>\n",
       "      <td>[ The scheme ] treats addiction as an illness ...</td>\n",
       "    </tr>\n",
       "    <tr>\n",
       "      <th>1</th>\n",
       "      <td>2</td>\n",
       "      <td>Q816459</td>\n",
       "      <td>2020-03-19-000276</td>\n",
       "      <td>male</td>\n",
       "      <td>[ These ] actions will allow households who ha...</td>\n",
       "    </tr>\n",
       "    <tr>\n",
       "      <th>2</th>\n",
       "      <td>3</td>\n",
       "      <td>Q56255401</td>\n",
       "      <td>2020-01-08-000594</td>\n",
       "      <td>male</td>\n",
       "      <td>11 straight weeks of pre-season,</td>\n",
       "    </tr>\n",
       "    <tr>\n",
       "      <th>3</th>\n",
       "      <td>4</td>\n",
       "      <td>Q26923564</td>\n",
       "      <td>2020-02-21-000455</td>\n",
       "      <td>male</td>\n",
       "      <td>2019 was a landmark year for Fiverr as we comp...</td>\n",
       "    </tr>\n",
       "    <tr>\n",
       "      <th>4</th>\n",
       "      <td>5</td>\n",
       "      <td>Q4749380</td>\n",
       "      <td>2020-04-01-000532</td>\n",
       "      <td>female</td>\n",
       "      <td>7pm is when most hospitals change shifts. That...</td>\n",
       "    </tr>\n",
       "    <tr>\n",
       "      <th>5</th>\n",
       "      <td>6</td>\n",
       "      <td>Q5106592</td>\n",
       "      <td>2020-01-29-001076</td>\n",
       "      <td>male</td>\n",
       "      <td>A collaborative opioid stewardship program, ac...</td>\n",
       "    </tr>\n",
       "    <tr>\n",
       "      <th>6</th>\n",
       "      <td>7</td>\n",
       "      <td>Q771586</td>\n",
       "      <td>2020-01-26-000499</td>\n",
       "      <td>male</td>\n",
       "      <td>a few of the candidates who will do better in ...</td>\n",
       "    </tr>\n",
       "    <tr>\n",
       "      <th>7</th>\n",
       "      <td>8</td>\n",
       "      <td>Q16195572</td>\n",
       "      <td>2020-02-29-000491</td>\n",
       "      <td>male</td>\n",
       "      <td>a lack of resources and government funding</td>\n",
       "    </tr>\n",
       "    <tr>\n",
       "      <th>8</th>\n",
       "      <td>9</td>\n",
       "      <td>Q7322163</td>\n",
       "      <td>2020-03-23-000896</td>\n",
       "      <td>female</td>\n",
       "      <td>A little over a week old. Thankful for God's g...</td>\n",
       "    </tr>\n",
       "    <tr>\n",
       "      <th>9</th>\n",
       "      <td>10</td>\n",
       "      <td>Q18151420</td>\n",
       "      <td>2020-01-10-001448</td>\n",
       "      <td>male</td>\n",
       "      <td>a lot of contacts and a lot of knowledge</td>\n",
       "    </tr>\n",
       "  </tbody>\n",
       "</table>\n",
       "</div>"
      ],
      "text/plain": [
       "    0   Q5268447  2020-01-17-000357    male  \\\n",
       "0   1   Q4864119  2020-04-02-000239    male   \n",
       "1   2    Q816459  2020-03-19-000276    male   \n",
       "2   3  Q56255401  2020-01-08-000594    male   \n",
       "3   4  Q26923564  2020-02-21-000455    male   \n",
       "4   5   Q4749380  2020-04-01-000532  female   \n",
       "5   6   Q5106592  2020-01-29-001076    male   \n",
       "6   7    Q771586  2020-01-26-000499    male   \n",
       "7   8  Q16195572  2020-02-29-000491    male   \n",
       "8   9   Q7322163  2020-03-23-000896  female   \n",
       "9  10  Q18151420  2020-01-10-001448    male   \n",
       "\n",
       "  [ The delay ] will have an impact [ on Slough ] but that might be mitigated by the fact we are going to have this Western Rail Link to Heathrow. It looks like that may come in sooner than Crossrail.  \n",
       "0  [ The scheme ] treats addiction as an illness ...                                                                                                                                                      \n",
       "1  [ These ] actions will allow households who ha...                                                                                                                                                      \n",
       "2                   11 straight weeks of pre-season,                                                                                                                                                      \n",
       "3  2019 was a landmark year for Fiverr as we comp...                                                                                                                                                      \n",
       "4  7pm is when most hospitals change shifts. That...                                                                                                                                                      \n",
       "5  A collaborative opioid stewardship program, ac...                                                                                                                                                      \n",
       "6  a few of the candidates who will do better in ...                                                                                                                                                      \n",
       "7         a lack of resources and government funding                                                                                                                                                      \n",
       "8  A little over a week old. Thankful for God's g...                                                                                                                                                      \n",
       "9           a lot of contacts and a lot of knowledge                                                                                                                                                      "
      ]
     },
     "execution_count": 5,
     "metadata": {},
     "output_type": "execute_result"
    }
   ],
   "source": [
    "df.head(10)"
   ]
  },
  {
   "cell_type": "code",
   "execution_count": 6,
   "id": "da7a430a",
   "metadata": {},
   "outputs": [],
   "source": [
    "df.columns = ['id','quids', 'quoteID', 'gender', 'quote']"
   ]
  },
  {
   "cell_type": "code",
   "execution_count": 7,
   "id": "c54bb71e",
   "metadata": {},
   "outputs": [],
   "source": [
    "women = df.drop(df[df['gender'] != 'female'].index) "
   ]
  },
  {
   "cell_type": "code",
   "execution_count": 8,
   "id": "f1b78a16",
   "metadata": {},
   "outputs": [
    {
     "data": {
      "text/html": [
       "<div>\n",
       "<style scoped>\n",
       "    .dataframe tbody tr th:only-of-type {\n",
       "        vertical-align: middle;\n",
       "    }\n",
       "\n",
       "    .dataframe tbody tr th {\n",
       "        vertical-align: top;\n",
       "    }\n",
       "\n",
       "    .dataframe thead th {\n",
       "        text-align: right;\n",
       "    }\n",
       "</style>\n",
       "<table border=\"1\" class=\"dataframe\">\n",
       "  <thead>\n",
       "    <tr style=\"text-align: right;\">\n",
       "      <th></th>\n",
       "      <th>id</th>\n",
       "      <th>quids</th>\n",
       "      <th>quoteID</th>\n",
       "      <th>gender</th>\n",
       "      <th>quote</th>\n",
       "    </tr>\n",
       "  </thead>\n",
       "  <tbody>\n",
       "    <tr>\n",
       "      <th>4</th>\n",
       "      <td>5</td>\n",
       "      <td>Q4749380</td>\n",
       "      <td>2020-04-01-000532</td>\n",
       "      <td>female</td>\n",
       "      <td>7pm is when most hospitals change shifts. That...</td>\n",
       "    </tr>\n",
       "    <tr>\n",
       "      <th>8</th>\n",
       "      <td>9</td>\n",
       "      <td>Q7322163</td>\n",
       "      <td>2020-03-23-000896</td>\n",
       "      <td>female</td>\n",
       "      <td>A little over a week old. Thankful for God's g...</td>\n",
       "    </tr>\n",
       "    <tr>\n",
       "      <th>15</th>\n",
       "      <td>16</td>\n",
       "      <td>Q230744</td>\n",
       "      <td>2020-01-11-002445</td>\n",
       "      <td>female</td>\n",
       "      <td>And help he always did. For someone who prefer...</td>\n",
       "    </tr>\n",
       "    <tr>\n",
       "      <th>16</th>\n",
       "      <td>17</td>\n",
       "      <td>Q7493177</td>\n",
       "      <td>2020-01-23-005418</td>\n",
       "      <td>female</td>\n",
       "      <td>And I think we've come to a time where we are ...</td>\n",
       "    </tr>\n",
       "    <tr>\n",
       "      <th>19</th>\n",
       "      <td>20</td>\n",
       "      <td>Q43394564</td>\n",
       "      <td>2020-02-13-007205</td>\n",
       "      <td>female</td>\n",
       "      <td>Apple prices generally peak in January. Betwee...</td>\n",
       "    </tr>\n",
       "  </tbody>\n",
       "</table>\n",
       "</div>"
      ],
      "text/plain": [
       "    id      quids            quoteID  gender  \\\n",
       "4    5   Q4749380  2020-04-01-000532  female   \n",
       "8    9   Q7322163  2020-03-23-000896  female   \n",
       "15  16    Q230744  2020-01-11-002445  female   \n",
       "16  17   Q7493177  2020-01-23-005418  female   \n",
       "19  20  Q43394564  2020-02-13-007205  female   \n",
       "\n",
       "                                                quote  \n",
       "4   7pm is when most hospitals change shifts. That...  \n",
       "8   A little over a week old. Thankful for God's g...  \n",
       "15  And help he always did. For someone who prefer...  \n",
       "16  And I think we've come to a time where we are ...  \n",
       "19  Apple prices generally peak in January. Betwee...  "
      ]
     },
     "execution_count": 8,
     "metadata": {},
     "output_type": "execute_result"
    }
   ],
   "source": [
    "women.head()"
   ]
  },
  {
   "cell_type": "code",
   "execution_count": 16,
   "id": "fa0903a0",
   "metadata": {},
   "outputs": [],
   "source": [
    "nlp = spacy.load('en_core_web_sm')"
   ]
  },
  {
   "cell_type": "code",
   "execution_count": 13,
   "id": "3c255044",
   "metadata": {},
   "outputs": [],
   "source": [
    "all_quotes = women.drop(['id','quids','quoteID','gender'], axis = 1)"
   ]
  },
  {
   "cell_type": "code",
   "execution_count": 14,
   "id": "ee3c3690",
   "metadata": {},
   "outputs": [
    {
     "data": {
      "text/html": [
       "<div>\n",
       "<style scoped>\n",
       "    .dataframe tbody tr th:only-of-type {\n",
       "        vertical-align: middle;\n",
       "    }\n",
       "\n",
       "    .dataframe tbody tr th {\n",
       "        vertical-align: top;\n",
       "    }\n",
       "\n",
       "    .dataframe thead th {\n",
       "        text-align: right;\n",
       "    }\n",
       "</style>\n",
       "<table border=\"1\" class=\"dataframe\">\n",
       "  <thead>\n",
       "    <tr style=\"text-align: right;\">\n",
       "      <th></th>\n",
       "      <th>quote</th>\n",
       "    </tr>\n",
       "  </thead>\n",
       "  <tbody>\n",
       "    <tr>\n",
       "      <th>4</th>\n",
       "      <td>7pm is when most hospitals change shifts. That...</td>\n",
       "    </tr>\n",
       "    <tr>\n",
       "      <th>8</th>\n",
       "      <td>A little over a week old. Thankful for God's g...</td>\n",
       "    </tr>\n",
       "    <tr>\n",
       "      <th>15</th>\n",
       "      <td>And help he always did. For someone who prefer...</td>\n",
       "    </tr>\n",
       "    <tr>\n",
       "      <th>16</th>\n",
       "      <td>And I think we've come to a time where we are ...</td>\n",
       "    </tr>\n",
       "    <tr>\n",
       "      <th>19</th>\n",
       "      <td>Apple prices generally peak in January. Betwee...</td>\n",
       "    </tr>\n",
       "  </tbody>\n",
       "</table>\n",
       "</div>"
      ],
      "text/plain": [
       "                                                quote\n",
       "4   7pm is when most hospitals change shifts. That...\n",
       "8   A little over a week old. Thankful for God's g...\n",
       "15  And help he always did. For someone who prefer...\n",
       "16  And I think we've come to a time where we are ...\n",
       "19  Apple prices generally peak in January. Betwee..."
      ]
     },
     "execution_count": 14,
     "metadata": {},
     "output_type": "execute_result"
    }
   ],
   "source": [
    "all_quotes.head()"
   ]
  },
  {
   "cell_type": "code",
   "execution_count": null,
   "id": "63e21d44",
   "metadata": {},
   "outputs": [],
   "source": []
  },
  {
   "cell_type": "code",
   "execution_count": 15,
   "id": "21e7d1db",
   "metadata": {},
   "outputs": [],
   "source": [
    "all_quotes.to_csv(r'c:/data/w/women.txt', header=None, index=None, sep=' ', mode='a')"
   ]
  },
  {
   "cell_type": "code",
   "execution_count": 16,
   "id": "dd1420f2",
   "metadata": {},
   "outputs": [],
   "source": [
    "#type(df[\"quote\"])\n",
    "\n",
    "#np.savetxt(r'c:\\data\\np.txt', df.to_string())"
   ]
  },
  {
   "cell_type": "code",
   "execution_count": 9,
   "id": "2e46e686",
   "metadata": {},
   "outputs": [],
   "source": [
    "books = list()\n",
    "corpus_root = \"c:/data/w/\"\n",
    "\n",
    "\n",
    "with codecs.open(os.path.join(corpus_root,'women.txt'),encoding=\"utf8\") as f:\n",
    "    books.append(f.read())\n",
    "    f.close()"
   ]
  },
  {
   "cell_type": "code",
   "execution_count": 10,
   "id": "05f7cb12",
   "metadata": {},
   "outputs": [
    {
     "name": "stdout",
     "output_type": "stream",
     "text": [
      "\"7pm is when most hospitals change shifts. That's why. We love you heroes.\"\r\n",
      "\"A little over a week old. Thankful for God's goodness.\"\r\n",
      "\"And help he always did. For someone who preferred to be behind the scenes, he was at the center of absolutely everything.\"\r\n",
      "\"And I think we've come to a time where we are prepared if women are not supported, then women are not going to continue to blindly support men who will not step up and take some leadership on this issue,\"\r\n",
      "\"Apple prices generally peak in January. Between December 2019 and January 2020, apple prices rose 22 percent to a weighted average p\n"
     ]
    }
   ],
   "source": [
    "print(books[0][0:600])"
   ]
  },
  {
   "cell_type": "code",
   "execution_count": 11,
   "id": "6040f714",
   "metadata": {},
   "outputs": [
    {
     "data": {
      "text/plain": [
       "16834789"
      ]
     },
     "execution_count": 11,
     "metadata": {},
     "output_type": "execute_result"
    }
   ],
   "source": [
    "book = books[0]\n",
    "\n",
    "len(book)\n",
    "#doc = nlp(book)"
   ]
  },
  {
   "cell_type": "code",
   "execution_count": 12,
   "id": "1d3086e3",
   "metadata": {},
   "outputs": [
    {
     "name": "stdout",
     "output_type": "stream",
     "text": [
      "['women.txt']\n"
     ]
    }
   ],
   "source": [
    "from nltk.corpus import PlaintextCorpusReader\n",
    "?PlaintextCorpusReader\n",
    "our_books = PlaintextCorpusReader(corpus_root, '.*.txt')\n",
    "print(our_books.fileids())"
   ]
  },
  {
   "cell_type": "code",
   "execution_count": 1,
   "id": "f74d7066",
   "metadata": {},
   "outputs": [
    {
     "name": "stderr",
     "output_type": "stream",
     "text": [
      "[nltk_data] Downloading package punkt to\n",
      "[nltk_data]     C:\\Users\\lucie\\AppData\\Roaming\\nltk_data...\n",
      "[nltk_data]   Unzipping tokenizers\\punkt.zip.\n"
     ]
    },
    {
     "data": {
      "text/plain": [
       "True"
      ]
     },
     "execution_count": 1,
     "metadata": {},
     "output_type": "execute_result"
    }
   ],
   "source": [
    "import nltk\n",
    "nltk.download('punkt')"
   ]
  },
  {
   "cell_type": "code",
   "execution_count": 35,
   "id": "03dee5bd",
   "metadata": {},
   "outputs": [
    {
     "name": "stdout",
     "output_type": "stream",
     "text": [
      "women.txt\n",
      "hello\n"
     ]
    }
   ],
   "source": [
    "import nltk\n",
    "\n",
    "\n",
    "def get_chunks(l, n):\n",
    "    \"\"\"Yield successive n-sized chunks from l.\"\"\"\n",
    "    for i in range(0, len(l), n):\n",
    "        yield l[i:i + n]\n",
    "\n",
    "\n",
    "book_id = {f:n for n,f in enumerate(our_books.fileids())} # dictionary of books\n",
    "chunks = list()\n",
    "chunk_class = list() # this list contains the original book of the chunk, for evaluation\n",
    "\n",
    "limit = 500 # how many chunks total\n",
    "size = 50 # how many sentences per chunk/page\n",
    "\n",
    "for f in our_books.fileids():\n",
    "    sentences = our_books.sents(f)\n",
    "    print(f)\n",
    "    #print('Number of sentences:',len(sentences))\n",
    "    print(\"hello\")\n",
    "    \n",
    "    # create chunks\n",
    "    chunks_of_sents = [x for x in get_chunks(sentences,size)] # this is a list of lists of sentences, which are a list of tokens\n",
    "    chs = list()\n",
    "    \n",
    "    # regroup so to have a list of chunks which are strings\n",
    "    for c in chunks_of_sents:\n",
    "        grouped_chunk = list()\n",
    "        for s in c:\n",
    "            grouped_chunk.extend(s)\n",
    "        chs.append(\" \".join(grouped_chunk))\n",
    "    #print(\"Number of chunks:\",len(chs),'\\n')\n",
    "    \n",
    "    # filter to the limit, to have the same number of chunks per book\n",
    "    chunks.extend(chs[:limit])\n",
    "    chunk_class.extend([book_id[f] for _ in range(len(chs[:limit]))])"
   ]
  },
  {
   "cell_type": "code",
   "execution_count": 19,
   "id": "de1008c4",
   "metadata": {},
   "outputs": [],
   "source": [
    "STOPWORDS = spacy.lang.en.stop_words.STOP_WORDS\n",
    "\n",
    "processed_docs = list()\n",
    "for doc in nlp.pipe(chunks, batch_size=10):\n",
    "\n",
    "    # Process document using Spacy NLP pipeline.\n",
    "    ents = doc.ents  # Named entities\n",
    "\n",
    "    # Keep only words (no numbers, no punctuation).\n",
    "    # Lemmatize tokens, remove punctuation and remove stopwords.\n",
    "    doc = [token.lemma_ for token in doc if token.is_alpha and not token.is_stop]\n",
    "\n",
    "    # Remove common words from a stopword list and keep only words of length 3 or more.\n",
    "    doc = [token for token in doc if token not in STOPWORDS and len(token) > 2]\n",
    "\n",
    "    # Add named entities, but only if they are a compound of more than word.\n",
    "    doc.extend([str(entity) for entity in ents if len(entity) > 1])\n",
    "\n",
    "    processed_docs.append(doc)\n",
    "docs = processed_docs\n",
    "del processed_docs"
   ]
  },
  {
   "cell_type": "code",
   "execution_count": 20,
   "id": "d84e26d9",
   "metadata": {},
   "outputs": [],
   "source": [
    "# Add bigrams too\n",
    "from gensim.models.phrases import Phrases\n",
    "\n",
    "# Add bigrams to docs (only ones that appear 15 times or more).\n",
    "bigram = Phrases(docs, min_count=15)\n",
    "\n",
    "for idx in range(len(docs)):\n",
    "    for token in bigram[docs[idx]]:\n",
    "        if '_' in token:\n",
    "            # Token is a bigram, add to document.\n",
    "            docs[idx].append(token)"
   ]
  },
  {
   "cell_type": "code",
   "execution_count": 21,
   "id": "3ff4e91d",
   "metadata": {},
   "outputs": [
    {
     "name": "stdout",
     "output_type": "stream",
     "text": [
      "Number of unique tokens: 5433\n",
      "Number of chunks: 500\n"
     ]
    }
   ],
   "source": [
    "# Create a dictionary representation of the documents, and filter out frequent and rare words.\n",
    "from gensim.corpora import Dictionary\n",
    "dictionary = Dictionary(docs)\n",
    "\n",
    "# Remove rare and common tokens.\n",
    "# Filter out words that occur too frequently or too rarely.\n",
    "max_freq = 0.5\n",
    "min_wordcount = 5\n",
    "dictionary.filter_extremes(no_below=min_wordcount, no_above=max_freq)\n",
    "\n",
    "# Bag-of-words representation of the documents.\n",
    "corpus = [dictionary.doc2bow(doc) for doc in docs]\n",
    "#MmCorpus.serialize(\"models/corpus.mm\", corpus)\n",
    "\n",
    "print('Number of unique tokens: %d' % len(dictionary))\n",
    "print('Number of chunks: %d' % len(corpus))"
   ]
  },
  {
   "cell_type": "code",
   "execution_count": 22,
   "id": "e2da4f62",
   "metadata": {},
   "outputs": [],
   "source": [
    "# models\n",
    "from gensim.models import LdaMulticore\n",
    "params = {'passes': 10, 'random_state': seed}\n",
    "base_models = dict()\n",
    "model = LdaMulticore(corpus=corpus, num_topics=4, id2word=dictionary, workers=6,\n",
    "                passes=params['passes'], random_state=params['random_state'])"
   ]
  },
  {
   "cell_type": "code",
   "execution_count": 23,
   "id": "ea693c45",
   "metadata": {},
   "outputs": [
    {
     "data": {
      "text/plain": [
       "[(0,\n",
       "  '0.003*\"story\" + 0.003*\"face\" + 0.002*\"win\" + 0.002*\"hear\" + 0.002*\"game\"'),\n",
       " (1,\n",
       "  '0.003*\"school\" + 0.002*\"use\" + 0.002*\"create\" + 0.002*\"issue\" + 0.002*\"ensure\"'),\n",
       " (2,\n",
       "  '0.003*\"ensure\" + 0.003*\"understand\" + 0.002*\"risk\" + 0.002*\"story\" + 0.002*\"face\"'),\n",
       " (3,\n",
       "  '0.003*\"school\" + 0.003*\"local\" + 0.003*\"believe\" + 0.003*\"protect\" + 0.002*\"issue\"')]"
      ]
     },
     "execution_count": 23,
     "metadata": {},
     "output_type": "execute_result"
    }
   ],
   "source": [
    "model.show_topics(num_words=5)"
   ]
  },
  {
   "cell_type": "code",
   "execution_count": 24,
   "id": "b0aead45",
   "metadata": {},
   "outputs": [
    {
     "data": {
      "text/plain": [
       "[('school', 0.002589391),\n",
       " ('use', 0.002455004),\n",
       " ('create', 0.0023228377),\n",
       " ('issue', 0.0023038804),\n",
       " ('ensure', 0.0022757072),\n",
       " ('plan', 0.0020941573),\n",
       " ('win', 0.0020644234),\n",
       " ('let', 0.0020133485),\n",
       " ('situation', 0.002000675),\n",
       " ('forward', 0.0019986632),\n",
       " ('build', 0.001982574),\n",
       " ('future', 0.0019617334),\n",
       " ('person', 0.001954434),\n",
       " ('kid', 0.001937154),\n",
       " ('impact', 0.0019205007),\n",
       " ('face', 0.0018684922),\n",
       " ('leave', 0.0018411522),\n",
       " ('young', 0.0018350369),\n",
       " ('worker', 0.0018196257),\n",
       " ('student', 0.0018062431)]"
      ]
     },
     "execution_count": 24,
     "metadata": {},
     "output_type": "execute_result"
    }
   ],
   "source": [
    "model.show_topic(1,20)"
   ]
  },
  {
   "cell_type": "code",
   "execution_count": 25,
   "id": "1c0c8b67",
   "metadata": {},
   "outputs": [
    {
     "data": {
      "text/plain": [
       "[(2, 0.4903521), (3, 0.48454005), (1, 0.016714452)]"
      ]
     },
     "execution_count": 25,
     "metadata": {},
     "output_type": "execute_result"
    }
   ],
   "source": [
    "sorted(model[corpus[0]],key=lambda x:x[1],reverse=True)"
   ]
  },
  {
   "cell_type": "code",
   "execution_count": 36,
   "id": "30975166",
   "metadata": {
    "scrolled": true
   },
   "outputs": [
    {
     "data": {
      "text/html": [
       "\n",
       "<link rel=\"stylesheet\" type=\"text/css\" href=\"https://cdn.jsdelivr.net/gh/bmabey/pyLDAvis@3.3.1/pyLDAvis/js/ldavis.v1.0.0.css\">\n",
       "\n",
       "\n",
       "<div id=\"ldavis_el234442148939366800250107552\"></div>\n",
       "<script type=\"text/javascript\">\n",
       "\n",
       "var ldavis_el234442148939366800250107552_data = {\"mdsDat\": {\"x\": [-0.007925679227320463, -0.012888595326029697, -0.019114593070902797, 0.03992886762425296], \"y\": [-0.015126060571483625, -0.01858227565714459, 0.028882443716428147, 0.004825892512200068], \"topics\": [1, 2, 3, 4], \"cluster\": [1, 1, 1, 1], \"Freq\": [35.09744612508508, 29.87425837370467, 24.037287013096734, 10.991008488113515]}, \"tinfo\": {\"Term\": [\"local\", \"school\", \"Trump\", \"protect\", \"believe\", \"heart\", \"risk\", \"forward\", \"issue\", \"food\", \"deal\", \"course\", \"bad\", \"game\", \"patient\", \"ensure\", \"kid\", \"President\", \"away\", \"step\", \"law\", \"wear\", \"understand\", \"share\", \"million\", \"lose\", \"character\", \"month\", \"point\", \"house\", \"vegan\", \"lighting\", \"Myanmar\", \"amid\", \"Pro\", \"liquid\", \"leading\", \"chamber\", \"overdue\", \"edition\", \"theirs\", \"SBA\", \"lesbian\", \"uplifting\", \"tolerance\", \"orient\", \"aboriginal\", \"pragmatic\", \"emphasis\", \"adequate\", \"framework\", \"Jean\", \"Lara\", \"activate\", \"Squad\", \"facial\", \"appalling\", \"grandma\", \"interval\", \"fraud\", \"stone\", \"imperative\", \"adapt\", \"hold_accountable\", \"kinda\", \"combination\", \"locate\", \"surprised\", \"globally\", \"Democrat\", \"difficult_time\", \"build\", \"acid\", \"payment\", \"projection\", \"follow\", \"individual\", \"accountable\", \"use\", \"worker\", \"plan\", \"exist\", \"hang\", \"ability\", \"store\", \"create\", \"hand\", \"large\", \"meet\", \"kid\", \"school\", \"public_health\", \"role\", \"exactly\", \"future\", \"idea\", \"issue\", \"allow\", \"base\", \"open\", \"strong\", \"industry\", \"ensure\", \"close\", \"situation\", \"forward\", \"young\", \"old\", \"process\", \"let\", \"remain\", \"person\", \"win\", \"impact\", \"student\", \"month\", \"leave\", \"face\", \"believe\", \"hear\", \"actually\", \"disagree\", \"exemplary\", \"readily\", \"Bharat\", \"retaliation\", \"frighten\", \"ako\", \"pasta\", \"standpoint\", \"making\", \"Welsh\", \"tribal\", \"schooling\", \"liberty\", \"leisure\", \"newspaper\", \"organic\", \"usher\", \"molecule\", \"ain\", \"uniquely\", \"Virginia\", \"nila\", \"junior\", \"evaluation\", \"Afghanistan\", \"Drive\", \"Kenny\", \"curiosity\", \"slice\", \"Lakes\", \"bias\", \"Iowa\", \"cycle\", \"New Zealanders\", \"pollution\", \"Kobe\", \"New_Zealanders\", \"Zealanders\", \"domestic_violence\", \"familiar\", \"White\", \"journalist\", \"frame\", \"threat\", \"body\", \"room\", \"story\", \"food\", \"game\", \"film\", \"hear\", \"expression\", \"friend\", \"real\", \"fight\", \"law\", \"break\", \"housing\", \"face\", \"set\", \"person\", \"young\", \"win\", \"thank\", \"leave\", \"include\", \"deal\", \"social\", \"lose\", \"especially\", \"watch\", \"student\", \"pay\", \"wasn\", \"feel_like\", \"protect\", \"decision\", \"doesn\", \"number\", \"school\", \"issue\", \"let\", \"future\", \"understand\", \"impact\", \"dip\", \"Border\", \"Code\", \"dye\", \"underline\", \"anonymous\", \"George\", \"Sindh\", \"enthusiastic\", \"ensemble\", \"invaluable\", \"satisfied\", \"nationalist\", \"awe\", \"Hindi\", \"lodge\", \"admiration\", \"centenary\", \"congratulate\", \"idiot\", \"dirt\", \"timeline\", \"Youth\", \"Mississippi\", \"Bigg Boss\", \"brutal\", \"Paul\", \"ask_question\", \"statewide\", \"Golden\", \"repayment\", \"recycle\", \"Greece\", \"hai\", \"coat\", \"clinical\", \"clinic\", \"Boss\", \"restore\", \"setting\", \"nurse\", \"Wales\", \"character\", \"quarter\", \"risk\", \"stop\", \"belong\", \"understand\", \"question\", \"musical\", \"actually\", \"ensure\", \"service\", \"World\", \"challenge\", \"patient\", \"conversation\", \"force\", \"feel_like\", \"story\", \"impact\", \"emergency\", \"away\", \"New\", \"point\", \"face\", \"don_know\", \"man\", \"let\", \"win\", \"believe\", \"create\", \"use\", \"include\", \"number\", \"term\", \"set\", \"decision\", \"situation\", \"leave\", \"forward\", \"system\", \"pay\", \"school\", \"reassurance\", \"generic\", \"furlough\", \"accuracy\", \"Group\", \"differentiate\", \"lovingly\", \"bass\", \"hunger\", \"therapist\", \"metropolitan\", \"stadium\", \"bowling\", \"premiere\", \"tireless\", \"ukrainian\", \"adolescent\", \"Robert\", \"calculate\", \"butter\", \"scan\", \"hostility\", \"memorial\", \"license\", \"bespoke\", \"enrolment\", \"liver\", \"trans\", \"Wellington\", \"functional\", \"70 %\", \"marine\", \"convict\", \"app\", \"rugby\", \"predict\", \"pension\", \"wave\", \"cruise_ship\", \"local\", \"enthusiasm\", \"Trump\", \"toxic\", \"school\", \"President\", \"protect\", \"heart\", \"believe\", \"course\", \"Day\", \"animal\", \"touch\", \"forward\", \"second\", \"issue\", \"bad\", \"deal\", \"house\", \"kid\", \"step\", \"struggle\", \"risk\", \"million\", \"food\", \"share\", \"test\", \"month\", \"lose\", \"ensure\", \"patient\", \"point\", \"game\", \"law\", \"create\", \"virus\", \"strong\", \"away\", \"understand\", \"person\", \"close\", \"moment\", \"face\", \"feel_like\"], \"Freq\": [262.0, 389.0, 165.0, 297.0, 327.0, 180.0, 292.0, 307.0, 352.0, 234.0, 213.0, 174.0, 246.0, 292.0, 219.0, 359.0, 266.0, 109.0, 249.0, 271.0, 203.0, 112.0, 327.0, 250.0, 167.0, 253.0, 159.0, 263.0, 287.0, 165.0, 17.349061887880048, 8.218004030359301, 10.033265437316297, 6.298747374146282, 6.2671346052622114, 9.849954835641622, 7.109040293862458, 7.996381124329465, 7.075659284794817, 5.303134469196319, 6.175141877183564, 6.160744836983991, 6.132398346447352, 5.244570024695985, 5.236197231773775, 6.102861318921774, 6.9971233112355895, 5.230866922267742, 9.567914237550893, 14.679762591524412, 18.96543205535157, 8.59097129462747, 7.604119787751664, 5.872967108368786, 5.872585442594554, 5.006148620066665, 4.9888613290495005, 6.679903971538366, 4.982238560444364, 13.2642639884533, 9.031196742537425, 9.6987154354912, 24.53645122581458, 14.339327997398431, 9.679624339979682, 17.013619308596578, 10.452301495378673, 15.795923330132165, 15.264497110625095, 13.038106199087819, 32.65983423878632, 118.17885154557979, 15.45452502992625, 22.286593941117548, 13.371557176967572, 98.53061421559426, 84.75312512795367, 21.07716796604297, 146.33984557656393, 108.4657074089782, 124.83020344751677, 53.31838597911857, 27.227191464459903, 56.48414744037279, 48.73811911322846, 138.46157005864828, 107.38748771801795, 77.13875414447502, 106.7245273287996, 115.47142557322283, 154.3504966637386, 57.31100205242398, 85.1798205241671, 41.28375283137435, 116.93657802609928, 94.40532071009929, 137.3315479130582, 106.91939199436693, 82.45554574272224, 96.0211686893979, 106.55093185592355, 103.04109175982165, 135.652176870172, 107.60154670234027, 119.25784150746622, 119.13791518182488, 109.3843491700433, 101.38743111136326, 93.0325660714755, 120.0132899228475, 87.35737643246921, 116.5014651647196, 123.057803107006, 114.47874065195677, 107.66798430456747, 100.47474333637619, 109.74887468132322, 111.37858059791529, 106.46629920533208, 103.18436215209056, 101.48880154099922, 6.008476202676774, 5.936303434050204, 5.922448988398566, 5.048756539645797, 5.039826404541928, 5.884772604420446, 7.5236133525289075, 5.839275061190131, 5.797894830767318, 13.313875298905666, 9.96659855383461, 4.940830005628166, 4.946803856237956, 4.879988799507313, 5.63066836032948, 7.309721296385821, 6.475623051035092, 4.788573970855154, 8.060278663131124, 10.432592126373809, 4.760075432632193, 9.604386515025888, 7.907542712044137, 4.766874000969227, 7.909821945369118, 5.503339917237067, 4.728133310273271, 7.849621242944222, 7.796757353460802, 5.359705025295004, 7.676870566566149, 11.308771649132149, 18.25921651788519, 23.1930426986605, 13.842821340180809, 11.246336013349715, 11.196700853160154, 14.380773564837266, 14.351046810016927, 15.66959251767834, 11.676873368612517, 18.440302971470594, 15.162763973482283, 15.176470383409379, 35.75759586157975, 83.80136241399664, 71.58286435342657, 136.12460918807068, 99.29661683979684, 117.1217542200221, 110.94307828075922, 118.54932362422817, 17.892073154367186, 112.41110832189725, 96.11432572514376, 106.16300547365653, 82.7999882299111, 73.17688350197464, 35.995705233258754, 127.03498829474117, 102.1557839919152, 111.61700482548753, 101.3527259954195, 119.6350862929629, 92.59324617946784, 110.377775256203, 100.63774814752666, 81.09074191271067, 90.39781657956573, 91.26851176635454, 70.73422464376243, 77.76488346356588, 99.77802163267692, 94.66914856054437, 63.0021142327923, 95.48788874551515, 95.51585679162797, 92.55478790106433, 87.45394788969492, 91.18636190672684, 104.87998390988825, 99.53251711976598, 96.21383526534707, 89.32539115436273, 91.69904838328455, 88.83664438021162, 9.340334032301557, 5.8196013976957985, 5.810339785584224, 7.432025491512759, 4.920681445253916, 5.708158480593654, 4.856462947701441, 5.664624151078046, 4.847585107329705, 7.965794356459313, 4.772613575138002, 6.3498497807069345, 5.495207344230407, 5.450993988246324, 5.4565729362475945, 4.597812676528515, 5.276632704323339, 5.2726951825096435, 5.238333354020509, 4.47124493495205, 6.719003738145033, 7.425318991248001, 6.673370545538329, 5.9338643836044636, 7.329166942275415, 6.638992082979976, 8.082517402390687, 18.181297860727536, 6.498440732892395, 4.964133792571229, 5.661826657079752, 7.205972649343952, 8.585370661545944, 33.31474709993705, 9.752606467524789, 17.3884777247251, 14.148372531173958, 7.675831044055535, 14.273173199932854, 15.23448695194128, 29.06118509996715, 15.317893739448714, 64.188330479798, 23.75521167976321, 100.26847732961896, 89.90247708409191, 14.989322158313751, 103.8989247203498, 63.006237479637086, 14.838540261582589, 92.39576247191793, 104.64002478255918, 86.95753394364938, 30.71305510671525, 72.63698335013743, 70.66713885249467, 45.55697054895118, 50.73822171815111, 85.95014619619995, 96.48755339614192, 90.05788681650935, 51.85987601595261, 75.18693388290576, 67.38918639887912, 79.96314546662322, 94.00068400644322, 69.42246373134071, 77.31722585964371, 86.20682414202263, 89.69819170371785, 84.97857397607461, 83.97318231693146, 85.35213715000354, 74.85632938088267, 74.65847425640956, 71.33177447479994, 72.91881676121042, 72.75179169588692, 75.15936885391429, 74.69237448947787, 73.30001734920648, 71.79145460137121, 70.9779868328768, 71.05688935206929, 4.253513341688251, 4.822063314255789, 4.01408966730235, 4.35385553271753, 6.470171068820557, 4.078036269693293, 3.485061851460822, 3.4391015722112654, 6.445874565255477, 4.707249540700799, 3.079851021398258, 3.5540389416376623, 4.024227245150486, 5.05666240342838, 3.5155767213736935, 3.035699316460408, 4.03520663312058, 5.4923250830913615, 3.4164243103812533, 2.9194078252340923, 4.418849304524459, 3.3548464024928752, 2.859401078928609, 2.8121445370453086, 2.842922897057663, 3.7748039856695788, 2.7903278284474213, 5.140812448746255, 2.766409446757063, 2.743277732415262, 3.1871629330177704, 6.189840420670333, 6.904302246235206, 10.939568911636183, 4.032730641103276, 10.010234441253804, 5.8128952873003135, 10.670592785298716, 6.891922557787965, 51.640517322420706, 5.612141365586633, 34.032053108934136, 6.737805297125607, 58.920928053050254, 24.73689820096296, 47.66849914646668, 33.97167313026093, 48.81306536879184, 31.40239801184063, 13.7964252738102, 21.15557553862206, 21.2037708658495, 43.470963868954605, 23.25079882808114, 46.545568449341104, 37.06144170169229, 33.76397121909924, 28.23459508179217, 36.93687010199955, 37.26293719863441, 20.380082343395777, 38.545344056095125, 27.889093824665157, 33.77174010244481, 34.9354970964692, 27.423784434221208, 35.149848737151856, 33.82020272272162, 40.31939627526272, 30.851048509983755, 35.403620669831334, 35.572132639103785, 29.6054324763106, 36.59575636248784, 33.909934955198636, 32.80516714674503, 32.07381207449271, 35.12748956491617, 34.74032970814311, 32.30111330282746, 32.26794723356309, 35.15216093068463, 32.68945533373758], \"Total\": [262.0, 389.0, 165.0, 297.0, 327.0, 180.0, 292.0, 307.0, 352.0, 234.0, 213.0, 174.0, 246.0, 292.0, 219.0, 359.0, 266.0, 109.0, 249.0, 271.0, 203.0, 112.0, 327.0, 250.0, 167.0, 253.0, 159.0, 263.0, 287.0, 165.0, 18.251579863274937, 9.070948036557013, 11.105219580473664, 7.052675238188697, 7.044505600744, 11.091298649803349, 8.056614359073533, 9.067555010863012, 8.051110594637318, 6.035646399426967, 7.041616153336195, 7.046369856055683, 7.043541599395973, 6.028906770644472, 6.021729298800018, 7.021249602433528, 8.057657989208593, 6.02723485182924, 11.034418795365042, 17.009352372592968, 22.15145811299799, 10.073844253872997, 9.058525831530885, 7.020907432343728, 7.026143816298519, 6.013821804530969, 5.994178589892924, 8.026444636700715, 6.015243366994512, 16.084579254186835, 10.994169377665086, 11.891563904475127, 31.102480986845073, 18.093891536045664, 11.951902315992687, 22.057141952804166, 12.99136211065083, 20.830878204217562, 20.05040642710771, 16.89644799297808, 50.26392983675986, 228.6104987070187, 20.946785207523508, 32.82127725542239, 17.839714381110962, 198.3831607844471, 165.27674296087918, 30.89399596379198, 338.00920034239164, 233.63766578385852, 278.1380723591724, 98.50709226571277, 42.54572601038581, 106.40431706084887, 88.86874414625402, 328.35076111429805, 238.98851068452018, 158.31439632343373, 240.9828210669366, 266.69601145212397, 389.2082979787464, 109.97618360696588, 186.3319248547938, 72.8023863859276, 281.7527013080236, 214.25466402194738, 352.4925578400167, 254.1530391762495, 182.5740857309615, 224.14172663045176, 258.13790430361774, 247.78306851665337, 359.4459121389636, 262.9967135742408, 305.6512412954958, 307.0851874655384, 281.75130224858583, 253.58288692989768, 224.1108530035931, 331.80097161828746, 205.8481475986436, 319.73025937746905, 353.813725860916, 317.6528946624775, 299.60811038510735, 263.8893747887103, 326.4236785257647, 367.5664138297843, 327.95152563711486, 297.3365596895463, 287.1938066576588, 6.827047173522076, 6.820722701504346, 6.823247108193627, 5.843713435246289, 5.843479689689099, 6.829262588240878, 8.73650776315094, 6.830644173516753, 6.78907620132953, 15.637368608337704, 11.752186543773592, 5.82875120175009, 5.836942127583283, 5.832914467172733, 6.7626714943266375, 8.787963317522848, 7.795188490114977, 5.80428399612512, 9.79251728173799, 12.678492406891488, 5.800673340452202, 11.740012141186249, 9.673269349333333, 5.831635432520862, 9.743304991614668, 6.803009568423366, 5.850359859622669, 9.722689459003378, 9.671398192671647, 6.733837272878158, 9.691328817497384, 14.633655869333522, 24.278774495155695, 31.362612761988334, 18.372040905514176, 14.663633777758463, 14.606804617342439, 19.28524518066143, 19.287000556873924, 21.35409525121003, 15.615148638849488, 26.469699197916214, 21.33737385608466, 21.493337132950618, 61.69723607211486, 183.65025459879126, 153.21499640427845, 349.0923430863735, 234.7201522923395, 292.06043840222026, 273.1170797013259, 297.3365596895463, 27.336342404369393, 293.03695078708904, 241.64836511036708, 279.16390336416043, 203.33615142187418, 172.85539854843577, 68.43291814253882, 367.5664138297843, 278.230731399363, 319.73025937746905, 281.75130224858583, 353.813725860916, 255.0323804783873, 326.4236785257647, 287.89762973296547, 213.30752269026306, 248.22966286873822, 253.50635669271185, 178.2988500823421, 206.6155638925072, 299.60811038510735, 282.5929019173258, 153.9112513643587, 295.42978083600065, 297.39316867110625, 284.24384945068783, 263.60918358412835, 286.6541308164235, 389.2082979787464, 352.4925578400167, 331.80097161828746, 281.7527013080236, 327.5037799208694, 317.6528946624775, 10.505391021976843, 6.682473306371771, 6.680709662355262, 8.55593235118143, 5.720577708478875, 6.685113324985337, 5.7251956599964124, 6.685361288395651, 5.721789508043295, 9.501569285898688, 5.725998060489433, 7.620060475971391, 6.677206326041432, 6.674550786166789, 6.693437462491766, 5.709756816850136, 6.712096467745318, 6.714923122317138, 6.686791585595334, 5.719082418508744, 8.611392086908028, 9.57638326005187, 8.617875030052788, 7.6726065967534325, 9.491089314022965, 8.635539928406793, 10.58734534449755, 23.8631874479464, 8.580639968957469, 6.55840025703533, 7.494042709551184, 9.627660647173782, 11.589956443930035, 50.62018374423665, 13.535635495511722, 26.220906624928034, 21.28662279612345, 10.422371076761744, 22.04848595939492, 23.957641300226346, 54.58012262195024, 24.93499047702811, 159.91432951563345, 44.70411190674409, 292.26095140119014, 255.52229487010538, 24.928491019067092, 327.5037799208694, 170.75329883678117, 24.89134153579583, 287.1938066576588, 359.4459121389636, 283.67057386436613, 67.76268215641123, 224.60117130566854, 219.0618686471359, 118.94386572112931, 139.3756423330193, 295.42978083600065, 349.0923430863735, 317.6528946624775, 145.83802821127355, 249.07464083678866, 220.30068302203392, 287.52041215550486, 367.5664138297843, 235.0073282153575, 277.6799633922167, 331.80097161828746, 353.813725860916, 327.95152563711486, 328.35076111429805, 338.00920034239164, 287.89762973296547, 286.6541308164235, 264.2626586451695, 278.230731399363, 284.24384945068783, 305.6512412954958, 326.4236785257647, 307.0851874655384, 290.760666489146, 282.5929019173258, 389.2082979787464, 5.14107603862368, 6.022594927682459, 5.1899497483744765, 6.093721236127437, 9.69618096425606, 6.1533929959764695, 5.2755845628491365, 5.256910599107002, 10.600197566237238, 7.985526963116863, 5.370403537576452, 6.25329285323456, 7.135429912465594, 8.977263862031968, 6.245084905025243, 5.396326572966036, 7.177957947450181, 9.956747243586634, 6.2367719707555445, 5.339942383762163, 8.094775790765574, 6.27833060744007, 5.426695464380822, 5.357278847919996, 5.435135613838902, 7.234555300233114, 5.36082911479827, 9.885903322841646, 5.397360685147418, 5.36177399219169, 6.262211995680756, 12.669418943425935, 14.469901576137138, 24.63998154312288, 8.161583338289407, 24.723850501279564, 12.932345108264435, 27.598622339434307, 16.601937146661506, 262.16825613545205, 12.639097267499269, 165.86134090062552, 16.47339242745913, 389.2082979787464, 109.9422275080564, 297.39316867110625, 180.695853514786, 327.95152563711486, 174.2236330607062, 49.07337940698614, 95.76525988195148, 98.18548963831108, 307.0851874655384, 114.08975710495594, 352.4925578400167, 246.77228051003817, 213.30752269026306, 165.90488731140843, 266.69601145212397, 271.3418999906914, 96.01690778892146, 292.26095140119014, 167.51573397121348, 234.7201522923395, 250.63235086043335, 165.31934826867425, 263.8893747887103, 253.50635669271185, 359.4459121389636, 219.0618686471359, 287.52041215550486, 292.06043840222026, 203.33615142187418, 328.35076111429805, 277.45052747810746, 258.13790430361774, 249.07464083678866, 327.5037799208694, 319.73025937746905, 262.9967135742408, 266.1132473660599, 367.5664138297843, 295.42978083600065], \"Category\": [\"Default\", \"Default\", \"Default\", \"Default\", \"Default\", \"Default\", \"Default\", \"Default\", \"Default\", \"Default\", \"Default\", \"Default\", \"Default\", \"Default\", \"Default\", \"Default\", \"Default\", \"Default\", \"Default\", \"Default\", \"Default\", \"Default\", \"Default\", \"Default\", \"Default\", \"Default\", \"Default\", \"Default\", \"Default\", \"Default\", \"Topic1\", \"Topic1\", \"Topic1\", \"Topic1\", \"Topic1\", \"Topic1\", \"Topic1\", \"Topic1\", \"Topic1\", \"Topic1\", \"Topic1\", \"Topic1\", \"Topic1\", \"Topic1\", \"Topic1\", \"Topic1\", \"Topic1\", \"Topic1\", \"Topic1\", \"Topic1\", \"Topic1\", \"Topic1\", \"Topic1\", \"Topic1\", \"Topic1\", \"Topic1\", \"Topic1\", \"Topic1\", \"Topic1\", \"Topic1\", \"Topic1\", \"Topic1\", \"Topic1\", \"Topic1\", \"Topic1\", \"Topic1\", \"Topic1\", \"Topic1\", \"Topic1\", \"Topic1\", \"Topic1\", \"Topic1\", \"Topic1\", \"Topic1\", \"Topic1\", \"Topic1\", \"Topic1\", \"Topic1\", \"Topic1\", \"Topic1\", \"Topic1\", \"Topic1\", \"Topic1\", \"Topic1\", \"Topic1\", \"Topic1\", \"Topic1\", \"Topic1\", \"Topic1\", \"Topic1\", \"Topic1\", \"Topic1\", \"Topic1\", \"Topic1\", \"Topic1\", \"Topic1\", \"Topic1\", \"Topic1\", \"Topic1\", \"Topic1\", \"Topic1\", \"Topic1\", \"Topic1\", \"Topic1\", \"Topic1\", \"Topic1\", \"Topic1\", \"Topic1\", \"Topic1\", \"Topic1\", \"Topic1\", \"Topic1\", \"Topic1\", \"Topic1\", \"Topic1\", \"Topic1\", \"Topic1\", \"Topic1\", \"Topic1\", \"Topic1\", \"Topic1\", \"Topic2\", \"Topic2\", \"Topic2\", \"Topic2\", \"Topic2\", \"Topic2\", \"Topic2\", \"Topic2\", \"Topic2\", \"Topic2\", \"Topic2\", \"Topic2\", \"Topic2\", \"Topic2\", \"Topic2\", \"Topic2\", \"Topic2\", \"Topic2\", \"Topic2\", \"Topic2\", \"Topic2\", \"Topic2\", \"Topic2\", \"Topic2\", \"Topic2\", \"Topic2\", \"Topic2\", \"Topic2\", \"Topic2\", \"Topic2\", \"Topic2\", \"Topic2\", \"Topic2\", \"Topic2\", \"Topic2\", \"Topic2\", \"Topic2\", \"Topic2\", \"Topic2\", \"Topic2\", \"Topic2\", \"Topic2\", \"Topic2\", \"Topic2\", \"Topic2\", \"Topic2\", \"Topic2\", \"Topic2\", \"Topic2\", \"Topic2\", \"Topic2\", \"Topic2\", \"Topic2\", \"Topic2\", \"Topic2\", \"Topic2\", \"Topic2\", \"Topic2\", \"Topic2\", \"Topic2\", \"Topic2\", \"Topic2\", \"Topic2\", \"Topic2\", \"Topic2\", \"Topic2\", \"Topic2\", \"Topic2\", \"Topic2\", \"Topic2\", \"Topic2\", \"Topic2\", \"Topic2\", \"Topic2\", \"Topic2\", \"Topic2\", \"Topic2\", \"Topic2\", \"Topic2\", \"Topic2\", \"Topic2\", \"Topic2\", \"Topic2\", \"Topic2\", \"Topic2\", \"Topic2\", \"Topic3\", \"Topic3\", \"Topic3\", \"Topic3\", \"Topic3\", \"Topic3\", \"Topic3\", \"Topic3\", \"Topic3\", \"Topic3\", \"Topic3\", \"Topic3\", \"Topic3\", \"Topic3\", \"Topic3\", \"Topic3\", \"Topic3\", \"Topic3\", \"Topic3\", \"Topic3\", \"Topic3\", \"Topic3\", \"Topic3\", \"Topic3\", \"Topic3\", \"Topic3\", \"Topic3\", \"Topic3\", \"Topic3\", \"Topic3\", \"Topic3\", \"Topic3\", \"Topic3\", \"Topic3\", \"Topic3\", \"Topic3\", \"Topic3\", \"Topic3\", \"Topic3\", \"Topic3\", \"Topic3\", \"Topic3\", \"Topic3\", \"Topic3\", \"Topic3\", \"Topic3\", \"Topic3\", \"Topic3\", \"Topic3\", \"Topic3\", \"Topic3\", \"Topic3\", \"Topic3\", \"Topic3\", \"Topic3\", \"Topic3\", \"Topic3\", \"Topic3\", \"Topic3\", \"Topic3\", \"Topic3\", \"Topic3\", \"Topic3\", \"Topic3\", \"Topic3\", \"Topic3\", \"Topic3\", \"Topic3\", \"Topic3\", \"Topic3\", \"Topic3\", \"Topic3\", \"Topic3\", \"Topic3\", \"Topic3\", \"Topic3\", \"Topic3\", \"Topic3\", \"Topic3\", \"Topic3\", \"Topic3\", \"Topic3\", \"Topic3\", \"Topic3\", \"Topic4\", \"Topic4\", \"Topic4\", \"Topic4\", \"Topic4\", \"Topic4\", \"Topic4\", \"Topic4\", \"Topic4\", \"Topic4\", \"Topic4\", \"Topic4\", \"Topic4\", \"Topic4\", \"Topic4\", \"Topic4\", \"Topic4\", \"Topic4\", \"Topic4\", \"Topic4\", \"Topic4\", \"Topic4\", \"Topic4\", \"Topic4\", \"Topic4\", \"Topic4\", \"Topic4\", \"Topic4\", \"Topic4\", \"Topic4\", \"Topic4\", \"Topic4\", \"Topic4\", \"Topic4\", \"Topic4\", \"Topic4\", \"Topic4\", \"Topic4\", \"Topic4\", \"Topic4\", \"Topic4\", \"Topic4\", \"Topic4\", \"Topic4\", \"Topic4\", \"Topic4\", \"Topic4\", \"Topic4\", \"Topic4\", \"Topic4\", \"Topic4\", \"Topic4\", \"Topic4\", \"Topic4\", \"Topic4\", \"Topic4\", \"Topic4\", \"Topic4\", \"Topic4\", \"Topic4\", \"Topic4\", \"Topic4\", \"Topic4\", \"Topic4\", \"Topic4\", \"Topic4\", \"Topic4\", \"Topic4\", \"Topic4\", \"Topic4\", \"Topic4\", \"Topic4\", \"Topic4\", \"Topic4\", \"Topic4\", \"Topic4\", \"Topic4\", \"Topic4\", \"Topic4\", \"Topic4\", \"Topic4\", \"Topic4\", \"Topic4\"], \"logprob\": [30.0, 29.0, 28.0, 27.0, 26.0, 25.0, 24.0, 23.0, 22.0, 21.0, 20.0, 19.0, 18.0, 17.0, 16.0, 15.0, 14.0, 13.0, 12.0, 11.0, 10.0, 9.0, 8.0, 7.0, 6.0, 5.0, 4.0, 3.0, 2.0, 1.0, -8.142, -8.8892, -8.6897, -9.1552, -9.1602, -8.7081, -9.0342, -8.9166, -9.0389, -9.3273, -9.175, -9.1774, -9.182, -9.3384, -9.34, -9.1868, -9.0501, -9.341, -8.7371, -8.3091, -8.0529, -8.8448, -8.9669, -9.2252, -9.2253, -9.3849, -9.3884, -9.0965, -9.3897, -8.4105, -8.7949, -8.7236, -7.7954, -8.3326, -8.7255, -8.1615, -8.6487, -8.2358, -8.27, -8.4277, -7.5094, -6.2234, -8.2577, -7.8916, -8.4024, -6.4052, -6.5558, -7.9474, -6.0096, -6.3091, -6.1686, -7.0193, -7.6913, -6.9616, -7.1091, -6.065, -6.3191, -6.65, -6.3253, -6.2465, -5.9563, -6.9471, -6.5508, -7.2751, -6.2339, -6.448, -6.0732, -6.3235, -6.5833, -6.431, -6.3269, -6.3604, -6.0855, -6.3171, -6.2143, -6.2153, -6.3007, -6.3766, -6.4626, -6.208, -6.5256, -6.2377, -6.1829, -6.2552, -6.3165, -6.3857, -6.2974, -6.2826, -6.3277, -6.359, -6.3756, -9.0413, -9.0533, -9.0557, -9.2153, -9.2171, -9.0621, -8.8164, -9.0698, -9.0769, -8.2456, -8.5352, -9.2369, -9.2357, -9.2493, -9.1062, -8.8452, -8.9664, -9.2682, -8.7475, -8.4895, -9.2742, -8.5722, -8.7666, -9.2727, -8.7663, -9.1291, -9.2809, -8.774, -8.7807, -9.1555, -8.7962, -8.4088, -7.9298, -7.6906, -8.2067, -8.4144, -8.4188, -8.1685, -8.1706, -8.0827, -8.3768, -7.9199, -8.1156, -8.1147, -7.2577, -6.406, -6.5636, -5.9209, -6.2363, -6.0712, -6.1254, -6.0591, -7.9501, -6.1123, -6.2689, -6.1695, -6.418, -6.5415, -7.251, -5.99, -6.2079, -6.1194, -6.2158, -6.05, -6.3062, -6.1305, -6.2229, -6.4389, -6.3302, -6.3206, -6.5755, -6.4807, -6.2315, -6.284, -6.6913, -6.2754, -6.2751, -6.3066, -6.3633, -6.3215, -6.1816, -6.2339, -6.2679, -6.3421, -6.3159, -6.3476, -8.3827, -8.8558, -8.8574, -8.6112, -9.0236, -8.8751, -9.0367, -8.8828, -9.0386, -8.5419, -9.0541, -8.7686, -8.9132, -8.9212, -8.9202, -9.0915, -8.9537, -8.9545, -8.961, -9.1194, -8.7121, -8.6121, -8.7189, -8.8364, -8.6252, -8.7241, -8.5273, -7.7166, -8.7455, -9.0148, -8.8833, -8.6421, -8.467, -7.111, -8.3395, -7.7612, -7.9674, -8.579, -7.9587, -7.8935, -7.2476, -7.888, -6.4552, -7.4492, -6.0092, -6.1183, -7.9097, -5.9736, -6.4738, -7.9198, -6.091, -5.9665, -6.1516, -7.1923, -6.3316, -6.3591, -6.7981, -6.6904, -6.1633, -6.0476, -6.1166, -6.6685, -6.2971, -6.4066, -6.2355, -6.0737, -6.3768, -6.2691, -6.1603, -6.1206, -6.1746, -6.1865, -6.1703, -6.3015, -6.3041, -6.3497, -6.3277, -6.33, -6.2974, -6.3037, -6.3225, -6.3433, -6.3547, -6.3536, -8.3868, -8.2613, -8.4447, -8.3634, -7.9673, -8.4289, -8.586, -8.5993, -7.9711, -8.2854, -8.7096, -8.5664, -8.4422, -8.2138, -8.5773, -8.7241, -8.4395, -8.1312, -8.6059, -8.7631, -8.3486, -8.6241, -8.7839, -8.8006, -8.7897, -8.5062, -8.8083, -8.1973, -8.817, -8.8254, -8.6754, -8.0116, -7.9024, -7.4421, -8.4401, -7.5309, -8.0744, -7.467, -7.9042, -5.8902, -8.1096, -6.3072, -7.9268, -5.7583, -6.6262, -5.9702, -6.309, -5.9465, -6.3876, -7.2101, -6.7826, -6.7803, -6.0624, -6.6882, -5.9941, -6.2219, -6.3151, -6.494, -6.2253, -6.2165, -6.8199, -6.1827, -6.5063, -6.3149, -6.281, -6.5231, -6.2749, -6.3134, -6.1377, -6.4053, -6.2677, -6.2629, -6.4465, -6.2346, -6.3108, -6.3439, -6.3665, -6.2755, -6.2866, -6.3594, -6.3604, -6.2748, -6.3475], \"loglift\": [30.0, 29.0, 28.0, 27.0, 26.0, 25.0, 24.0, 23.0, 22.0, 21.0, 20.0, 19.0, 18.0, 17.0, 16.0, 15.0, 14.0, 13.0, 12.0, 11.0, 10.0, 9.0, 8.0, 7.0, 6.0, 5.0, 4.0, 3.0, 2.0, 1.0, 0.9963, 0.9483, 0.9455, 0.934, 0.9301, 0.9283, 0.9219, 0.9213, 0.9179, 0.9177, 0.9157, 0.9127, 0.9085, 0.9077, 0.9073, 0.9069, 0.9059, 0.9053, 0.9044, 0.8997, 0.8918, 0.8878, 0.872, 0.8685, 0.8677, 0.8636, 0.8635, 0.8634, 0.8586, 0.8543, 0.8504, 0.8432, 0.8099, 0.8145, 0.8362, 0.7874, 0.8296, 0.7704, 0.7743, 0.7878, 0.6159, 0.3872, 0.743, 0.66, 0.7587, 0.3472, 0.3792, 0.6647, 0.2099, 0.2797, 0.2459, 0.4332, 0.6007, 0.4138, 0.4463, 0.1836, 0.2471, 0.3281, 0.2326, 0.21, 0.1222, 0.3953, 0.2643, 0.4798, 0.1676, 0.2275, 0.1044, 0.1812, 0.2521, 0.1993, 0.1622, 0.1696, 0.0726, 0.1533, 0.1059, 0.1002, 0.1009, 0.1303, 0.1679, 0.0301, 0.1899, 0.0375, -0.0091, 0.0265, 0.0236, 0.0814, -0.043, -0.1469, -0.078, -0.0113, 0.0068, 1.0805, 1.0693, 1.0666, 1.0619, 1.0602, 1.0593, 1.0587, 1.0514, 1.0504, 1.0473, 1.0434, 1.0429, 1.0427, 1.0298, 1.025, 1.024, 1.0227, 1.0158, 1.0135, 1.0132, 1.0105, 1.0074, 1.0066, 1.0066, 0.9997, 0.9962, 0.9952, 0.9942, 0.9927, 0.9799, 0.9752, 0.9504, 0.9232, 0.9064, 0.9251, 0.9428, 0.9423, 0.9147, 0.9126, 0.8987, 0.9175, 0.8467, 0.8666, 0.8602, 0.6627, 0.4236, 0.4472, 0.2664, 0.3479, 0.2944, 0.3073, 0.2886, 0.7843, 0.25, 0.2862, 0.2413, 0.3097, 0.3486, 0.5657, 0.1457, 0.2062, 0.1558, 0.1858, 0.1238, 0.195, 0.1239, 0.1571, 0.241, 0.198, 0.1866, 0.2836, 0.231, 0.1086, 0.1146, 0.315, 0.0787, 0.0724, 0.0861, 0.1048, 0.0628, -0.1031, -0.0564, -0.0298, 0.0594, -0.0648, -0.066, 1.308, 1.2873, 1.286, 1.2847, 1.2749, 1.2676, 1.261, 1.2599, 1.2598, 1.2493, 1.2434, 1.2432, 1.2307, 1.2231, 1.2213, 1.209, 1.1849, 1.1838, 1.1814, 1.1794, 1.1774, 1.1712, 1.1699, 1.1686, 1.1671, 1.1626, 1.1556, 1.1536, 1.1476, 1.1471, 1.1452, 1.1358, 1.1255, 1.0072, 1.0978, 1.0148, 1.0171, 1.1197, 0.9907, 0.9728, 0.7953, 0.9383, 0.5127, 0.7933, 0.3558, 0.381, 0.9169, 0.2775, 0.4286, 0.9083, 0.2915, 0.1915, 0.2432, 0.6342, 0.2967, 0.2942, 0.4659, 0.4151, 0.1909, 0.1396, 0.1651, 0.3916, 0.2278, 0.2411, 0.1458, 0.062, 0.2062, 0.147, 0.0778, 0.0532, 0.0751, 0.062, 0.0493, 0.0785, 0.0802, 0.116, 0.0865, 0.0628, 0.0227, -0.0493, -0.007, 0.0268, 0.0439, -0.2751, 2.0186, 1.9858, 1.9512, 1.8719, 1.8036, 1.7967, 1.7935, 1.7838, 1.7107, 1.6796, 1.6521, 1.6431, 1.6354, 1.6341, 1.6335, 1.6328, 1.6321, 1.6132, 1.6062, 1.6043, 1.6028, 1.5814, 1.5674, 1.5636, 1.56, 1.5576, 1.5551, 1.5542, 1.5397, 1.538, 1.5327, 1.4918, 1.4682, 1.3961, 1.5031, 1.3039, 1.4084, 1.2578, 1.3289, 0.5834, 1.3962, 0.6242, 1.3141, 0.3202, 0.7164, 0.3773, 0.5368, 0.3032, 0.4946, 0.9392, 0.6981, 0.6754, 0.2531, 0.6174, 0.1835, 0.3122, 0.3648, 0.4372, 0.2312, 0.2227, 0.6581, 0.1823, 0.4153, 0.2693, 0.2376, 0.4116, 0.1922, 0.1938, 0.0204, 0.2479, 0.1136, 0.1027, 0.2812, 0.0139, 0.1062, 0.1452, 0.1584, -0.0244, -0.0115, 0.1111, 0.0982, -0.1391, 0.0067]}, \"token.table\": {\"Topic\": [1, 3, 4, 1, 2, 2, 2, 3, 4, 3, 2, 3, 4, 3, 1, 2, 3, 4, 1, 2, 3, 4, 1, 2, 3, 3, 4, 1, 3, 1, 2, 4, 1, 3, 1, 2, 3, 4, 1, 2, 2, 3, 1, 2, 3, 4, 2, 3, 1, 2, 1, 2, 3, 1, 3, 1, 2, 3, 4, 2, 3, 4, 2, 3, 4, 1, 2, 3, 1, 2, 3, 4, 1, 1, 4, 1, 3, 1, 2, 1, 2, 3, 4, 1, 2, 1, 2, 3, 4, 1, 3, 4, 1, 2, 1, 2, 3, 4, 1, 2, 3, 4, 2, 3, 2, 3, 4, 1, 2, 3, 4, 1, 2, 1, 2, 3, 4, 1, 3, 4, 1, 2, 3, 4, 1, 2, 1, 2, 3, 4, 1, 2, 3, 4, 1, 2, 4, 1, 3, 1, 2, 4, 1, 2, 3, 2, 1, 2, 3, 4, 1, 1, 2, 3, 4, 3, 1, 2, 3, 4, 1, 1, 2, 3, 4, 1, 2, 3, 4, 2, 3, 1, 2, 3, 4, 1, 2, 3, 4, 3, 4, 1, 2, 3, 4, 1, 2, 3, 4, 1, 3, 4, 1, 2, 3, 1, 2, 3, 4, 2, 4, 1, 2, 3, 4, 1, 2, 3, 1, 2, 3, 4, 1, 3, 4, 2, 3, 4, 1, 3, 1, 2, 3, 4, 1, 2, 1, 2, 3, 4, 1, 3, 4, 1, 2, 3, 1, 2, 3, 4, 1, 2, 3, 1, 2, 3, 4, 1, 3, 1, 2, 3, 4, 1, 2, 3, 4, 1, 2, 3, 4, 1, 2, 3, 4, 1, 2, 4, 1, 2, 4, 1, 2, 3, 4, 1, 2, 3, 4, 1, 2, 3, 4, 2, 4, 1, 2, 3, 4, 2, 3, 2, 3, 2, 1, 2, 3, 4, 1, 2, 3, 4, 1, 2, 3, 4, 3, 1, 1, 2, 3, 4, 1, 3, 1, 2, 4, 2, 3, 4, 1, 2, 3, 4, 1, 2, 3, 4, 3, 1, 2, 3, 4, 2, 3, 1, 2, 3, 4, 2, 1, 2, 3, 4, 1, 2, 3, 1, 2, 3, 4, 1, 3, 1, 2, 3, 4, 1, 2, 3, 4, 1, 2, 3, 4, 1, 2, 3, 4, 1, 2, 3, 4, 1, 2, 3, 4, 1, 2, 3, 4, 1, 2, 3, 4, 1, 2, 3, 1, 2, 3, 4, 1, 2, 3, 1, 2, 3, 4, 2, 3, 4, 1, 4, 1, 2, 3, 4, 1, 2, 3, 4, 4, 1, 2, 3, 1, 3, 1, 2, 3, 4, 1, 2, 3, 4, 1, 2, 3, 4, 1, 2, 3, 4, 1, 2, 3, 4, 1, 2, 3, 2, 4, 1, 2, 3, 4, 1, 2, 3, 4, 2, 3, 4, 1, 2, 3, 4, 2, 3, 1, 2, 3, 4, 1, 4, 1, 2, 3, 4, 1, 2, 3, 4, 1, 2, 3, 4, 1, 3, 1, 2, 3, 4, 1, 2, 3, 4, 2, 3, 1, 2, 3, 4, 1, 2, 3, 4, 1, 2, 3, 4, 1, 2, 3, 4, 1, 1, 2, 3, 4, 2, 4, 1, 1, 2, 3, 4, 2, 2, 3, 4, 1, 1, 3, 2, 3, 4, 1, 2, 3, 4, 1, 2, 4, 2, 3, 1, 2, 3, 4, 2, 4, 1, 2, 3, 1, 2, 3, 4, 1, 3, 4, 1, 2, 3, 4, 1, 4, 1, 2, 4, 1, 2, 3, 4, 1, 2, 1, 2, 3, 4, 1, 2, 3, 4, 1, 2, 3, 4, 1, 3, 1, 2, 2, 3, 4, 1, 2, 3, 4, 1, 2, 3, 4, 1, 2, 3, 4, 1, 2, 3, 4, 2, 3, 1, 1, 2, 1, 2, 3, 4, 1, 2, 3, 4, 1, 2, 3, 4, 1, 2, 4, 1, 2, 3, 4, 1, 2, 3, 4, 1, 2, 3, 4, 1, 2, 4, 1, 1, 2, 3, 4, 1, 2, 3, 4, 1, 2, 3, 4, 1, 3, 4, 1, 2, 3, 4, 1, 2, 3, 4, 1, 2, 3, 4, 1, 2, 3, 4, 2, 1, 2, 3, 4, 4, 1, 2, 3, 1, 2, 3, 4, 3, 4, 1, 2, 3, 4, 2, 1, 2, 3, 4, 1, 2, 3, 4, 1, 2, 3, 4, 1, 2, 3, 4, 3, 1, 2, 4, 1, 2, 3, 4, 2, 1, 2, 3, 4, 1, 2, 3, 4, 1, 2, 3, 4, 1, 2, 3, 4, 1, 2, 3, 4, 1, 2, 3, 4, 2, 4, 1, 2, 3, 4, 1, 2, 4, 2, 1, 2, 3, 4, 1, 2, 3, 4, 1, 3, 4, 1, 2, 3, 4, 1, 2, 3, 4, 1, 2, 3, 4, 1, 2, 3, 4, 1, 2, 3, 4, 1, 2, 3, 4, 1, 2, 3, 4, 1, 2, 3, 4, 1, 2, 3, 4, 1, 2, 3, 4, 1, 2, 3, 4, 1, 1, 2, 3, 4, 1, 2, 3, 4, 1, 2, 3, 2, 4, 1, 1, 2, 3, 4, 2, 3, 4, 1, 2, 3, 4, 2, 1, 4, 3, 1, 2, 3, 4, 2, 1, 1, 2, 3, 4, 2, 1, 1, 2, 3, 4, 1, 2, 3, 4, 1, 2, 3, 4, 1, 2, 3, 4, 1, 2, 3, 4, 1, 2, 3, 4, 1, 2, 3, 4, 1, 2, 3, 4], \"Freq\": [0.1596879825674588, 0.3193759651349176, 0.4790639477023764, 0.14699376650028076, 0.8819625990016846, 0.8556203269384427, 0.10536198395293916, 0.7375338876705742, 0.10536198395293916, 0.8978711511318677, 0.09594745693037658, 0.7675796554430127, 0.09594745693037658, 0.8981081806037833, 0.3667976450270205, 0.18339882251351025, 0.16302117556756465, 0.28528705724323816, 0.7693924785494923, 0.05918403681149941, 0.11836807362299882, 0.05918403681149941, 0.1709296562937407, 0.8546482814687035, 0.8733325980344108, 0.7623810386742405, 0.15247620773484807, 0.17256320243096795, 0.7765344109393557, 0.10313338866986844, 0.10313338866986844, 0.6188003320192107, 0.14940006619972662, 0.747000330998633, 0.12356472113526921, 0.7413883268116153, 0.08237648075684614, 0.08237648075684614, 0.8934027341687215, 0.09926697046319129, 0.8228175993620636, 0.10285219992025794, 0.13692248595051584, 0.7530736727278371, 0.06846124297525792, 0.06846124297525792, 0.8254801947856991, 0.10318502434821239, 0.8831459057227202, 0.11039323821534003, 0.13033380343299988, 0.13033380343299988, 0.7820028205979992, 0.9004774671527456, 0.09004774671527455, 0.31320828902332, 0.31774753958887536, 0.30412978789220924, 0.05901025735221971, 0.7620274781664592, 0.16329160246424126, 0.05443053415474709, 0.7259435837527599, 0.1555593393755914, 0.10370622625039427, 0.18890476648515475, 0.09445238324257738, 0.755619065940619, 0.25467921320721104, 0.30015764413707013, 0.22739215464929557, 0.22739215464929557, 0.851727621504952, 0.401737625967807, 0.5021720324597587, 0.8515022802618816, 0.897483283426239, 0.8539534852790549, 0.14232558087984248, 0.3677770821625496, 0.13264091487829657, 0.2954274922289333, 0.2049905048119129, 0.08517878754927392, 0.8517878754927393, 0.20052143210587373, 0.12031285926352424, 0.6015642963176212, 0.08020857284234949, 0.18527574092867707, 0.18527574092867707, 0.5558272227860312, 0.08509054857794174, 0.8509054857794174, 0.03777904661941619, 0.6800228391494915, 0.07555809323883238, 0.22667427971649715, 0.14757385159161487, 0.3541772438198757, 0.4574789399340061, 0.04427215547748446, 0.11603788596524525, 0.8122652017567168, 0.7258775131320444, 0.1555451813854381, 0.10369678759029206, 0.5262944356663234, 0.17856418352964543, 0.1691660686070325, 0.12217549399396793, 0.8687387835739508, 0.12410554051056441, 0.6797437283481287, 0.19421249381375105, 0.06473749793791701, 0.032368748968958506, 0.1641033387072856, 0.1641033387072856, 0.6564133548291424, 0.7161003395696449, 0.09548004527595266, 0.143220067913929, 0.04774002263797633, 0.8545903870430425, 0.14243173117384042, 0.3516788929936577, 0.2507017851043896, 0.32034116985560895, 0.07312135398878031, 0.8037943986067818, 0.1286071037770851, 0.03215177594427127, 0.03215177594427127, 0.8818677908142687, 0.05879118605428458, 0.05879118605428458, 0.14898474788100197, 0.7449237394050098, 0.13931538848806282, 0.13931538848806282, 0.5572615539522513, 0.07887373103259837, 0.7887373103259837, 0.07887373103259837, 0.9156976925886336, 0.421006179374459, 0.27935924051950084, 0.22033968266326825, 0.0786927438083101, 0.8507410021535247, 0.2714972008852672, 0.2506128008171697, 0.2506128008171697, 0.2192862007150235, 0.8975165727670235, 0.20292222992332234, 0.1623377839386579, 0.20292222992332234, 0.4464289058313092, 0.8341426477400495, 0.04190555021961482, 0.16762220087845928, 0.7542999039530668, 0.04190555021961482, 0.26096594892850855, 0.309144277961464, 0.3011145564559714, 0.12847554408788114, 0.149822816851215, 0.7491140842560751, 0.3647087096410692, 0.27150537273279596, 0.21477290678862965, 0.14993580285243957, 0.4491327434104421, 0.1643168573452837, 0.2629069717524539, 0.12049902871987471, 0.19022579538824025, 0.5706773861647207, 0.323218499423269, 0.26833233914384597, 0.2591846457639421, 0.14941232520509606, 0.08022948514895094, 0.2406884554468528, 0.6017211386171321, 0.04011474257447547, 0.36797609886818916, 0.18398804943409458, 0.5519641483022838, 0.06833562364245649, 0.7516918600670214, 0.13667124728491298, 0.3158176944905893, 0.4573911437449914, 0.12523805126350954, 0.108902653272617, 0.2802914504851348, 0.5605829009702696, 0.3123998466548829, 0.42231831121863794, 0.15619992332744145, 0.10413328221829429, 0.11580051835675945, 0.11580051835675945, 0.8106036284973162, 0.5161617715170017, 0.20996411044759392, 0.16184733513668698, 0.11373055982578004, 0.18726793814121034, 0.3745358762824207, 0.561803814423631, 0.16033935578998834, 0.16033935578998834, 0.481018067369965, 0.1489220325809072, 0.744610162904536, 0.342829912917986, 0.2537831822899377, 0.32502056679237634, 0.08014205756524348, 0.8822664974644133, 0.11028331218305167, 0.23762723525214208, 0.2251205386599241, 0.40021429095097616, 0.13132031421828905, 0.28186716406196066, 0.6576900494779082, 0.046977860676993444, 0.2669625463425109, 0.07627501324071738, 0.6483376125460978, 0.4106515192993577, 0.26616302176810225, 0.2015234307672774, 0.12167452423684673, 0.2216371740355131, 0.0738790580118377, 0.738790580118377, 0.770725420200633, 0.13601036827069993, 0.04533678942356664, 0.04533678942356664, 0.14954855212688203, 0.7477427606344101, 0.1849611988530813, 0.361515070485568, 0.3867370521473518, 0.06725861776475683, 0.06910897041961486, 0.34554485209807434, 0.13821794083922972, 0.48376279293730406, 0.3271657179835012, 0.25828872472381675, 0.2353297269705886, 0.1779322325875182, 0.42028226014058956, 0.21014113007029478, 0.2558239844334024, 0.11268437409566533, 0.2409357392853618, 0.30116967410670226, 0.42163754374938317, 0.10339766599184537, 0.827181327934763, 0.10339766599184537, 0.127540394365613, 0.7333572676022749, 0.09565529577420977, 0.03188509859140325, 0.2859720990176991, 0.37973344295792827, 0.1781465534864355, 0.15939428469838965, 0.33773817862910205, 0.3271838605469426, 0.25682173999921304, 0.08091643862988904, 0.3250239341624602, 0.6500478683249205, 0.6565344195563851, 0.09947491205399775, 0.1591598592863964, 0.09947491205399775, 0.09518922217250567, 0.8567029995525509, 0.11612524315555303, 0.8128767020888712, 0.878857263982343, 0.36038198179723757, 0.3300340254353649, 0.2086421999878744, 0.09863085817608608, 0.09365884981180225, 0.749270798494418, 0.09365884981180225, 0.046829424905901126, 0.2638215602501725, 0.34467010290748346, 0.2936078654397081, 0.0978692884799027, 0.8181457861846487, 0.8284116843681743, 0.2879907285852437, 0.2948476506944162, 0.3565599496769684, 0.061712298982552226, 0.906255253262678, 0.0906255253262678, 0.27645099346127816, 0.13822549673063908, 0.5529019869225563, 0.10524577255718205, 0.8419661804574564, 0.10524577255718205, 0.3783601243110583, 0.21978271926892357, 0.29211627244603766, 0.11128238950325244, 0.07911957466863112, 0.07911957466863112, 0.3955978733431556, 0.4747174480117867, 0.8738524884516193, 0.2692109342142846, 0.3982078401919627, 0.24116812856696332, 0.09534553920089248, 0.8210766271696308, 0.10263457839620385, 0.5631683525133062, 0.23350882909088305, 0.10988650780747437, 0.09615069433154008, 0.8796721788259576, 0.5380323262109691, 0.21318261981944056, 0.18272795984523477, 0.07106087327314685, 0.10974401606560523, 0.6584640963936313, 0.21948803213121046, 0.3019862420057856, 0.345515790403016, 0.2557360968337284, 0.09522088711894142, 0.8314180503707095, 0.16628361007414189, 0.1280807532644376, 0.7684845195866256, 0.0640403766322188, 0.0640403766322188, 0.2741768273015266, 0.32156541473635836, 0.2911013228139665, 0.11170167038210342, 0.33313762588669804, 0.37970525101064506, 0.19343475051485692, 0.09313525024789407, 0.267284638807031, 0.4064191083230198, 0.2270088713155606, 0.09885870202451832, 0.49903429105844466, 0.25707827115132, 0.17138551410088, 0.07561125622097646, 0.25136316342585113, 0.42177886744337734, 0.1789364892184025, 0.14485334841489728, 0.21524564477571373, 0.34439303164114193, 0.36591759611871333, 0.07174854825857124, 0.38751462088465066, 0.23120620237655629, 0.2377190531477269, 0.14002629158016788, 0.0930520927312807, 0.6978906954846054, 0.13957813909692107, 0.8577313467618286, 0.04514375509272782, 0.04514375509272782, 0.04514375509272782, 0.808227544815391, 0.06217134960118393, 0.12434269920236786, 0.2968908861709093, 0.3822043592085269, 0.2252275688193105, 0.09555108980213173, 0.8785721624368694, 0.37301087343714684, 0.5595163101557202, 0.19268009296490896, 0.7707203718596358, 0.41525777554867455, 0.3158798463575388, 0.18810822311179276, 0.07808265865017812, 0.2431003678157194, 0.40060201456956573, 0.23282852128829462, 0.12326215832909715, 0.830206922437674, 0.7481145110215985, 0.09974860146954646, 0.1496229022043197, 0.8721171473597011, 0.12458816390852873, 0.09877482913264364, 0.15803972661222981, 0.6519138722754481, 0.07901986330611491, 0.44772026777992985, 0.25105809408220364, 0.2259522846739833, 0.0753174282246611, 0.6346113354231878, 0.14102474120515285, 0.164528864739345, 0.07051237060257642, 0.3464087971810258, 0.4002198724712822, 0.16479641807641032, 0.0874429973466667, 0.22136645209031805, 0.29884471032192933, 0.2933105490196714, 0.18816148427677032, 0.7737417886091538, 0.1105345412298791, 0.05526727061493955, 0.31855601831957064, 0.47783402747935594, 0.3194601488774554, 0.29534994896217576, 0.21699179923751688, 0.16877139940695757, 0.16074135516314117, 0.526062616897553, 0.2045799065712706, 0.11690280375501176, 0.18867572868360621, 0.18867572868360621, 0.5660271860508186, 0.43873023921836785, 0.26137120634285743, 0.21936511960918392, 0.07934483049693886, 0.17485322414023732, 0.6994128965609493, 0.35888229547264433, 0.28018003769355565, 0.2833281280047192, 0.07555416746792512, 0.8409322844606436, 0.08409322844606436, 0.2952438339934938, 0.35081914392168084, 0.26050926528837687, 0.09725679237432737, 0.5142889342883493, 0.22991740591714444, 0.14521099321082806, 0.10890824490812104, 0.41568619121801464, 0.2986483315546901, 0.21793256626963875, 0.06860840049229368, 0.8312215641074263, 0.8732102154384282, 0.38866068787239255, 0.2836939327535712, 0.19574881359996413, 0.13333614839417846, 0.14059837073832337, 0.702991853691617, 0.09373224715888226, 0.09373224715888226, 0.8573924172483176, 0.17147848344966352, 0.4312025492013939, 0.2699702916739162, 0.1574826701431178, 0.13873473322131805, 0.8366868918112833, 0.08366868918112834, 0.08366868918112834, 0.08366868918112834, 0.48637396085375745, 0.25266179784610776, 0.15791362365381736, 0.1073812640845958, 0.29015991296888977, 0.4081910640070822, 0.1524569034243319, 0.14753893879774055, 0.868851317441606, 0.3369853574863064, 0.3369853574863064, 0.2297627437406635, 0.09803210399601642, 0.8872233414019207, 0.14787055690032014, 0.8518441916371357, 0.3616625937372213, 0.28933007498977703, 0.2591915255116753, 0.08740179348649516, 0.8572044092433856, 0.18666192826387176, 0.18666192826387176, 0.5599857847916153, 0.8819364820258078, 0.9016076760476829, 0.09016076760476828, 0.18653830938941063, 0.18653830938941063, 0.5596149281682319, 0.3051475460044527, 0.24030369247850653, 0.25556106977872917, 0.19834590490289428, 0.7697422267832568, 0.07697422267832568, 0.07697422267832568, 0.17513880749682498, 0.8756940374841249, 0.2879612209822694, 0.35896535766282894, 0.22090175856174088, 0.13411892484105697, 0.18955245396728873, 0.5686573619018662, 0.06394937825196555, 0.8313419172755522, 0.06394937825196555, 0.3565255439772755, 0.266493840952711, 0.2772976453156587, 0.09723423926652969, 0.23679065420412806, 0.23679065420412806, 0.47358130840825613, 0.44401505271730196, 0.2655790969524049, 0.21993268966371032, 0.07469412101786388, 0.3685484127730018, 0.5528226191595027, 0.18620574655201394, 0.18620574655201394, 0.5586172396560418, 0.2865402482625811, 0.2865402482625811, 0.26266189424069936, 0.1671484781531723, 0.10211878837986779, 0.8169503070389423, 0.35699087114336686, 0.2780770996274647, 0.2480147104785496, 0.12024955659566042, 0.3789466706648099, 0.24252586922547834, 0.24631533593212646, 0.13263133473268346, 0.20087306233814606, 0.12052383740288763, 0.6026191870144382, 0.08034922493525842, 0.14976323198220653, 0.7488161599110327, 0.11379200889539899, 0.796544062267793, 0.8270213214471639, 0.10337766518089549, 0.10337766518089549, 0.3314098412935101, 0.31745574271273075, 0.2616393483896132, 0.09070164077506593, 0.1832168840891967, 0.20153857249811638, 0.5313289638586705, 0.09160844204459835, 0.3982918611851011, 0.27998734796180375, 0.20506115625371543, 0.11436102944918745, 0.4283004393835052, 0.3078409408068944, 0.18738144223028352, 0.08030633238440722, 0.7697055699946906, 0.12828426166578177, 0.8545487398597013, 0.8694452669253554, 0.8783944599636352, 0.3058496689258292, 0.22824602158643972, 0.3241093506527444, 0.14151253338359263, 0.3361726333373823, 0.3361726333373823, 0.2512448101784647, 0.07431184526405293, 0.670296887863052, 0.12187216142964583, 0.1523402017870573, 0.030468040357411456, 0.46395297602796653, 0.07732549600466108, 0.46395297602796653, 0.3659334597476163, 0.3502952777071199, 0.17827527526165923, 0.10946727428347497, 0.44941707886211923, 0.26245957405547765, 0.21212486122292026, 0.07550206924883603, 0.30606522625741567, 0.29215317051844225, 0.2782411147794688, 0.12173048771601759, 0.13639184054320588, 0.7501551229876323, 0.06819592027160294, 0.8295678072810655, 0.20223387128721024, 0.0808935485148841, 0.3235741940595364, 0.4044677425744205, 0.2227850301313643, 0.11139251506568215, 0.11139251506568215, 0.5569625753284108, 0.41497320970220464, 0.2677246514207772, 0.21864179866030137, 0.09816570552095163, 0.7287112182560868, 0.16816412728986618, 0.05605470909662206, 0.3396177540032809, 0.3228049939041086, 0.17821525705122662, 0.1614024969520543, 0.5182940354041311, 0.20004331191036642, 0.20004331191036642, 0.08183590032696808, 0.156585148466935, 0.17895445539078286, 0.5368633661723485, 0.13421584154308713, 0.23425608917948346, 0.2986765137038414, 0.36895334045768646, 0.09370243567179339, 0.8793467252263165, 0.31036833195931435, 0.3972714649079223, 0.19035924360171277, 0.10345611065310477, 0.7780472356271241, 0.20773478348420016, 0.10386739174210008, 0.7270717421947006, 0.4226416463539421, 0.2137497981560167, 0.27690314761120344, 0.0825851492875519, 0.8006359494526203, 0.13343932490877006, 0.1814183525964779, 0.09070917629823895, 0.6349642340876727, 0.09070917629823895, 0.8556545526841771, 0.29425757901522315, 0.22924718365139476, 0.34215997559909667, 0.1334423904836477, 0.4561751834326805, 0.2146706745565555, 0.2683383431956944, 0.06440120236696666, 0.16316940630298438, 0.469927890152595, 0.2675978263368944, 0.10442842003391, 0.24505049046269758, 0.12252524523134879, 0.12252524523134879, 0.49010098092539517, 0.787395325656537, 0.12353646670989805, 0.2470729334197961, 0.4941458668395922, 0.3956750172073914, 0.2697784208232214, 0.18242159884236878, 0.1515897793197149, 0.8566129131847656, 0.2629508622093195, 0.2804809196899408, 0.25418583346900886, 0.20159566102714496, 0.3207946413346018, 0.31021899381807644, 0.3066937779792347, 0.06345388509915201, 0.26237216727586526, 0.36660220633066104, 0.26237216727586526, 0.10782417833254737, 0.20870168049276042, 0.08348067219710417, 0.6261050414782813, 0.08348067219710417, 0.32318254096856597, 0.30722290931579727, 0.23141465896514601, 0.13964677696172603, 0.38933262464638196, 0.26827962370591024, 0.24537770460906427, 0.09487937911550486, 0.7425186854660826, 0.14850373709321651, 0.36256746659480116, 0.36256746659480116, 0.1772552058907917, 0.09668465775861365, 0.159915747346255, 0.159915747346255, 0.63966298938502, 0.8837726698111, 0.11654142390517966, 0.11654142390517966, 0.699248543431078, 0.11654142390517966, 0.35748257089423957, 0.27640404966049453, 0.2284940143860088, 0.13635933116584395, 0.8186157308330825, 0.09095730342589806, 0.09095730342589806, 0.3561333074527207, 0.20741829994499117, 0.3522197546235699, 0.08218460941216632, 0.551374957199341, 0.18004080235080525, 0.22505100293850655, 0.04501020058770131, 0.26354058409478515, 0.3895817330096824, 0.2749988703597758, 0.06874971758994396, 0.41450712280575536, 0.28279457911046857, 0.178199323823035, 0.12783864535130773, 0.22912631229870106, 0.4061784627113337, 0.15622248565820526, 0.20829664754427368, 0.3604708826512741, 0.3337693357882167, 0.23363853505175172, 0.07342925387340768, 0.7680905165467546, 0.048005657284172165, 0.09601131456834433, 0.09601131456834433, 0.34392547385267797, 0.2992151622518298, 0.24762634117392815, 0.11005615163285695, 0.33300202325656336, 0.30651322595206404, 0.2686720869456364, 0.09081873361542638, 0.3629339253291091, 0.25405374773037637, 0.21776035519746545, 0.1633202663980991, 0.3450542234477459, 0.36465957705273144, 0.19997460677085274, 0.0941056973039307, 0.8520771182844588, 0.12522655106153271, 0.12522655106153271, 0.12522655106153271, 0.6261327553076635, 0.16208181495053509, 0.5834945338219264, 0.1458736334554816, 0.11345727046537457, 0.10442355666481372, 0.10442355666481372, 0.730964896653696, 0.32025185092209985, 0.6405037018441997, 0.83032626541289, 0.36665295587580515, 0.20369608659766955, 0.21388089092755302, 0.21388089092755302, 0.5463355553284884, 0.060703950592054266, 0.42492765414437983, 0.20230827013844513, 0.10115413506922256, 0.20230827013844513, 0.5057706753461129, 0.8578166792397561, 0.3706224916074196, 0.5559337374111294, 0.8740375980889385, 0.2961797876758457, 0.2809127883111114, 0.3175535867864737, 0.1068689955531402, 0.8619688968057312, 0.8293377539599133, 0.43194090531295315, 0.24851394552252098, 0.2514724448739796, 0.06508698573208883, 0.8614326940821553, 0.9314262177493295, 0.33159064729930765, 0.3027566779689331, 0.2414844931418871, 0.12254436965409196, 0.27288453331181195, 0.4093267999677179, 0.2533927809323968, 0.06497250793138379, 0.22747560306953443, 0.37751270296646144, 0.2661948546558382, 0.13067747410377512, 0.21740215602816146, 0.10870107801408073, 0.28986954137088194, 0.3985706193849627, 0.132967377693134, 0.31025721461731265, 0.3723086575407752, 0.17728983692417866, 0.34764055492960505, 0.33916151700449276, 0.25437113775336956, 0.05935326547578623, 0.46225423301357715, 0.22256685293246306, 0.19260593042232382, 0.11984369004055705, 0.38686600249971725, 0.35847216745386645, 0.17746146903656757, 0.07453381699535837], \"Term\": [\"70 %\", \"70 %\", \"70 %\", \"Afghanistan\", \"Afghanistan\", \"Bharat\", \"Bigg Boss\", \"Bigg Boss\", \"Bigg Boss\", \"Border\", \"Boss\", \"Boss\", \"Boss\", \"Code\", \"Day\", \"Day\", \"Day\", \"Day\", \"Democrat\", \"Democrat\", \"Democrat\", \"Democrat\", \"Drive\", \"Drive\", \"George\", \"Golden\", \"Golden\", \"Greece\", \"Greece\", \"Group\", \"Group\", \"Group\", \"Hindi\", \"Hindi\", \"Iowa\", \"Iowa\", \"Iowa\", \"Iowa\", \"Jean\", \"Jean\", \"Kenny\", \"Kenny\", \"Kobe\", \"Kobe\", \"Kobe\", \"Kobe\", \"Lakes\", \"Lakes\", \"Lara\", \"Lara\", \"Mississippi\", \"Mississippi\", \"Mississippi\", \"Myanmar\", \"Myanmar\", \"New\", \"New\", \"New\", \"New\", \"New Zealanders\", \"New Zealanders\", \"New Zealanders\", \"New_Zealanders\", \"New_Zealanders\", \"New_Zealanders\", \"Paul\", \"Paul\", \"Paul\", \"President\", \"President\", \"President\", \"President\", \"Pro\", \"Robert\", \"Robert\", \"SBA\", \"Sindh\", \"Squad\", \"Squad\", \"Trump\", \"Trump\", \"Trump\", \"Trump\", \"Virginia\", \"Virginia\", \"Wales\", \"Wales\", \"Wales\", \"Wales\", \"Wellington\", \"Wellington\", \"Wellington\", \"Welsh\", \"Welsh\", \"White\", \"White\", \"White\", \"White\", \"World\", \"World\", \"World\", \"World\", \"Youth\", \"Youth\", \"Zealanders\", \"Zealanders\", \"Zealanders\", \"ability\", \"ability\", \"ability\", \"ability\", \"aboriginal\", \"aboriginal\", \"accountable\", \"accountable\", \"accountable\", \"accountable\", \"accuracy\", \"accuracy\", \"accuracy\", \"acid\", \"acid\", \"acid\", \"acid\", \"activate\", \"activate\", \"actually\", \"actually\", \"actually\", \"actually\", \"adapt\", \"adapt\", \"adapt\", \"adapt\", \"adequate\", \"adequate\", \"adequate\", \"admiration\", \"admiration\", \"adolescent\", \"adolescent\", \"adolescent\", \"ain\", \"ain\", \"ain\", \"ako\", \"allow\", \"allow\", \"allow\", \"allow\", \"amid\", \"animal\", \"animal\", \"animal\", \"animal\", \"anonymous\", \"app\", \"app\", \"app\", \"app\", \"appalling\", \"ask_question\", \"ask_question\", \"ask_question\", \"ask_question\", \"away\", \"away\", \"away\", \"away\", \"awe\", \"awe\", \"bad\", \"bad\", \"bad\", \"bad\", \"base\", \"base\", \"base\", \"base\", \"bass\", \"bass\", \"believe\", \"believe\", \"believe\", \"believe\", \"belong\", \"belong\", \"belong\", \"belong\", \"bespoke\", \"bespoke\", \"bespoke\", \"bias\", \"bias\", \"bias\", \"body\", \"body\", \"body\", \"body\", \"bowling\", \"bowling\", \"break\", \"break\", \"break\", \"break\", \"brutal\", \"brutal\", \"brutal\", \"build\", \"build\", \"build\", \"build\", \"butter\", \"butter\", \"butter\", \"calculate\", \"calculate\", \"calculate\", \"centenary\", \"centenary\", \"challenge\", \"challenge\", \"challenge\", \"challenge\", \"chamber\", \"chamber\", \"character\", \"character\", \"character\", \"character\", \"clinic\", \"clinic\", \"clinic\", \"clinical\", \"clinical\", \"clinical\", \"close\", \"close\", \"close\", \"close\", \"coat\", \"coat\", \"coat\", \"combination\", \"combination\", \"combination\", \"combination\", \"congratulate\", \"congratulate\", \"conversation\", \"conversation\", \"conversation\", \"conversation\", \"convict\", \"convict\", \"convict\", \"convict\", \"course\", \"course\", \"course\", \"course\", \"create\", \"create\", \"create\", \"create\", \"cruise_ship\", \"cruise_ship\", \"cruise_ship\", \"curiosity\", \"curiosity\", \"curiosity\", \"cycle\", \"cycle\", \"cycle\", \"cycle\", \"deal\", \"deal\", \"deal\", \"deal\", \"decision\", \"decision\", \"decision\", \"decision\", \"differentiate\", \"differentiate\", \"difficult_time\", \"difficult_time\", \"difficult_time\", \"difficult_time\", \"dip\", \"dip\", \"dirt\", \"dirt\", \"disagree\", \"doesn\", \"doesn\", \"doesn\", \"doesn\", \"domestic_violence\", \"domestic_violence\", \"domestic_violence\", \"domestic_violence\", \"don_know\", \"don_know\", \"don_know\", \"don_know\", \"dye\", \"edition\", \"emergency\", \"emergency\", \"emergency\", \"emergency\", \"emphasis\", \"emphasis\", \"enrolment\", \"enrolment\", \"enrolment\", \"ensemble\", \"ensemble\", \"ensemble\", \"ensure\", \"ensure\", \"ensure\", \"ensure\", \"enthusiasm\", \"enthusiasm\", \"enthusiasm\", \"enthusiasm\", \"enthusiastic\", \"especially\", \"especially\", \"especially\", \"especially\", \"evaluation\", \"evaluation\", \"exactly\", \"exactly\", \"exactly\", \"exactly\", \"exemplary\", \"exist\", \"exist\", \"exist\", \"exist\", \"expression\", \"expression\", \"expression\", \"face\", \"face\", \"face\", \"face\", \"facial\", \"facial\", \"familiar\", \"familiar\", \"familiar\", \"familiar\", \"feel_like\", \"feel_like\", \"feel_like\", \"feel_like\", \"fight\", \"fight\", \"fight\", \"fight\", \"film\", \"film\", \"film\", \"film\", \"follow\", \"follow\", \"follow\", \"follow\", \"food\", \"food\", \"food\", \"food\", \"force\", \"force\", \"force\", \"force\", \"forward\", \"forward\", \"forward\", \"forward\", \"frame\", \"frame\", \"frame\", \"framework\", \"framework\", \"framework\", \"framework\", \"fraud\", \"fraud\", \"fraud\", \"friend\", \"friend\", \"friend\", \"friend\", \"frighten\", \"functional\", \"functional\", \"furlough\", \"furlough\", \"future\", \"future\", \"future\", \"future\", \"game\", \"game\", \"game\", \"game\", \"generic\", \"globally\", \"globally\", \"globally\", \"grandma\", \"grandma\", \"hai\", \"hai\", \"hai\", \"hai\", \"hand\", \"hand\", \"hand\", \"hand\", \"hang\", \"hang\", \"hang\", \"hang\", \"hear\", \"hear\", \"hear\", \"hear\", \"heart\", \"heart\", \"heart\", \"heart\", \"hold_accountable\", \"hold_accountable\", \"hold_accountable\", \"hostility\", \"hostility\", \"house\", \"house\", \"house\", \"house\", \"housing\", \"housing\", \"housing\", \"housing\", \"hunger\", \"hunger\", \"hunger\", \"idea\", \"idea\", \"idea\", \"idea\", \"idiot\", \"idiot\", \"impact\", \"impact\", \"impact\", \"impact\", \"imperative\", \"imperative\", \"include\", \"include\", \"include\", \"include\", \"individual\", \"individual\", \"individual\", \"individual\", \"industry\", \"industry\", \"industry\", \"industry\", \"interval\", \"invaluable\", \"issue\", \"issue\", \"issue\", \"issue\", \"journalist\", \"journalist\", \"journalist\", \"journalist\", \"junior\", \"junior\", \"kid\", \"kid\", \"kid\", \"kid\", \"kinda\", \"kinda\", \"kinda\", \"kinda\", \"large\", \"large\", \"large\", \"large\", \"law\", \"law\", \"law\", \"law\", \"leading\", \"leave\", \"leave\", \"leave\", \"leave\", \"leisure\", \"leisure\", \"lesbian\", \"let\", \"let\", \"let\", \"let\", \"liberty\", \"license\", \"license\", \"license\", \"lighting\", \"liquid\", \"liquid\", \"liver\", \"liver\", \"liver\", \"local\", \"local\", \"local\", \"local\", \"locate\", \"locate\", \"locate\", \"lodge\", \"lodge\", \"lose\", \"lose\", \"lose\", \"lose\", \"lovingly\", \"lovingly\", \"making\", \"making\", \"making\", \"man\", \"man\", \"man\", \"man\", \"marine\", \"marine\", \"marine\", \"meet\", \"meet\", \"meet\", \"meet\", \"memorial\", \"memorial\", \"metropolitan\", \"metropolitan\", \"metropolitan\", \"million\", \"million\", \"million\", \"million\", \"molecule\", \"molecule\", \"moment\", \"moment\", \"moment\", \"moment\", \"month\", \"month\", \"month\", \"month\", \"musical\", \"musical\", \"musical\", \"musical\", \"nationalist\", \"nationalist\", \"newspaper\", \"newspaper\", \"nila\", \"nila\", \"nila\", \"number\", \"number\", \"number\", \"number\", \"nurse\", \"nurse\", \"nurse\", \"nurse\", \"old\", \"old\", \"old\", \"old\", \"open\", \"open\", \"open\", \"open\", \"organic\", \"organic\", \"orient\", \"overdue\", \"pasta\", \"patient\", \"patient\", \"patient\", \"patient\", \"pay\", \"pay\", \"pay\", \"pay\", \"payment\", \"payment\", \"payment\", \"payment\", \"pension\", \"pension\", \"pension\", \"person\", \"person\", \"person\", \"person\", \"plan\", \"plan\", \"plan\", \"plan\", \"point\", \"point\", \"point\", \"point\", \"pollution\", \"pollution\", \"pollution\", \"pragmatic\", \"predict\", \"predict\", \"predict\", \"predict\", \"premiere\", \"premiere\", \"premiere\", \"premiere\", \"process\", \"process\", \"process\", \"process\", \"projection\", \"projection\", \"projection\", \"protect\", \"protect\", \"protect\", \"protect\", \"public_health\", \"public_health\", \"public_health\", \"public_health\", \"quarter\", \"quarter\", \"quarter\", \"quarter\", \"question\", \"question\", \"question\", \"question\", \"readily\", \"real\", \"real\", \"real\", \"real\", \"reassurance\", \"recycle\", \"recycle\", \"recycle\", \"remain\", \"remain\", \"remain\", \"remain\", \"repayment\", \"repayment\", \"restore\", \"restore\", \"restore\", \"restore\", \"retaliation\", \"risk\", \"risk\", \"risk\", \"risk\", \"role\", \"role\", \"role\", \"role\", \"room\", \"room\", \"room\", \"room\", \"rugby\", \"rugby\", \"rugby\", \"rugby\", \"satisfied\", \"scan\", \"scan\", \"scan\", \"school\", \"school\", \"school\", \"school\", \"schooling\", \"second\", \"second\", \"second\", \"second\", \"service\", \"service\", \"service\", \"service\", \"set\", \"set\", \"set\", \"set\", \"setting\", \"setting\", \"setting\", \"setting\", \"share\", \"share\", \"share\", \"share\", \"situation\", \"situation\", \"situation\", \"situation\", \"slice\", \"slice\", \"social\", \"social\", \"social\", \"social\", \"stadium\", \"stadium\", \"stadium\", \"standpoint\", \"statewide\", \"statewide\", \"statewide\", \"statewide\", \"step\", \"step\", \"step\", \"step\", \"stone\", \"stone\", \"stone\", \"stop\", \"stop\", \"stop\", \"stop\", \"store\", \"store\", \"store\", \"store\", \"story\", \"story\", \"story\", \"story\", \"strong\", \"strong\", \"strong\", \"strong\", \"struggle\", \"struggle\", \"struggle\", \"struggle\", \"student\", \"student\", \"student\", \"student\", \"surprised\", \"surprised\", \"surprised\", \"surprised\", \"system\", \"system\", \"system\", \"system\", \"term\", \"term\", \"term\", \"term\", \"test\", \"test\", \"test\", \"test\", \"thank\", \"thank\", \"thank\", \"thank\", \"theirs\", \"therapist\", \"therapist\", \"therapist\", \"therapist\", \"threat\", \"threat\", \"threat\", \"threat\", \"timeline\", \"timeline\", \"timeline\", \"tireless\", \"tireless\", \"tolerance\", \"touch\", \"touch\", \"touch\", \"touch\", \"toxic\", \"toxic\", \"toxic\", \"trans\", \"trans\", \"trans\", \"trans\", \"tribal\", \"ukrainian\", \"ukrainian\", \"underline\", \"understand\", \"understand\", \"understand\", \"understand\", \"uniquely\", \"uplifting\", \"use\", \"use\", \"use\", \"use\", \"usher\", \"vegan\", \"virus\", \"virus\", \"virus\", \"virus\", \"wasn\", \"wasn\", \"wasn\", \"wasn\", \"watch\", \"watch\", \"watch\", \"watch\", \"wave\", \"wave\", \"wave\", \"wave\", \"wear\", \"wear\", \"wear\", \"wear\", \"win\", \"win\", \"win\", \"win\", \"worker\", \"worker\", \"worker\", \"worker\", \"young\", \"young\", \"young\", \"young\"]}, \"R\": 30, \"lambda.step\": 0.01, \"plot.opts\": {\"xlab\": \"PC1\", \"ylab\": \"PC2\"}, \"topic.order\": [2, 1, 3, 4]};\n",
       "\n",
       "function LDAvis_load_lib(url, callback){\n",
       "  var s = document.createElement('script');\n",
       "  s.src = url;\n",
       "  s.async = true;\n",
       "  s.onreadystatechange = s.onload = callback;\n",
       "  s.onerror = function(){console.warn(\"failed to load library \" + url);};\n",
       "  document.getElementsByTagName(\"head\")[0].appendChild(s);\n",
       "}\n",
       "\n",
       "if(typeof(LDAvis) !== \"undefined\"){\n",
       "   // already loaded: just create the visualization\n",
       "   !function(LDAvis){\n",
       "       new LDAvis(\"#\" + \"ldavis_el234442148939366800250107552\", ldavis_el234442148939366800250107552_data);\n",
       "   }(LDAvis);\n",
       "}else if(typeof define === \"function\" && define.amd){\n",
       "   // require.js is available: use it to load d3/LDAvis\n",
       "   require.config({paths: {d3: \"https://d3js.org/d3.v5\"}});\n",
       "   require([\"d3\"], function(d3){\n",
       "      window.d3 = d3;\n",
       "      LDAvis_load_lib(\"https://cdn.jsdelivr.net/gh/bmabey/pyLDAvis@3.3.1/pyLDAvis/js/ldavis.v3.0.0.js\", function(){\n",
       "        new LDAvis(\"#\" + \"ldavis_el234442148939366800250107552\", ldavis_el234442148939366800250107552_data);\n",
       "      });\n",
       "    });\n",
       "}else{\n",
       "    // require.js not available: dynamically load d3 & LDAvis\n",
       "    LDAvis_load_lib(\"https://d3js.org/d3.v5.js\", function(){\n",
       "         LDAvis_load_lib(\"https://cdn.jsdelivr.net/gh/bmabey/pyLDAvis@3.3.1/pyLDAvis/js/ldavis.v3.0.0.js\", function(){\n",
       "                 new LDAvis(\"#\" + \"ldavis_el234442148939366800250107552\", ldavis_el234442148939366800250107552_data);\n",
       "            })\n",
       "         });\n",
       "}\n",
       "</script>"
      ],
      "text/plain": [
       "<IPython.core.display.HTML object>"
      ]
     },
     "execution_count": 36,
     "metadata": {},
     "output_type": "execute_result"
    }
   ],
   "source": [
    "# plot topics\n",
    "import pyLDAvis.gensim_models\n",
    "\n",
    "data =  pyLDAvis.gensim_models.prepare(model, corpus, dictionary)\n",
    "pyLDAvis.display(data)"
   ]
  },
  {
   "cell_type": "code",
   "execution_count": 27,
   "id": "0b9c751a",
   "metadata": {},
   "outputs": [],
   "source": [
    "# assignment\n",
    "sent_to_cluster = list()\n",
    "for n,doc in enumerate(corpus):\n",
    "    if doc:\n",
    "        cluster = max(model[doc],key=lambda x:x[1])\n",
    "        sent_to_cluster.append(cluster[0])"
   ]
  },
  {
   "cell_type": "code",
   "execution_count": 28,
   "id": "14672f2e",
   "metadata": {},
   "outputs": [
    {
     "name": "stdout",
     "output_type": "stream",
     "text": [
      "women.txt : 1 - 181\n",
      "Accuracy: 0.362\n",
      "------\n"
     ]
    }
   ],
   "source": [
    "# accuracy\n",
    "from collections import Counter\n",
    "for book, cluster in book_id.items():\n",
    "    assignments = list()\n",
    "    for real,given in zip(chunk_class,sent_to_cluster):\n",
    "        if real == cluster:\n",
    "            assignments.append(given)\n",
    "    most_common,num_most_common = Counter(assignments).most_common(1)[0] # 4, 6 times\n",
    "    print(book,\":\",most_common,\"-\",num_most_common)\n",
    "    print(\"Accuracy:\",num_most_common/limit)\n",
    "    print(\"------\")"
   ]
  },
  {
   "cell_type": "code",
   "execution_count": null,
   "id": "1590fe14",
   "metadata": {},
   "outputs": [],
   "source": []
  }
 ],
 "metadata": {
  "kernelspec": {
   "display_name": "Python 3 (ipykernel)",
   "language": "python",
   "name": "python3"
  },
  "language_info": {
   "codemirror_mode": {
    "name": "ipython",
    "version": 3
   },
   "file_extension": ".py",
   "mimetype": "text/x-python",
   "name": "python",
   "nbconvert_exporter": "python",
   "pygments_lexer": "ipython3",
   "version": "3.8.12"
  }
 },
 "nbformat": 4,
 "nbformat_minor": 5
}
