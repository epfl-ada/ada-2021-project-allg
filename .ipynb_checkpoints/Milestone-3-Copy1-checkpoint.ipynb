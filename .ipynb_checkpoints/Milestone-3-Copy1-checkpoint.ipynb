{
 "cells": [
  {
   "cell_type": "markdown",
   "id": "9bbd30f9",
   "metadata": {},
   "source": [
    "# The evolution of the presence of women’s voices in the media\n",
    "Team ALLG : Amaia Soubelet, Lilian Haemmerli, Lucie Castella, Gabriel Juri"
   ]
  },
  {
   "cell_type": "code",
   "execution_count": 1,
   "id": "a6023742",
   "metadata": {},
   "outputs": [],
   "source": [
    "###Importing all the useful librairies\n",
    "\n",
    "import time\n",
    "import json\n",
    "import bz2\n",
    "import pandas as pd\n",
    "import numpy as np\n",
    "import re\n",
    "from pathlib import Path\n",
    "import matplotlib.pyplot as plt\n",
    "import pyarrow as pa\n",
    "import pyarrow.parquet as pq\n",
    "import glob"
   ]
  },
  {
   "cell_type": "markdown",
   "id": "f9e0b322",
   "metadata": {},
   "source": [
    "### Handling data"
   ]
  },
  {
   "cell_type": "code",
   "execution_count": 2,
   "id": "653c3404-5c2a-4dee-96cf-bfd66cee6425",
   "metadata": {},
   "outputs": [],
   "source": [
    "###  IMPORTING DATA ###\n",
    "\n",
    "# Define the path where the data is located\n",
    "\n",
    "Path = \"../quotes-2020.json.bz2\" #goes out of the current folder\n"
   ]
  },
  {
   "cell_type": "markdown",
   "id": "732f054a",
   "metadata": {},
   "source": [
    "To decrease the running time, we uploaded and filtered the different year's data one by one on different computers. Here is how it was done for the year 2020. We just changed the path and the name of the output cvs file for the different years. At the end of this document, you can see those cvs files being loaded and the result of each year pictured in pie charts."
   ]
  },
  {
   "cell_type": "code",
   "execution_count": 3,
   "id": "e9a82dfc",
   "metadata": {},
   "outputs": [],
   "source": [
    "#Filtering functions\n",
    "\n",
    "def find_proba(text):\n",
    "    num = re.findall(r'-?\\d+\\.?\\d*',text)\n",
    "    return \" \".join(num)\n",
    "\n",
    "def filter_speakers(chunk_data):\n",
    "\n",
    "    chunk_data['probas'] = chunk_data['probas'].astype('str')\n",
    "    chunk_data['number'] = chunk_data['probas'].apply(lambda x: find_proba(x)) #extracts the probability of the given speaker to be correct\n",
    "    filt_low = chunk_data.drop(chunk_data[chunk_data['number'] < '0.9'].index) #removes lines with low probabilities to have the right speaker (less than 90%)\n",
    "    filt_prob = filt_low.drop(filt_low[filt_low['speaker'] == 'None'].index) #removes the lines with no speaker\n",
    "    return filt_prob\n"
   ]
  },
  {
   "cell_type": "markdown",
   "id": "72c697c9",
   "metadata": {},
   "source": [
    "The two functions above are used to filter the data. Every quote that does not have a speaker (the speaker is 'None') is removed. We also filtered the quotes depending on the probability that the given speaker is the right one. Every quote with a speaker probability of less than 0.9 was removed. Since our work is studying the gender of the speaker, we needed to be sure that the speakers linked to the quotations are the real speakers."
   ]
  },
  {
   "cell_type": "code",
   "execution_count": 4,
   "id": "4cc36778-37dc-4d7e-8f3d-4db3ff09dd16",
   "metadata": {
    "scrolled": true
   },
   "outputs": [
    {
     "name": "stdout",
     "output_type": "stream",
     "text": [
      "Processing chunk with 1000000 rows\n",
      "Index(['quoteID', 'quotation', 'speaker', 'qids', 'date', 'numOccurrences',\n",
      "       'probas', 'urls', 'phase'],\n",
      "      dtype='object')\n",
      "Processing chunk with 1000000 rows\n",
      "Index(['quoteID', 'quotation', 'speaker', 'qids', 'date', 'numOccurrences',\n",
      "       'probas', 'urls', 'phase'],\n",
      "      dtype='object')\n",
      "Processing chunk with 1000000 rows\n",
      "Index(['quoteID', 'quotation', 'speaker', 'qids', 'date', 'numOccurrences',\n",
      "       'probas', 'urls', 'phase'],\n",
      "      dtype='object')\n",
      "Processing chunk with 1000000 rows\n",
      "Index(['quoteID', 'quotation', 'speaker', 'qids', 'date', 'numOccurrences',\n",
      "       'probas', 'urls', 'phase'],\n",
      "      dtype='object')\n",
      "Processing chunk with 1000000 rows\n",
      "Index(['quoteID', 'quotation', 'speaker', 'qids', 'date', 'numOccurrences',\n",
      "       'probas', 'urls', 'phase'],\n",
      "      dtype='object')\n",
      "Processing chunk with 244449 rows\n",
      "Index(['quoteID', 'quotation', 'speaker', 'qids', 'date', 'numOccurrences',\n",
      "       'probas', 'urls', 'phase'],\n",
      "      dtype='object')\n"
     ]
    }
   ],
   "source": [
    "def process_chunk(chunk):\n",
    "        print(f'Processing chunk with {len(chunk)} rows')\n",
    "        print(chunk.columns)\n",
    "\n",
    "with pd.read_json(Path, lines=True, compression='bz2', chunksize=1_000_000) as df_reader:\n",
    "    dfs = []\n",
    "    for chunk in df_reader:\n",
    "        process_chunk(chunk)        \n",
    "        filt_chunk = filter_speakers(chunk) #filters the lines we want to remove\n",
    "        dfs.append(filt_chunk)"
   ]
  },
  {
   "cell_type": "code",
   "execution_count": 5,
   "id": "fc49f83e",
   "metadata": {},
   "outputs": [
    {
     "data": {
      "text/html": [
       "<div>\n",
       "<style scoped>\n",
       "    .dataframe tbody tr th:only-of-type {\n",
       "        vertical-align: middle;\n",
       "    }\n",
       "\n",
       "    .dataframe tbody tr th {\n",
       "        vertical-align: top;\n",
       "    }\n",
       "\n",
       "    .dataframe thead th {\n",
       "        text-align: right;\n",
       "    }\n",
       "</style>\n",
       "<table border=\"1\" class=\"dataframe\">\n",
       "  <thead>\n",
       "    <tr style=\"text-align: right;\">\n",
       "      <th></th>\n",
       "      <th>quoteID</th>\n",
       "      <th>quotation</th>\n",
       "      <th>speaker</th>\n",
       "      <th>qids</th>\n",
       "      <th>date</th>\n",
       "      <th>numOccurrences</th>\n",
       "      <th>probas</th>\n",
       "      <th>urls</th>\n",
       "      <th>phase</th>\n",
       "      <th>number</th>\n",
       "    </tr>\n",
       "  </thead>\n",
       "  <tbody>\n",
       "    <tr>\n",
       "      <th>5000000</th>\n",
       "      <td>2020-03-06-047752</td>\n",
       "      <td>People get killed in wildlife collisions, most...</td>\n",
       "      <td>Dave Marsden</td>\n",
       "      <td>[Q5240722]</td>\n",
       "      <td>2020-03-06 17:20:36</td>\n",
       "      <td>3</td>\n",
       "      <td>[['Dave Marsden', '0.6329'], ['None', '0.3671']]</td>\n",
       "      <td>[http://www.washingtontimes.com/news/2020/mar/...</td>\n",
       "      <td>E</td>\n",
       "      <td>0.6329 0.3671</td>\n",
       "    </tr>\n",
       "    <tr>\n",
       "      <th>5000001</th>\n",
       "      <td>2020-01-31-070691</td>\n",
       "      <td>People my age and older have to figure out how...</td>\n",
       "      <td>Michelle Buteau</td>\n",
       "      <td>[Q54861496]</td>\n",
       "      <td>2020-01-31 17:47:00</td>\n",
       "      <td>2</td>\n",
       "      <td>[['Michelle Buteau', '0.8651'], ['None', '0.13...</td>\n",
       "      <td>[https://www.nbcnews.com/news/nbcblk/michelle-...</td>\n",
       "      <td>E</td>\n",
       "      <td>0.8651 0.1349</td>\n",
       "    </tr>\n",
       "    <tr>\n",
       "      <th>5000002</th>\n",
       "      <td>2020-03-26-047932</td>\n",
       "      <td>People now have time on their hands and they w...</td>\n",
       "      <td>Gary Gray</td>\n",
       "      <td>[Q21228842, Q3758498, Q5525157, Q5525158, Q552...</td>\n",
       "      <td>2020-03-26 19:43:00</td>\n",
       "      <td>1</td>\n",
       "      <td>[['Gary Gray', '0.8611'], ['None', '0.1389']]</td>\n",
       "      <td>[http://capenews.net/sandwich/news/business-is...</td>\n",
       "      <td>E</td>\n",
       "      <td>0.8611 0.1389</td>\n",
       "    </tr>\n",
       "    <tr>\n",
       "      <th>5000003</th>\n",
       "      <td>2020-01-10-061824</td>\n",
       "      <td>People should not recourse to violent methods ...</td>\n",
       "      <td>Peter Machado</td>\n",
       "      <td>[Q1385539]</td>\n",
       "      <td>2020-01-10 03:04:23</td>\n",
       "      <td>1</td>\n",
       "      <td>[['Peter Machado', '0.9013'], ['None', '0.0987']]</td>\n",
       "      <td>[https://www.newkerala.com/news/2020/4460.htm]</td>\n",
       "      <td>E</td>\n",
       "      <td>0.9013 0.0987</td>\n",
       "    </tr>\n",
       "    <tr>\n",
       "      <th>5000004</th>\n",
       "      <td>2020-04-02-047663</td>\n",
       "      <td>People think it's novel that 80-year-olds are ...</td>\n",
       "      <td>Candace Owens</td>\n",
       "      <td>[Q43302090]</td>\n",
       "      <td>2020-04-02 12:27:27</td>\n",
       "      <td>2</td>\n",
       "      <td>[['Candace Owens', '0.7324'], ['Anthony Fauci'...</td>\n",
       "      <td>[https://www.news18.com/news/world/alarm-denia...</td>\n",
       "      <td>E</td>\n",
       "      <td>0.7324 0.1735 0.0903 0.0038</td>\n",
       "    </tr>\n",
       "  </tbody>\n",
       "</table>\n",
       "</div>"
      ],
      "text/plain": [
       "                   quoteID                                          quotation  \\\n",
       "5000000  2020-03-06-047752  People get killed in wildlife collisions, most...   \n",
       "5000001  2020-01-31-070691  People my age and older have to figure out how...   \n",
       "5000002  2020-03-26-047932  People now have time on their hands and they w...   \n",
       "5000003  2020-01-10-061824  People should not recourse to violent methods ...   \n",
       "5000004  2020-04-02-047663  People think it's novel that 80-year-olds are ...   \n",
       "\n",
       "                 speaker                                               qids  \\\n",
       "5000000     Dave Marsden                                         [Q5240722]   \n",
       "5000001  Michelle Buteau                                        [Q54861496]   \n",
       "5000002        Gary Gray  [Q21228842, Q3758498, Q5525157, Q5525158, Q552...   \n",
       "5000003    Peter Machado                                         [Q1385539]   \n",
       "5000004    Candace Owens                                        [Q43302090]   \n",
       "\n",
       "                       date  numOccurrences  \\\n",
       "5000000 2020-03-06 17:20:36               3   \n",
       "5000001 2020-01-31 17:47:00               2   \n",
       "5000002 2020-03-26 19:43:00               1   \n",
       "5000003 2020-01-10 03:04:23               1   \n",
       "5000004 2020-04-02 12:27:27               2   \n",
       "\n",
       "                                                    probas  \\\n",
       "5000000   [['Dave Marsden', '0.6329'], ['None', '0.3671']]   \n",
       "5000001  [['Michelle Buteau', '0.8651'], ['None', '0.13...   \n",
       "5000002      [['Gary Gray', '0.8611'], ['None', '0.1389']]   \n",
       "5000003  [['Peter Machado', '0.9013'], ['None', '0.0987']]   \n",
       "5000004  [['Candace Owens', '0.7324'], ['Anthony Fauci'...   \n",
       "\n",
       "                                                      urls phase  \\\n",
       "5000000  [http://www.washingtontimes.com/news/2020/mar/...     E   \n",
       "5000001  [https://www.nbcnews.com/news/nbcblk/michelle-...     E   \n",
       "5000002  [http://capenews.net/sandwich/news/business-is...     E   \n",
       "5000003     [https://www.newkerala.com/news/2020/4460.htm]     E   \n",
       "5000004  [https://www.news18.com/news/world/alarm-denia...     E   \n",
       "\n",
       "                              number  \n",
       "5000000                0.6329 0.3671  \n",
       "5000001                0.8651 0.1349  \n",
       "5000002                0.8611 0.1389  \n",
       "5000003                0.9013 0.0987  \n",
       "5000004  0.7324 0.1735 0.0903 0.0038  "
      ]
     },
     "execution_count": 5,
     "metadata": {},
     "output_type": "execute_result"
    }
   ],
   "source": [
    "chunk.head() #not filtered --> to check the difference"
   ]
  },
  {
   "cell_type": "code",
   "execution_count": 6,
   "id": "41ac484d",
   "metadata": {},
   "outputs": [
    {
     "data": {
      "text/html": [
       "<div>\n",
       "<style scoped>\n",
       "    .dataframe tbody tr th:only-of-type {\n",
       "        vertical-align: middle;\n",
       "    }\n",
       "\n",
       "    .dataframe tbody tr th {\n",
       "        vertical-align: top;\n",
       "    }\n",
       "\n",
       "    .dataframe thead th {\n",
       "        text-align: right;\n",
       "    }\n",
       "</style>\n",
       "<table border=\"1\" class=\"dataframe\">\n",
       "  <thead>\n",
       "    <tr style=\"text-align: right;\">\n",
       "      <th></th>\n",
       "      <th>quoteID</th>\n",
       "      <th>quotation</th>\n",
       "      <th>speaker</th>\n",
       "      <th>qids</th>\n",
       "      <th>date</th>\n",
       "      <th>numOccurrences</th>\n",
       "      <th>probas</th>\n",
       "      <th>urls</th>\n",
       "      <th>phase</th>\n",
       "      <th>number</th>\n",
       "    </tr>\n",
       "  </thead>\n",
       "  <tbody>\n",
       "    <tr>\n",
       "      <th>5000003</th>\n",
       "      <td>2020-01-10-061824</td>\n",
       "      <td>People should not recourse to violent methods ...</td>\n",
       "      <td>Peter Machado</td>\n",
       "      <td>[Q1385539]</td>\n",
       "      <td>2020-01-10 03:04:23</td>\n",
       "      <td>1</td>\n",
       "      <td>[['Peter Machado', '0.9013'], ['None', '0.0987']]</td>\n",
       "      <td>[https://www.newkerala.com/news/2020/4460.htm]</td>\n",
       "      <td>E</td>\n",
       "      <td>0.9013 0.0987</td>\n",
       "    </tr>\n",
       "    <tr>\n",
       "      <th>5000016</th>\n",
       "      <td>2020-03-18-052109</td>\n",
       "      <td>Please stay away... while crews assess damage,</td>\n",
       "      <td>Gary Herbert</td>\n",
       "      <td>[Q881188]</td>\n",
       "      <td>2020-03-18 08:48:00</td>\n",
       "      <td>1</td>\n",
       "      <td>[['Gary Herbert', '0.9404'], ['None', '0.0596']]</td>\n",
       "      <td>[https://www.cityweekly.net/BuzzBlog/archives/...</td>\n",
       "      <td>E</td>\n",
       "      <td>0.9404 0.0596</td>\n",
       "    </tr>\n",
       "    <tr>\n",
       "      <th>5000022</th>\n",
       "      <td>2020-01-24-066016</td>\n",
       "      <td>possibility of a heart bypass cannot be ruled out</td>\n",
       "      <td>Victoria , Crown Princess of Sweden</td>\n",
       "      <td>[Q156390]</td>\n",
       "      <td>2020-01-24 18:54:14</td>\n",
       "      <td>5</td>\n",
       "      <td>[['Victoria , Crown Princess of Sweden', '0.90...</td>\n",
       "      <td>[https://www.geo.tv/latest/268956-nawaz-sharif...</td>\n",
       "      <td>E</td>\n",
       "      <td>0.9058 0.0942</td>\n",
       "    </tr>\n",
       "    <tr>\n",
       "      <th>5000033</th>\n",
       "      <td>2020-02-15-035807</td>\n",
       "      <td>Previously, many things were given flexibility...</td>\n",
       "      <td>Eddin Syazlee Shith</td>\n",
       "      <td>[Q55584836]</td>\n",
       "      <td>2020-02-15 16:24:42</td>\n",
       "      <td>1</td>\n",
       "      <td>[['Eddin Syazlee Shith', '0.9581'], ['None', '...</td>\n",
       "      <td>[http://bernama.com/general/news.php?id=1814213]</td>\n",
       "      <td>E</td>\n",
       "      <td>0.9581 0.0419</td>\n",
       "    </tr>\n",
       "    <tr>\n",
       "      <th>5000035</th>\n",
       "      <td>2020-04-15-045130</td>\n",
       "      <td>Pritzker using a coronavirus briefing to campa...</td>\n",
       "      <td>Tim Schneider</td>\n",
       "      <td>[Q18745477, Q19663584, Q28466557]</td>\n",
       "      <td>2020-04-15 00:00:00</td>\n",
       "      <td>1</td>\n",
       "      <td>[['Tim Schneider', '0.9489'], ['None', '0.0511']]</td>\n",
       "      <td>[http://dailyherald.com/news/20200415/pritzker...</td>\n",
       "      <td>E</td>\n",
       "      <td>0.9489 0.0511</td>\n",
       "    </tr>\n",
       "  </tbody>\n",
       "</table>\n",
       "</div>"
      ],
      "text/plain": [
       "                   quoteID                                          quotation  \\\n",
       "5000003  2020-01-10-061824  People should not recourse to violent methods ...   \n",
       "5000016  2020-03-18-052109     Please stay away... while crews assess damage,   \n",
       "5000022  2020-01-24-066016  possibility of a heart bypass cannot be ruled out   \n",
       "5000033  2020-02-15-035807  Previously, many things were given flexibility...   \n",
       "5000035  2020-04-15-045130  Pritzker using a coronavirus briefing to campa...   \n",
       "\n",
       "                                     speaker  \\\n",
       "5000003                        Peter Machado   \n",
       "5000016                         Gary Herbert   \n",
       "5000022  Victoria , Crown Princess of Sweden   \n",
       "5000033                  Eddin Syazlee Shith   \n",
       "5000035                        Tim Schneider   \n",
       "\n",
       "                                      qids                date  \\\n",
       "5000003                         [Q1385539] 2020-01-10 03:04:23   \n",
       "5000016                          [Q881188] 2020-03-18 08:48:00   \n",
       "5000022                          [Q156390] 2020-01-24 18:54:14   \n",
       "5000033                        [Q55584836] 2020-02-15 16:24:42   \n",
       "5000035  [Q18745477, Q19663584, Q28466557] 2020-04-15 00:00:00   \n",
       "\n",
       "         numOccurrences                                             probas  \\\n",
       "5000003               1  [['Peter Machado', '0.9013'], ['None', '0.0987']]   \n",
       "5000016               1   [['Gary Herbert', '0.9404'], ['None', '0.0596']]   \n",
       "5000022               5  [['Victoria , Crown Princess of Sweden', '0.90...   \n",
       "5000033               1  [['Eddin Syazlee Shith', '0.9581'], ['None', '...   \n",
       "5000035               1  [['Tim Schneider', '0.9489'], ['None', '0.0511']]   \n",
       "\n",
       "                                                      urls phase  \\\n",
       "5000003     [https://www.newkerala.com/news/2020/4460.htm]     E   \n",
       "5000016  [https://www.cityweekly.net/BuzzBlog/archives/...     E   \n",
       "5000022  [https://www.geo.tv/latest/268956-nawaz-sharif...     E   \n",
       "5000033   [http://bernama.com/general/news.php?id=1814213]     E   \n",
       "5000035  [http://dailyherald.com/news/20200415/pritzker...     E   \n",
       "\n",
       "                number  \n",
       "5000003  0.9013 0.0987  \n",
       "5000016  0.9404 0.0596  \n",
       "5000022  0.9058 0.0942  \n",
       "5000033  0.9581 0.0419  \n",
       "5000035  0.9489 0.0511  "
      ]
     },
     "execution_count": 6,
     "metadata": {},
     "output_type": "execute_result"
    }
   ],
   "source": [
    "filt_chunk.head() #filtered "
   ]
  },
  {
   "cell_type": "code",
   "execution_count": 7,
   "id": "3f77da2f",
   "metadata": {},
   "outputs": [
    {
     "data": {
      "text/html": [
       "<div>\n",
       "<style scoped>\n",
       "    .dataframe tbody tr th:only-of-type {\n",
       "        vertical-align: middle;\n",
       "    }\n",
       "\n",
       "    .dataframe tbody tr th {\n",
       "        vertical-align: top;\n",
       "    }\n",
       "\n",
       "    .dataframe thead th {\n",
       "        text-align: right;\n",
       "    }\n",
       "</style>\n",
       "<table border=\"1\" class=\"dataframe\">\n",
       "  <thead>\n",
       "    <tr style=\"text-align: right;\">\n",
       "      <th></th>\n",
       "      <th>quoteID</th>\n",
       "      <th>quotation</th>\n",
       "      <th>speaker</th>\n",
       "      <th>qids</th>\n",
       "      <th>date</th>\n",
       "      <th>numOccurrences</th>\n",
       "      <th>probas</th>\n",
       "      <th>urls</th>\n",
       "      <th>phase</th>\n",
       "      <th>number</th>\n",
       "    </tr>\n",
       "  </thead>\n",
       "  <tbody>\n",
       "    <tr>\n",
       "      <th>7</th>\n",
       "      <td>2020-01-17-000357</td>\n",
       "      <td>[ The delay ] will have an impact [ on Slough ...</td>\n",
       "      <td>Dexter Smith</td>\n",
       "      <td>[Q5268447]</td>\n",
       "      <td>2020-01-17 13:03:00</td>\n",
       "      <td>1</td>\n",
       "      <td>[['Dexter Smith', '0.924'], ['None', '0.076']]</td>\n",
       "      <td>[http://www.sloughexpress.co.uk/gallery/slough...</td>\n",
       "      <td>E</td>\n",
       "      <td>0.924 0.076</td>\n",
       "    </tr>\n",
       "    <tr>\n",
       "      <th>8</th>\n",
       "      <td>2020-04-02-000239</td>\n",
       "      <td>[ The scheme ] treats addiction as an illness ...</td>\n",
       "      <td>Barry Coppinger</td>\n",
       "      <td>[Q4864119]</td>\n",
       "      <td>2020-04-02 14:18:20</td>\n",
       "      <td>1</td>\n",
       "      <td>[['Barry Coppinger', '0.9017'], ['None', '0.09...</td>\n",
       "      <td>[http://www.theweek.co.uk/106479/why-police-ar...</td>\n",
       "      <td>E</td>\n",
       "      <td>0.9017 0.0983</td>\n",
       "    </tr>\n",
       "    <tr>\n",
       "      <th>9</th>\n",
       "      <td>2020-03-19-000276</td>\n",
       "      <td>[ These ] actions will allow households who ha...</td>\n",
       "      <td>Ben Carson</td>\n",
       "      <td>[Q816459]</td>\n",
       "      <td>2020-03-19 19:14:00</td>\n",
       "      <td>1</td>\n",
       "      <td>[['Ben Carson', '0.9227'], ['None', '0.0773']]</td>\n",
       "      <td>[https://mortgageorb.com/hud-fha-suspend-forec...</td>\n",
       "      <td>E</td>\n",
       "      <td>0.9227 0.0773</td>\n",
       "    </tr>\n",
       "    <tr>\n",
       "      <th>16</th>\n",
       "      <td>2020-01-08-000594</td>\n",
       "      <td>11 straight weeks of pre-season,</td>\n",
       "      <td>Aphelele Fassi</td>\n",
       "      <td>[Q56255401]</td>\n",
       "      <td>2020-01-08 10:22:11</td>\n",
       "      <td>1</td>\n",
       "      <td>[['Aphelele Fassi', '0.9033'], ['None', '0.096...</td>\n",
       "      <td>[https://www.sport24.co.za/Rugby/SuperRugby/sh...</td>\n",
       "      <td>E</td>\n",
       "      <td>0.9033 0.0967</td>\n",
       "    </tr>\n",
       "    <tr>\n",
       "      <th>19</th>\n",
       "      <td>2020-02-21-000455</td>\n",
       "      <td>2019 was a landmark year for Fiverr as we comp...</td>\n",
       "      <td>Micha Kaufman</td>\n",
       "      <td>[Q26923564]</td>\n",
       "      <td>2020-02-21 13:00:00</td>\n",
       "      <td>1</td>\n",
       "      <td>[['Micha Kaufman', '0.9409'], ['None', '0.0591']]</td>\n",
       "      <td>[https://www.fool.com/investing/2020/02/21/why...</td>\n",
       "      <td>E</td>\n",
       "      <td>0.9409 0.0591</td>\n",
       "    </tr>\n",
       "    <tr>\n",
       "      <th>...</th>\n",
       "      <td>...</td>\n",
       "      <td>...</td>\n",
       "      <td>...</td>\n",
       "      <td>...</td>\n",
       "      <td>...</td>\n",
       "      <td>...</td>\n",
       "      <td>...</td>\n",
       "      <td>...</td>\n",
       "      <td>...</td>\n",
       "      <td>...</td>\n",
       "    </tr>\n",
       "    <tr>\n",
       "      <th>5244412</th>\n",
       "      <td>2020-03-24-093541</td>\n",
       "      <td>You can't get social distance in a submarine a...</td>\n",
       "      <td>Mark Esper</td>\n",
       "      <td>[Q33190271]</td>\n",
       "      <td>2020-03-24 22:32:54</td>\n",
       "      <td>1</td>\n",
       "      <td>[['Mark Esper', '0.9434'], ['None', '0.0566']]</td>\n",
       "      <td>[https://news.usni.org/2020/03/24/navy-adapts-...</td>\n",
       "      <td>E</td>\n",
       "      <td>0.9434 0.0566</td>\n",
       "    </tr>\n",
       "    <tr>\n",
       "      <th>5244424</th>\n",
       "      <td>2020-03-28-040445</td>\n",
       "      <td>You Know I' m No Good</td>\n",
       "      <td>Amy Winehouse</td>\n",
       "      <td>[Q15897]</td>\n",
       "      <td>2020-03-28 17:00:40</td>\n",
       "      <td>1</td>\n",
       "      <td>[['Amy Winehouse', '0.9469'], ['None', '0.0477...</td>\n",
       "      <td>[https://www.goldderby.com/article/2020/the-ma...</td>\n",
       "      <td>E</td>\n",
       "      <td>0.9469 0.0477 0.0021 0.0019 0.0014</td>\n",
       "    </tr>\n",
       "    <tr>\n",
       "      <th>5244435</th>\n",
       "      <td>2020-02-02-058890</td>\n",
       "      <td>You understood the structure of our story and ...</td>\n",
       "      <td>Bong Joon Ho</td>\n",
       "      <td>[Q495980]</td>\n",
       "      <td>2020-02-02 08:27:01</td>\n",
       "      <td>4</td>\n",
       "      <td>[['Bong Joon Ho', '0.9476'], ['None', '0.0454'...</td>\n",
       "      <td>[https://www.prokerala.com/news/articles/a1003...</td>\n",
       "      <td>E</td>\n",
       "      <td>0.9476 0.0454 0.004 0.0015 8.0 -4 7.0 -4</td>\n",
       "    </tr>\n",
       "    <tr>\n",
       "      <th>5244437</th>\n",
       "      <td>2020-01-28-115305</td>\n",
       "      <td>You'd probably be able to do that every now an...</td>\n",
       "      <td>Michael Maguire</td>\n",
       "      <td>[Q3856214, Q4274205, Q42887501, Q6832442, Q683...</td>\n",
       "      <td>2020-01-28 23:26:18</td>\n",
       "      <td>1</td>\n",
       "      <td>[['Michael Maguire', '0.9191'], ['None', '0.08...</td>\n",
       "      <td>[http://www.nrl.com/news/2020/01/29/tigers-and...</td>\n",
       "      <td>E</td>\n",
       "      <td>0.9191 0.0809</td>\n",
       "    </tr>\n",
       "    <tr>\n",
       "      <th>5244448</th>\n",
       "      <td>2020-02-24-080256</td>\n",
       "      <td>You've got to think that long term, it augurs ...</td>\n",
       "      <td>John Colley</td>\n",
       "      <td>[Q18530304]</td>\n",
       "      <td>2020-02-24 04:30:00</td>\n",
       "      <td>3</td>\n",
       "      <td>[['John Colley', '0.928'], ['None', '0.072']]</td>\n",
       "      <td>[http://www.farmweekly.com.au/story/6646057/st...</td>\n",
       "      <td>E</td>\n",
       "      <td>0.928 0.072</td>\n",
       "    </tr>\n",
       "  </tbody>\n",
       "</table>\n",
       "<p>701514 rows × 10 columns</p>\n",
       "</div>"
      ],
      "text/plain": [
       "                   quoteID                                          quotation  \\\n",
       "7        2020-01-17-000357  [ The delay ] will have an impact [ on Slough ...   \n",
       "8        2020-04-02-000239  [ The scheme ] treats addiction as an illness ...   \n",
       "9        2020-03-19-000276  [ These ] actions will allow households who ha...   \n",
       "16       2020-01-08-000594                   11 straight weeks of pre-season,   \n",
       "19       2020-02-21-000455  2019 was a landmark year for Fiverr as we comp...   \n",
       "...                    ...                                                ...   \n",
       "5244412  2020-03-24-093541  You can't get social distance in a submarine a...   \n",
       "5244424  2020-03-28-040445                              You Know I' m No Good   \n",
       "5244435  2020-02-02-058890  You understood the structure of our story and ...   \n",
       "5244437  2020-01-28-115305  You'd probably be able to do that every now an...   \n",
       "5244448  2020-02-24-080256  You've got to think that long term, it augurs ...   \n",
       "\n",
       "                 speaker                                               qids  \\\n",
       "7           Dexter Smith                                         [Q5268447]   \n",
       "8        Barry Coppinger                                         [Q4864119]   \n",
       "9             Ben Carson                                          [Q816459]   \n",
       "16        Aphelele Fassi                                        [Q56255401]   \n",
       "19         Micha Kaufman                                        [Q26923564]   \n",
       "...                  ...                                                ...   \n",
       "5244412       Mark Esper                                        [Q33190271]   \n",
       "5244424    Amy Winehouse                                           [Q15897]   \n",
       "5244435     Bong Joon Ho                                          [Q495980]   \n",
       "5244437  Michael Maguire  [Q3856214, Q4274205, Q42887501, Q6832442, Q683...   \n",
       "5244448      John Colley                                        [Q18530304]   \n",
       "\n",
       "                       date  numOccurrences  \\\n",
       "7       2020-01-17 13:03:00               1   \n",
       "8       2020-04-02 14:18:20               1   \n",
       "9       2020-03-19 19:14:00               1   \n",
       "16      2020-01-08 10:22:11               1   \n",
       "19      2020-02-21 13:00:00               1   \n",
       "...                     ...             ...   \n",
       "5244412 2020-03-24 22:32:54               1   \n",
       "5244424 2020-03-28 17:00:40               1   \n",
       "5244435 2020-02-02 08:27:01               4   \n",
       "5244437 2020-01-28 23:26:18               1   \n",
       "5244448 2020-02-24 04:30:00               3   \n",
       "\n",
       "                                                    probas  \\\n",
       "7           [['Dexter Smith', '0.924'], ['None', '0.076']]   \n",
       "8        [['Barry Coppinger', '0.9017'], ['None', '0.09...   \n",
       "9           [['Ben Carson', '0.9227'], ['None', '0.0773']]   \n",
       "16       [['Aphelele Fassi', '0.9033'], ['None', '0.096...   \n",
       "19       [['Micha Kaufman', '0.9409'], ['None', '0.0591']]   \n",
       "...                                                    ...   \n",
       "5244412     [['Mark Esper', '0.9434'], ['None', '0.0566']]   \n",
       "5244424  [['Amy Winehouse', '0.9469'], ['None', '0.0477...   \n",
       "5244435  [['Bong Joon Ho', '0.9476'], ['None', '0.0454'...   \n",
       "5244437  [['Michael Maguire', '0.9191'], ['None', '0.08...   \n",
       "5244448      [['John Colley', '0.928'], ['None', '0.072']]   \n",
       "\n",
       "                                                      urls phase  \\\n",
       "7        [http://www.sloughexpress.co.uk/gallery/slough...     E   \n",
       "8        [http://www.theweek.co.uk/106479/why-police-ar...     E   \n",
       "9        [https://mortgageorb.com/hud-fha-suspend-forec...     E   \n",
       "16       [https://www.sport24.co.za/Rugby/SuperRugby/sh...     E   \n",
       "19       [https://www.fool.com/investing/2020/02/21/why...     E   \n",
       "...                                                    ...   ...   \n",
       "5244412  [https://news.usni.org/2020/03/24/navy-adapts-...     E   \n",
       "5244424  [https://www.goldderby.com/article/2020/the-ma...     E   \n",
       "5244435  [https://www.prokerala.com/news/articles/a1003...     E   \n",
       "5244437  [http://www.nrl.com/news/2020/01/29/tigers-and...     E   \n",
       "5244448  [http://www.farmweekly.com.au/story/6646057/st...     E   \n",
       "\n",
       "                                           number  \n",
       "7                                     0.924 0.076  \n",
       "8                                   0.9017 0.0983  \n",
       "9                                   0.9227 0.0773  \n",
       "16                                  0.9033 0.0967  \n",
       "19                                  0.9409 0.0591  \n",
       "...                                           ...  \n",
       "5244412                             0.9434 0.0566  \n",
       "5244424        0.9469 0.0477 0.0021 0.0019 0.0014  \n",
       "5244435  0.9476 0.0454 0.004 0.0015 8.0 -4 7.0 -4  \n",
       "5244437                             0.9191 0.0809  \n",
       "5244448                               0.928 0.072  \n",
       "\n",
       "[701514 rows x 10 columns]"
      ]
     },
     "execution_count": 7,
     "metadata": {},
     "output_type": "execute_result"
    }
   ],
   "source": [
    "pd.concat(dfs)"
   ]
  },
  {
   "cell_type": "code",
   "execution_count": 8,
   "id": "1bf19791-d426-4afd-a7e3-397e54484a9f",
   "metadata": {},
   "outputs": [],
   "source": [
    "df = pd.concat(dfs)\n",
    "df['qids'] = df['qids'].str[0]"
   ]
  },
  {
   "cell_type": "markdown",
   "id": "362cf7af",
   "metadata": {},
   "source": [
    "### Adding the .parquet database given "
   ]
  },
  {
   "cell_type": "code",
   "execution_count": 9,
   "id": "afbd82dc",
   "metadata": {
    "scrolled": true
   },
   "outputs": [
    {
     "ename": "OSError",
     "evalue": "NotImplemented: Support for codec 'snappy' not built",
     "output_type": "error",
     "traceback": [
      "\u001b[1;31m---------------------------------------------------------------------------\u001b[0m",
      "\u001b[1;31mOSError\u001b[0m                                   Traceback (most recent call last)",
      "\u001b[1;32m<ipython-input-9-8370a49ee763>\u001b[0m in \u001b[0;36m<module>\u001b[1;34m\u001b[0m\n\u001b[0;32m      4\u001b[0m \u001b[0mdata_dir\u001b[0m \u001b[1;33m=\u001b[0m \u001b[0mPath\u001b[0m\u001b[1;33m(\u001b[0m\u001b[1;34m'C:/data/speaker_attributes.parquet'\u001b[0m\u001b[1;33m)\u001b[0m\u001b[1;33m\u001b[0m\u001b[1;33m\u001b[0m\u001b[0m\n\u001b[0;32m      5\u001b[0m \u001b[1;32mfor\u001b[0m \u001b[0mi\u001b[0m\u001b[1;33m,\u001b[0m \u001b[0mparquet_path\u001b[0m \u001b[1;32min\u001b[0m \u001b[0menumerate\u001b[0m\u001b[1;33m(\u001b[0m\u001b[0mdata_dir\u001b[0m\u001b[1;33m.\u001b[0m\u001b[0mglob\u001b[0m\u001b[1;33m(\u001b[0m\u001b[1;34m'*.parquet'\u001b[0m\u001b[1;33m)\u001b[0m\u001b[1;33m)\u001b[0m\u001b[1;33m:\u001b[0m\u001b[1;33m\u001b[0m\u001b[1;33m\u001b[0m\u001b[0m\n\u001b[1;32m----> 6\u001b[1;33m     \u001b[0mdf\u001b[0m \u001b[1;33m=\u001b[0m \u001b[0mpd\u001b[0m\u001b[1;33m.\u001b[0m\u001b[0mread_parquet\u001b[0m\u001b[1;33m(\u001b[0m\u001b[0mparquet_path\u001b[0m\u001b[1;33m)\u001b[0m\u001b[1;33m\u001b[0m\u001b[1;33m\u001b[0m\u001b[0m\n\u001b[0m\u001b[0;32m      7\u001b[0m     \u001b[0mwrite_header\u001b[0m \u001b[1;33m=\u001b[0m \u001b[0mi\u001b[0m \u001b[1;33m==\u001b[0m \u001b[1;36m0\u001b[0m \u001b[1;31m# write header only on the 0th file\u001b[0m\u001b[1;33m\u001b[0m\u001b[1;33m\u001b[0m\u001b[0m\n\u001b[0;32m      8\u001b[0m     \u001b[0mwrite_mode\u001b[0m \u001b[1;33m=\u001b[0m \u001b[1;34m'w'\u001b[0m \u001b[1;32mif\u001b[0m \u001b[0mi\u001b[0m \u001b[1;33m==\u001b[0m \u001b[1;36m0\u001b[0m \u001b[1;32melse\u001b[0m \u001b[1;34m'a'\u001b[0m \u001b[1;31m# 'write' mode for 0th file, 'append' otherwise\u001b[0m\u001b[1;33m\u001b[0m\u001b[1;33m\u001b[0m\u001b[0m\n",
      "\u001b[1;32m~\\anaconda3\\lib\\site-packages\\pandas\\io\\parquet.py\u001b[0m in \u001b[0;36mread_parquet\u001b[1;34m(path, engine, columns, storage_options, use_nullable_dtypes, **kwargs)\u001b[0m\n\u001b[0;32m    498\u001b[0m         \u001b[0mstorage_options\u001b[0m\u001b[1;33m=\u001b[0m\u001b[0mstorage_options\u001b[0m\u001b[1;33m,\u001b[0m\u001b[1;33m\u001b[0m\u001b[1;33m\u001b[0m\u001b[0m\n\u001b[0;32m    499\u001b[0m         \u001b[0muse_nullable_dtypes\u001b[0m\u001b[1;33m=\u001b[0m\u001b[0muse_nullable_dtypes\u001b[0m\u001b[1;33m,\u001b[0m\u001b[1;33m\u001b[0m\u001b[1;33m\u001b[0m\u001b[0m\n\u001b[1;32m--> 500\u001b[1;33m         \u001b[1;33m**\u001b[0m\u001b[0mkwargs\u001b[0m\u001b[1;33m,\u001b[0m\u001b[1;33m\u001b[0m\u001b[1;33m\u001b[0m\u001b[0m\n\u001b[0m\u001b[0;32m    501\u001b[0m     )\n",
      "\u001b[1;32m~\\anaconda3\\lib\\site-packages\\pandas\\io\\parquet.py\u001b[0m in \u001b[0;36mread\u001b[1;34m(self, path, columns, use_nullable_dtypes, storage_options, **kwargs)\u001b[0m\n\u001b[0;32m    238\u001b[0m         \u001b[1;32mtry\u001b[0m\u001b[1;33m:\u001b[0m\u001b[1;33m\u001b[0m\u001b[1;33m\u001b[0m\u001b[0m\n\u001b[0;32m    239\u001b[0m             result = self.api.parquet.read_table(\n\u001b[1;32m--> 240\u001b[1;33m                 \u001b[0mpath_or_handle\u001b[0m\u001b[1;33m,\u001b[0m \u001b[0mcolumns\u001b[0m\u001b[1;33m=\u001b[0m\u001b[0mcolumns\u001b[0m\u001b[1;33m,\u001b[0m \u001b[1;33m**\u001b[0m\u001b[0mkwargs\u001b[0m\u001b[1;33m\u001b[0m\u001b[1;33m\u001b[0m\u001b[0m\n\u001b[0m\u001b[0;32m    241\u001b[0m             ).to_pandas(**to_pandas_kwargs)\n\u001b[0;32m    242\u001b[0m             \u001b[1;32mif\u001b[0m \u001b[0mmanager\u001b[0m \u001b[1;33m==\u001b[0m \u001b[1;34m\"array\"\u001b[0m\u001b[1;33m:\u001b[0m\u001b[1;33m\u001b[0m\u001b[1;33m\u001b[0m\u001b[0m\n",
      "\u001b[1;32m~\\anaconda3\\lib\\site-packages\\pyarrow\\parquet.py\u001b[0m in \u001b[0;36mread_table\u001b[1;34m(source, columns, use_threads, metadata, use_pandas_metadata, memory_map, read_dictionary, filesystem, filters, buffer_size, partitioning, use_legacy_dataset, ignore_prefixes)\u001b[0m\n\u001b[0;32m   1730\u001b[0m \u001b[1;33m\u001b[0m\u001b[0m\n\u001b[0;32m   1731\u001b[0m         return dataset.read(columns=columns, use_threads=use_threads,\n\u001b[1;32m-> 1732\u001b[1;33m                             use_pandas_metadata=use_pandas_metadata)\n\u001b[0m\u001b[0;32m   1733\u001b[0m \u001b[1;33m\u001b[0m\u001b[0m\n\u001b[0;32m   1734\u001b[0m     \u001b[1;32mif\u001b[0m \u001b[0mignore_prefixes\u001b[0m \u001b[1;32mis\u001b[0m \u001b[1;32mnot\u001b[0m \u001b[1;32mNone\u001b[0m\u001b[1;33m:\u001b[0m\u001b[1;33m\u001b[0m\u001b[1;33m\u001b[0m\u001b[0m\n",
      "\u001b[1;32m~\\anaconda3\\lib\\site-packages\\pyarrow\\parquet.py\u001b[0m in \u001b[0;36mread\u001b[1;34m(self, columns, use_threads, use_pandas_metadata)\u001b[0m\n\u001b[0;32m   1608\u001b[0m         table = self._dataset.to_table(\n\u001b[0;32m   1609\u001b[0m             \u001b[0mcolumns\u001b[0m\u001b[1;33m=\u001b[0m\u001b[0mcolumns\u001b[0m\u001b[1;33m,\u001b[0m \u001b[0mfilter\u001b[0m\u001b[1;33m=\u001b[0m\u001b[0mself\u001b[0m\u001b[1;33m.\u001b[0m\u001b[0m_filter_expression\u001b[0m\u001b[1;33m,\u001b[0m\u001b[1;33m\u001b[0m\u001b[1;33m\u001b[0m\u001b[0m\n\u001b[1;32m-> 1610\u001b[1;33m             \u001b[0muse_threads\u001b[0m\u001b[1;33m=\u001b[0m\u001b[0muse_threads\u001b[0m\u001b[1;33m\u001b[0m\u001b[1;33m\u001b[0m\u001b[0m\n\u001b[0m\u001b[0;32m   1611\u001b[0m         )\n\u001b[0;32m   1612\u001b[0m \u001b[1;33m\u001b[0m\u001b[0m\n",
      "\u001b[1;32m~\\anaconda3\\lib\\site-packages\\pyarrow\\_dataset.pyx\u001b[0m in \u001b[0;36mpyarrow._dataset.Dataset.to_table\u001b[1;34m()\u001b[0m\n",
      "\u001b[1;32m~\\anaconda3\\lib\\site-packages\\pyarrow\\_dataset.pyx\u001b[0m in \u001b[0;36mpyarrow._dataset.Scanner.to_table\u001b[1;34m()\u001b[0m\n",
      "\u001b[1;32m~\\anaconda3\\lib\\site-packages\\pyarrow\\error.pxi\u001b[0m in \u001b[0;36mpyarrow.lib.pyarrow_internal_check_status\u001b[1;34m()\u001b[0m\n",
      "\u001b[1;32m~\\anaconda3\\lib\\site-packages\\pyarrow\\error.pxi\u001b[0m in \u001b[0;36mpyarrow.lib.check_status\u001b[1;34m()\u001b[0m\n",
      "\u001b[1;31mOSError\u001b[0m: NotImplemented: Support for codec 'snappy' not built"
     ]
    }
   ],
   "source": [
    "### Merging and importing parquet files into csv\n",
    "from pathlib import Path\n",
    "\n",
    "data_dir = Path('C:/data/speaker_attributes.parquet')\n",
    "for i, parquet_path in enumerate(data_dir.glob('*.parquet')):\n",
    "    df = pd.read_parquet(parquet_path)\n",
    "    write_header = i == 0 # write header only on the 0th file\n",
    "    write_mode = 'w' if i == 0 else 'a' # 'write' mode for 0th file, 'append' otherwise\n",
    "    df.to_csv('featuresQID.csv', mode=write_mode, header=write_header)"
   ]
  },
  {
   "cell_type": "code",
   "execution_count": 48,
   "id": "369af026-d7ca-43b5-b511-7978f32a7f85",
   "metadata": {},
   "outputs": [],
   "source": [
    "### Merging qotes and gender charateristic of each speaker \n",
    "\n",
    "featuresQID = pd.read_csv('C:/data/featuresQID.csv',low_memory=False)\n",
    "featuresQID = featuresQID.rename(columns = {'id':'qids'})\n",
    "dff = pd.merge(df,featuresQID[['qids','gender','ethnic_group','occupation','academic_degree','nationality']],on='qids', how='left')"
   ]
  },
  {
   "cell_type": "code",
   "execution_count": 46,
   "id": "cde4e03d",
   "metadata": {},
   "outputs": [
    {
     "data": {
      "text/plain": [
       "['Q49085']                 16576\n",
       "['Q7325']                   4307\n",
       "['Q974693']                 3210\n",
       "['Q1282294' 'Q6889284']     2175\n",
       "['Q7994501']                1422\n",
       "                           ...  \n",
       "['Q170284']                    1\n",
       "['Q1053996']                   1\n",
       "['Q3090691']                   1\n",
       "['Q1996477']                   1\n",
       "['Q3474201']                   1\n",
       "Name: ethnic_group, Length: 494, dtype: int64"
      ]
     },
     "execution_count": 46,
     "metadata": {},
     "output_type": "execute_result"
    }
   ],
   "source": [
    "dff['ethnic_group'].value_counts()"
   ]
  },
  {
   "cell_type": "code",
   "execution_count": 11,
   "id": "fe94a429-654b-44f7-9afb-f0ad57b28424",
   "metadata": {
    "scrolled": false
   },
   "outputs": [
    {
     "data": {
      "text/plain": [
       "['Q6581097']                         575817\n",
       "['Q6581072']                         111093\n",
       "['Q1052281']                            504\n",
       "['Q48270']                              242\n",
       "['Q18116794']                            88\n",
       "['Q2449503']                             67\n",
       "['Q6581097' 'Q179294']                   42\n",
       "['Q48270' 'Q6581072']                    23\n",
       "['Q1984232']                             21\n",
       "['Q6581072' 'Q48270']                    18\n",
       "['Q15145778']                            15\n",
       "['Q6581097' 'Q189125']                   14\n",
       "['Q15145779']                            10\n",
       "['Q12964198']                             6\n",
       "['Q1097630' 'Q48270']                     5\n",
       "['Q27679766' 'Q859614']                   4\n",
       "['Q48270' 'Q12964198']                    4\n",
       "['Q15145779' 'Q1097630']                  4\n",
       "['Q6581097' 'Q6581072']                   3\n",
       "['Q6581072' 'Q6581097']                   2\n",
       "['Q48270' 'Q189125']                      2\n",
       "['Q1289754']                              1\n",
       "['Q2449503' 'Q48270' 'Q12964198']         1\n",
       "['Q1052281' 'Q6581097']                   1\n",
       "['Q48279']                                1\n",
       "['Q6581072' 'Q3277905']                   1\n",
       "['Q6581097' 'Q1097630']                   1\n",
       "['Q6581097' 'Q18116794']                  1\n",
       "Name: gender, dtype: int64"
      ]
     },
     "execution_count": 11,
     "metadata": {},
     "output_type": "execute_result"
    }
   ],
   "source": [
    "dff['gender'].value_counts()"
   ]
  },
  {
   "cell_type": "code",
   "execution_count": 71,
   "id": "fa28d6da",
   "metadata": {},
   "outputs": [
    {
     "ename": "MemoryError",
     "evalue": "Unable to allocate 708. MiB for an array with shape (92845813,) and data type object",
     "output_type": "error",
     "traceback": [
      "\u001b[1;31m---------------------------------------------------------------------------\u001b[0m",
      "\u001b[1;31mMemoryError\u001b[0m                               Traceback (most recent call last)",
      "\u001b[1;32m<ipython-input-71-be55dcff8f09>\u001b[0m in \u001b[0;36m<module>\u001b[1;34m\u001b[0m\n\u001b[1;32m----> 1\u001b[1;33m \u001b[0mid_description\u001b[0m \u001b[1;33m=\u001b[0m \u001b[0mpd\u001b[0m\u001b[1;33m.\u001b[0m\u001b[0mread_csv\u001b[0m\u001b[1;33m(\u001b[0m\u001b[1;34m'C:\\data\\wikidata_labels_descriptions.csv.bz2'\u001b[0m\u001b[1;33m,\u001b[0m\u001b[0mcompression\u001b[0m\u001b[1;33m=\u001b[0m\u001b[1;34m'bz2'\u001b[0m\u001b[1;33m)\u001b[0m\u001b[1;33m\u001b[0m\u001b[1;33m\u001b[0m\u001b[0m\n\u001b[0m",
      "\u001b[1;32m~\\anaconda3\\lib\\site-packages\\pandas\\util\\_decorators.py\u001b[0m in \u001b[0;36mwrapper\u001b[1;34m(*args, **kwargs)\u001b[0m\n\u001b[0;32m    309\u001b[0m                     \u001b[0mstacklevel\u001b[0m\u001b[1;33m=\u001b[0m\u001b[0mstacklevel\u001b[0m\u001b[1;33m,\u001b[0m\u001b[1;33m\u001b[0m\u001b[1;33m\u001b[0m\u001b[0m\n\u001b[0;32m    310\u001b[0m                 )\n\u001b[1;32m--> 311\u001b[1;33m             \u001b[1;32mreturn\u001b[0m \u001b[0mfunc\u001b[0m\u001b[1;33m(\u001b[0m\u001b[1;33m*\u001b[0m\u001b[0margs\u001b[0m\u001b[1;33m,\u001b[0m \u001b[1;33m**\u001b[0m\u001b[0mkwargs\u001b[0m\u001b[1;33m)\u001b[0m\u001b[1;33m\u001b[0m\u001b[1;33m\u001b[0m\u001b[0m\n\u001b[0m\u001b[0;32m    312\u001b[0m \u001b[1;33m\u001b[0m\u001b[0m\n\u001b[0;32m    313\u001b[0m         \u001b[1;32mreturn\u001b[0m \u001b[0mwrapper\u001b[0m\u001b[1;33m\u001b[0m\u001b[1;33m\u001b[0m\u001b[0m\n",
      "\u001b[1;32m~\\anaconda3\\lib\\site-packages\\pandas\\io\\parsers\\readers.py\u001b[0m in \u001b[0;36mread_csv\u001b[1;34m(filepath_or_buffer, sep, delimiter, header, names, index_col, usecols, squeeze, prefix, mangle_dupe_cols, dtype, engine, converters, true_values, false_values, skipinitialspace, skiprows, skipfooter, nrows, na_values, keep_default_na, na_filter, verbose, skip_blank_lines, parse_dates, infer_datetime_format, keep_date_col, date_parser, dayfirst, cache_dates, iterator, chunksize, compression, thousands, decimal, lineterminator, quotechar, quoting, doublequote, escapechar, comment, encoding, encoding_errors, dialect, error_bad_lines, warn_bad_lines, on_bad_lines, delim_whitespace, low_memory, memory_map, float_precision, storage_options)\u001b[0m\n\u001b[0;32m    584\u001b[0m     \u001b[0mkwds\u001b[0m\u001b[1;33m.\u001b[0m\u001b[0mupdate\u001b[0m\u001b[1;33m(\u001b[0m\u001b[0mkwds_defaults\u001b[0m\u001b[1;33m)\u001b[0m\u001b[1;33m\u001b[0m\u001b[1;33m\u001b[0m\u001b[0m\n\u001b[0;32m    585\u001b[0m \u001b[1;33m\u001b[0m\u001b[0m\n\u001b[1;32m--> 586\u001b[1;33m     \u001b[1;32mreturn\u001b[0m \u001b[0m_read\u001b[0m\u001b[1;33m(\u001b[0m\u001b[0mfilepath_or_buffer\u001b[0m\u001b[1;33m,\u001b[0m \u001b[0mkwds\u001b[0m\u001b[1;33m)\u001b[0m\u001b[1;33m\u001b[0m\u001b[1;33m\u001b[0m\u001b[0m\n\u001b[0m\u001b[0;32m    587\u001b[0m \u001b[1;33m\u001b[0m\u001b[0m\n\u001b[0;32m    588\u001b[0m \u001b[1;33m\u001b[0m\u001b[0m\n",
      "\u001b[1;32m~\\anaconda3\\lib\\site-packages\\pandas\\io\\parsers\\readers.py\u001b[0m in \u001b[0;36m_read\u001b[1;34m(filepath_or_buffer, kwds)\u001b[0m\n\u001b[0;32m    486\u001b[0m \u001b[1;33m\u001b[0m\u001b[0m\n\u001b[0;32m    487\u001b[0m     \u001b[1;32mwith\u001b[0m \u001b[0mparser\u001b[0m\u001b[1;33m:\u001b[0m\u001b[1;33m\u001b[0m\u001b[1;33m\u001b[0m\u001b[0m\n\u001b[1;32m--> 488\u001b[1;33m         \u001b[1;32mreturn\u001b[0m \u001b[0mparser\u001b[0m\u001b[1;33m.\u001b[0m\u001b[0mread\u001b[0m\u001b[1;33m(\u001b[0m\u001b[0mnrows\u001b[0m\u001b[1;33m)\u001b[0m\u001b[1;33m\u001b[0m\u001b[1;33m\u001b[0m\u001b[0m\n\u001b[0m\u001b[0;32m    489\u001b[0m \u001b[1;33m\u001b[0m\u001b[0m\n\u001b[0;32m    490\u001b[0m \u001b[1;33m\u001b[0m\u001b[0m\n",
      "\u001b[1;32m~\\anaconda3\\lib\\site-packages\\pandas\\io\\parsers\\readers.py\u001b[0m in \u001b[0;36mread\u001b[1;34m(self, nrows)\u001b[0m\n\u001b[0;32m   1045\u001b[0m     \u001b[1;32mdef\u001b[0m \u001b[0mread\u001b[0m\u001b[1;33m(\u001b[0m\u001b[0mself\u001b[0m\u001b[1;33m,\u001b[0m \u001b[0mnrows\u001b[0m\u001b[1;33m=\u001b[0m\u001b[1;32mNone\u001b[0m\u001b[1;33m)\u001b[0m\u001b[1;33m:\u001b[0m\u001b[1;33m\u001b[0m\u001b[1;33m\u001b[0m\u001b[0m\n\u001b[0;32m   1046\u001b[0m         \u001b[0mnrows\u001b[0m \u001b[1;33m=\u001b[0m \u001b[0mvalidate_integer\u001b[0m\u001b[1;33m(\u001b[0m\u001b[1;34m\"nrows\"\u001b[0m\u001b[1;33m,\u001b[0m \u001b[0mnrows\u001b[0m\u001b[1;33m)\u001b[0m\u001b[1;33m\u001b[0m\u001b[1;33m\u001b[0m\u001b[0m\n\u001b[1;32m-> 1047\u001b[1;33m         \u001b[0mindex\u001b[0m\u001b[1;33m,\u001b[0m \u001b[0mcolumns\u001b[0m\u001b[1;33m,\u001b[0m \u001b[0mcol_dict\u001b[0m \u001b[1;33m=\u001b[0m \u001b[0mself\u001b[0m\u001b[1;33m.\u001b[0m\u001b[0m_engine\u001b[0m\u001b[1;33m.\u001b[0m\u001b[0mread\u001b[0m\u001b[1;33m(\u001b[0m\u001b[0mnrows\u001b[0m\u001b[1;33m)\u001b[0m\u001b[1;33m\u001b[0m\u001b[1;33m\u001b[0m\u001b[0m\n\u001b[0m\u001b[0;32m   1048\u001b[0m \u001b[1;33m\u001b[0m\u001b[0m\n\u001b[0;32m   1049\u001b[0m         \u001b[1;32mif\u001b[0m \u001b[0mindex\u001b[0m \u001b[1;32mis\u001b[0m \u001b[1;32mNone\u001b[0m\u001b[1;33m:\u001b[0m\u001b[1;33m\u001b[0m\u001b[1;33m\u001b[0m\u001b[0m\n",
      "\u001b[1;32m~\\anaconda3\\lib\\site-packages\\pandas\\io\\parsers\\c_parser_wrapper.py\u001b[0m in \u001b[0;36mread\u001b[1;34m(self, nrows)\u001b[0m\n\u001b[0;32m    223\u001b[0m                 \u001b[0mchunks\u001b[0m \u001b[1;33m=\u001b[0m \u001b[0mself\u001b[0m\u001b[1;33m.\u001b[0m\u001b[0m_reader\u001b[0m\u001b[1;33m.\u001b[0m\u001b[0mread_low_memory\u001b[0m\u001b[1;33m(\u001b[0m\u001b[0mnrows\u001b[0m\u001b[1;33m)\u001b[0m\u001b[1;33m\u001b[0m\u001b[1;33m\u001b[0m\u001b[0m\n\u001b[0;32m    224\u001b[0m                 \u001b[1;31m# destructive to chunks\u001b[0m\u001b[1;33m\u001b[0m\u001b[1;33m\u001b[0m\u001b[1;33m\u001b[0m\u001b[0m\n\u001b[1;32m--> 225\u001b[1;33m                 \u001b[0mdata\u001b[0m \u001b[1;33m=\u001b[0m \u001b[0m_concatenate_chunks\u001b[0m\u001b[1;33m(\u001b[0m\u001b[0mchunks\u001b[0m\u001b[1;33m)\u001b[0m\u001b[1;33m\u001b[0m\u001b[1;33m\u001b[0m\u001b[0m\n\u001b[0m\u001b[0;32m    226\u001b[0m \u001b[1;33m\u001b[0m\u001b[0m\n\u001b[0;32m    227\u001b[0m             \u001b[1;32melse\u001b[0m\u001b[1;33m:\u001b[0m\u001b[1;33m\u001b[0m\u001b[1;33m\u001b[0m\u001b[0m\n",
      "\u001b[1;32m~\\anaconda3\\lib\\site-packages\\pandas\\io\\parsers\\c_parser_wrapper.py\u001b[0m in \u001b[0;36m_concatenate_chunks\u001b[1;34m(chunks)\u001b[0m\n\u001b[0;32m    385\u001b[0m                 )\n\u001b[0;32m    386\u001b[0m             \u001b[1;32melse\u001b[0m\u001b[1;33m:\u001b[0m\u001b[1;33m\u001b[0m\u001b[1;33m\u001b[0m\u001b[0m\n\u001b[1;32m--> 387\u001b[1;33m                 \u001b[0mresult\u001b[0m\u001b[1;33m[\u001b[0m\u001b[0mname\u001b[0m\u001b[1;33m]\u001b[0m \u001b[1;33m=\u001b[0m \u001b[0mnp\u001b[0m\u001b[1;33m.\u001b[0m\u001b[0mconcatenate\u001b[0m\u001b[1;33m(\u001b[0m\u001b[0marrs\u001b[0m\u001b[1;33m)\u001b[0m\u001b[1;33m\u001b[0m\u001b[1;33m\u001b[0m\u001b[0m\n\u001b[0m\u001b[0;32m    388\u001b[0m \u001b[1;33m\u001b[0m\u001b[0m\n\u001b[0;32m    389\u001b[0m     \u001b[1;32mif\u001b[0m \u001b[0mwarning_columns\u001b[0m\u001b[1;33m:\u001b[0m\u001b[1;33m\u001b[0m\u001b[1;33m\u001b[0m\u001b[0m\n",
      "\u001b[1;32m<__array_function__ internals>\u001b[0m in \u001b[0;36mconcatenate\u001b[1;34m(*args, **kwargs)\u001b[0m\n",
      "\u001b[1;31mMemoryError\u001b[0m: Unable to allocate 708. MiB for an array with shape (92845813,) and data type object"
     ]
    }
   ],
   "source": [
    "id_description = pd.read_csv('C:\\data\\wikidata_labels_descriptions.csv.bz2',compression='bz2')\n"
   ]
  },
  {
   "cell_type": "code",
   "execution_count": 72,
   "id": "dd4326a1",
   "metadata": {
    "scrolled": true
   },
   "outputs": [
    {
     "data": {
      "text/html": [
       "<div>\n",
       "<style scoped>\n",
       "    .dataframe tbody tr th:only-of-type {\n",
       "        vertical-align: middle;\n",
       "    }\n",
       "\n",
       "    .dataframe tbody tr th {\n",
       "        vertical-align: top;\n",
       "    }\n",
       "\n",
       "    .dataframe thead th {\n",
       "        text-align: right;\n",
       "    }\n",
       "</style>\n",
       "<table border=\"1\" class=\"dataframe\">\n",
       "  <thead>\n",
       "    <tr style=\"text-align: right;\">\n",
       "      <th></th>\n",
       "      <th>QID</th>\n",
       "      <th>Label</th>\n",
       "      <th>Description</th>\n",
       "    </tr>\n",
       "  </thead>\n",
       "  <tbody>\n",
       "    <tr>\n",
       "      <th>0</th>\n",
       "      <td>Q31</td>\n",
       "      <td>Belgium</td>\n",
       "      <td>country in western Europe</td>\n",
       "    </tr>\n",
       "    <tr>\n",
       "      <th>1</th>\n",
       "      <td>Q8</td>\n",
       "      <td>happiness</td>\n",
       "      <td>mental or emotional state of well-being charac...</td>\n",
       "    </tr>\n",
       "    <tr>\n",
       "      <th>2</th>\n",
       "      <td>Q23</td>\n",
       "      <td>George Washington</td>\n",
       "      <td>1st president of the United States (1732–1799)</td>\n",
       "    </tr>\n",
       "    <tr>\n",
       "      <th>3</th>\n",
       "      <td>Q24</td>\n",
       "      <td>Jack Bauer</td>\n",
       "      <td>character from the television series 24</td>\n",
       "    </tr>\n",
       "    <tr>\n",
       "      <th>4</th>\n",
       "      <td>Q42</td>\n",
       "      <td>Douglas Adams</td>\n",
       "      <td>English writer and humorist</td>\n",
       "    </tr>\n",
       "    <tr>\n",
       "      <th>...</th>\n",
       "      <td>...</td>\n",
       "      <td>...</td>\n",
       "      <td>...</td>\n",
       "    </tr>\n",
       "    <tr>\n",
       "      <th>92845808</th>\n",
       "      <td>Q106406593</td>\n",
       "      <td>Irma Dexinger</td>\n",
       "      <td>Holocaust victim, born 1899-03-18</td>\n",
       "    </tr>\n",
       "    <tr>\n",
       "      <th>92845809</th>\n",
       "      <td>Q106406600</td>\n",
       "      <td>Coris argenteostriata</td>\n",
       "      <td>NaN</td>\n",
       "    </tr>\n",
       "    <tr>\n",
       "      <th>92845810</th>\n",
       "      <td>Q106406616</td>\n",
       "      <td>NaN</td>\n",
       "      <td>NaN</td>\n",
       "    </tr>\n",
       "    <tr>\n",
       "      <th>92845811</th>\n",
       "      <td>Q106406643</td>\n",
       "      <td>Fred F. Trull</td>\n",
       "      <td>politician in Massachusetts, US</td>\n",
       "    </tr>\n",
       "    <tr>\n",
       "      <th>92845812</th>\n",
       "      <td>Q106406647</td>\n",
       "      <td>NaN</td>\n",
       "      <td>NaN</td>\n",
       "    </tr>\n",
       "  </tbody>\n",
       "</table>\n",
       "<p>92845813 rows × 3 columns</p>\n",
       "</div>"
      ],
      "text/plain": [
       "                 QID                  Label  \\\n",
       "0                Q31                Belgium   \n",
       "1                 Q8              happiness   \n",
       "2                Q23      George Washington   \n",
       "3                Q24             Jack Bauer   \n",
       "4                Q42          Douglas Adams   \n",
       "...              ...                    ...   \n",
       "92845808  Q106406593          Irma Dexinger   \n",
       "92845809  Q106406600  Coris argenteostriata   \n",
       "92845810  Q106406616                    NaN   \n",
       "92845811  Q106406643          Fred F. Trull   \n",
       "92845812  Q106406647                    NaN   \n",
       "\n",
       "                                                Description  \n",
       "0                                 country in western Europe  \n",
       "1         mental or emotional state of well-being charac...  \n",
       "2            1st president of the United States (1732–1799)  \n",
       "3                   character from the television series 24  \n",
       "4                               English writer and humorist  \n",
       "...                                                     ...  \n",
       "92845808                  Holocaust victim, born 1899-03-18  \n",
       "92845809                                                NaN  \n",
       "92845810                                                NaN  \n",
       "92845811                    politician in Massachusetts, US  \n",
       "92845812                                                NaN  \n",
       "\n",
       "[92845813 rows x 3 columns]"
      ]
     },
     "execution_count": 72,
     "metadata": {},
     "output_type": "execute_result"
    }
   ],
   "source": [
    "id_description"
   ]
  },
  {
   "cell_type": "code",
   "execution_count": null,
   "id": "535a50f8",
   "metadata": {},
   "outputs": [],
   "source": [
    "#dffid=pd.merge(dff,id_description,on=\"ethnic_group\")\n",
    "id_description = id_description[id_description['Label'].notna()]"
   ]
  },
  {
   "cell_type": "code",
   "execution_count": null,
   "id": "cb14d516",
   "metadata": {},
   "outputs": [],
   "source": [
    "#dff['ethnic_group'].equals(id_description['QID'])\n",
    "#dff.loc[dff['ethnic_group']!=id_description['QID'], ['ethnic_group', 'QID']]"
   ]
  },
  {
   "cell_type": "code",
   "execution_count": null,
   "id": "a5a30240",
   "metadata": {
    "scrolled": true
   },
   "outputs": [],
   "source": [
    "dff"
   ]
  },
  {
   "cell_type": "code",
   "execution_count": 66,
   "id": "b60cc915",
   "metadata": {},
   "outputs": [
    {
     "data": {
      "text/plain": [
       "pandas.core.series.Series"
      ]
     },
     "execution_count": 66,
     "metadata": {},
     "output_type": "execute_result"
    }
   ],
   "source": [
    "type(dff['ethnic_group'])"
   ]
  },
  {
   "cell_type": "code",
   "execution_count": 67,
   "id": "5cf6ca5e",
   "metadata": {
    "scrolled": true
   },
   "outputs": [
    {
     "data": {
      "text/plain": [
       "pandas.core.series.Series"
      ]
     },
     "execution_count": 67,
     "metadata": {},
     "output_type": "execute_result"
    }
   ],
   "source": [
    "type(id_description['QID'])"
   ]
  },
  {
   "cell_type": "code",
   "execution_count": null,
   "id": "c95a52a2",
   "metadata": {},
   "outputs": [],
   "source": [
    "dff['ethnic_group'].replace('['', '')\n",
    "#id_description['QID'].str"
   ]
  },
  {
   "cell_type": "code",
   "execution_count": 69,
   "id": "9e1f97d5",
   "metadata": {
    "scrolled": true
   },
   "outputs": [
    {
     "data": {
      "text/html": [
       "<div>\n",
       "<style scoped>\n",
       "    .dataframe tbody tr th:only-of-type {\n",
       "        vertical-align: middle;\n",
       "    }\n",
       "\n",
       "    .dataframe tbody tr th {\n",
       "        vertical-align: top;\n",
       "    }\n",
       "\n",
       "    .dataframe thead th {\n",
       "        text-align: right;\n",
       "    }\n",
       "</style>\n",
       "<table border=\"1\" class=\"dataframe\">\n",
       "  <thead>\n",
       "    <tr style=\"text-align: right;\">\n",
       "      <th></th>\n",
       "      <th>QID</th>\n",
       "      <th>Label</th>\n",
       "      <th>Description</th>\n",
       "    </tr>\n",
       "  </thead>\n",
       "  <tbody>\n",
       "    <tr>\n",
       "      <th>0</th>\n",
       "      <td>Q31</td>\n",
       "      <td>Belgium</td>\n",
       "      <td>country in western Europe</td>\n",
       "    </tr>\n",
       "    <tr>\n",
       "      <th>1</th>\n",
       "      <td>Q8</td>\n",
       "      <td>happiness</td>\n",
       "      <td>mental or emotional state of well-being charac...</td>\n",
       "    </tr>\n",
       "    <tr>\n",
       "      <th>2</th>\n",
       "      <td>Q23</td>\n",
       "      <td>George Washington</td>\n",
       "      <td>1st president of the United States (1732–1799)</td>\n",
       "    </tr>\n",
       "    <tr>\n",
       "      <th>3</th>\n",
       "      <td>Q24</td>\n",
       "      <td>Jack Bauer</td>\n",
       "      <td>character from the television series 24</td>\n",
       "    </tr>\n",
       "    <tr>\n",
       "      <th>4</th>\n",
       "      <td>Q42</td>\n",
       "      <td>Douglas Adams</td>\n",
       "      <td>English writer and humorist</td>\n",
       "    </tr>\n",
       "    <tr>\n",
       "      <th>...</th>\n",
       "      <td>...</td>\n",
       "      <td>...</td>\n",
       "      <td>...</td>\n",
       "    </tr>\n",
       "    <tr>\n",
       "      <th>92845808</th>\n",
       "      <td>Q106406593</td>\n",
       "      <td>Irma Dexinger</td>\n",
       "      <td>Holocaust victim, born 1899-03-18</td>\n",
       "    </tr>\n",
       "    <tr>\n",
       "      <th>92845809</th>\n",
       "      <td>Q106406600</td>\n",
       "      <td>Coris argenteostriata</td>\n",
       "      <td>NaN</td>\n",
       "    </tr>\n",
       "    <tr>\n",
       "      <th>92845810</th>\n",
       "      <td>Q106406616</td>\n",
       "      <td>NaN</td>\n",
       "      <td>NaN</td>\n",
       "    </tr>\n",
       "    <tr>\n",
       "      <th>92845811</th>\n",
       "      <td>Q106406643</td>\n",
       "      <td>Fred F. Trull</td>\n",
       "      <td>politician in Massachusetts, US</td>\n",
       "    </tr>\n",
       "    <tr>\n",
       "      <th>92845812</th>\n",
       "      <td>Q106406647</td>\n",
       "      <td>NaN</td>\n",
       "      <td>NaN</td>\n",
       "    </tr>\n",
       "  </tbody>\n",
       "</table>\n",
       "<p>92845813 rows × 3 columns</p>\n",
       "</div>"
      ],
      "text/plain": [
       "                 QID                  Label  \\\n",
       "0                Q31                Belgium   \n",
       "1                 Q8              happiness   \n",
       "2                Q23      George Washington   \n",
       "3                Q24             Jack Bauer   \n",
       "4                Q42          Douglas Adams   \n",
       "...              ...                    ...   \n",
       "92845808  Q106406593          Irma Dexinger   \n",
       "92845809  Q106406600  Coris argenteostriata   \n",
       "92845810  Q106406616                    NaN   \n",
       "92845811  Q106406643          Fred F. Trull   \n",
       "92845812  Q106406647                    NaN   \n",
       "\n",
       "                                                Description  \n",
       "0                                 country in western Europe  \n",
       "1         mental or emotional state of well-being charac...  \n",
       "2            1st president of the United States (1732–1799)  \n",
       "3                   character from the television series 24  \n",
       "4                               English writer and humorist  \n",
       "...                                                     ...  \n",
       "92845808                  Holocaust victim, born 1899-03-18  \n",
       "92845809                                                NaN  \n",
       "92845810                                                NaN  \n",
       "92845811                    politician in Massachusetts, US  \n",
       "92845812                                                NaN  \n",
       "\n",
       "[92845813 rows x 3 columns]"
      ]
     },
     "execution_count": 69,
     "metadata": {},
     "output_type": "execute_result"
    }
   ],
   "source": [
    "id_description"
   ]
  },
  {
   "cell_type": "code",
   "execution_count": 70,
   "id": "8c2c390f",
   "metadata": {},
   "outputs": [
    {
     "data": {
      "text/plain": [
       "pandas.core.series.Series"
      ]
     },
     "execution_count": 70,
     "metadata": {},
     "output_type": "execute_result"
    }
   ],
   "source": [
    "type(id_description['QID'])"
   ]
  },
  {
   "cell_type": "code",
   "execution_count": 29,
   "id": "f415bb17",
   "metadata": {
    "scrolled": false
   },
   "outputs": [
    {
     "data": {
      "text/plain": [
       "['Q42740']                            37675\n",
       "['Q49085']                            18917\n",
       "['Q79797']                            11364\n",
       "['Q539051']                            5247\n",
       "['Q179248']                            4049\n",
       "                                      ...  \n",
       "['Q695067' 'Q68518']                      1\n",
       "['Q108266' 'Q104439864']                  1\n",
       "['Q852486']                               1\n",
       "['Q85119937' 'Q1800513' 'Q107434']        1\n",
       "['Q14167144']                             1\n",
       "Name: ethnic_group, Length: 2910, dtype: int64"
      ]
     },
     "execution_count": 29,
     "metadata": {},
     "output_type": "execute_result"
    }
   ],
   "source": [
    "featuresQID['ethnic_group'].value_counts()"
   ]
  },
  {
   "cell_type": "code",
   "execution_count": 30,
   "id": "2602f7cf",
   "metadata": {
    "scrolled": true
   },
   "outputs": [
    {
     "data": {
      "text/plain": [
       "['+2000-00-00T00:00:00Z']                                                    25845\n",
       "['+1953-01-01T00:00:00Z']                                                    15736\n",
       "['+1950-00-00T00:00:00Z']                                                    14093\n",
       "['+2000-01-01T00:00:00Z']                                                    13739\n",
       "['+1950-01-01T00:00:00Z']                                                    12768\n",
       "                                                                             ...  \n",
       "['+1813-01-01T00:00:00Z' '+1813-03-22T00:00:00Z']                                1\n",
       "['+1798-01-01T00:00:00Z' '+1797-00-00T00:00:00Z']                                1\n",
       "['+1798-01-01T00:00:00Z' '+1797-11-15T00:00:00Z']                                1\n",
       "['+1790-01-01T00:00:00Z' '+1790-10-04T00:00:00Z']                                1\n",
       "['+1850-01-01T00:00:00Z' '+1884-01-01T00:00:00Z' '+1852-01-01T00:00:00Z']        1\n",
       "Name: date_of_birth, Length: 249330, dtype: int64"
      ]
     },
     "execution_count": 30,
     "metadata": {},
     "output_type": "execute_result"
    }
   ],
   "source": [
    "featuresQID['date_of_birth'].value_counts()"
   ]
  },
  {
   "cell_type": "code",
   "execution_count": 31,
   "id": "8f1e3c29",
   "metadata": {},
   "outputs": [
    {
     "data": {
      "text/plain": [
       "pandas.core.series.Series"
      ]
     },
     "execution_count": 31,
     "metadata": {},
     "output_type": "execute_result"
    }
   ],
   "source": [
    "type(featuresQID['date_of_birth'])"
   ]
  },
  {
   "cell_type": "code",
   "execution_count": null,
   "id": "8d5ddbe9",
   "metadata": {},
   "outputs": [],
   "source": []
  },
  {
   "cell_type": "code",
   "execution_count": 40,
   "id": "ce246f80",
   "metadata": {},
   "outputs": [
    {
     "ename": "ValueError",
     "evalue": "time data '+2000-00-00T00:00:00Z' does not match format '+%Y-%m-%dT%H:%M:%S'",
     "output_type": "error",
     "traceback": [
      "\u001b[1;31m---------------------------------------------------------------------------\u001b[0m",
      "\u001b[1;31mValueError\u001b[0m                                Traceback (most recent call last)",
      "\u001b[1;32m<ipython-input-40-1fd95dd65e2c>\u001b[0m in \u001b[0;36m<module>\u001b[1;34m\u001b[0m\n\u001b[1;32m----> 1\u001b[1;33m \u001b[0mdatetime\u001b[0m\u001b[1;33m.\u001b[0m\u001b[0mdatetime\u001b[0m\u001b[1;33m(\u001b[0m\u001b[1;33m*\u001b[0m\u001b[0mtime\u001b[0m\u001b[1;33m.\u001b[0m\u001b[0mstrptime\u001b[0m\u001b[1;33m(\u001b[0m\u001b[1;34m'+2000-00-00T00:00:00Z'\u001b[0m\u001b[1;33m,\u001b[0m \u001b[1;34m\"+%Y-%m-%dT%H:%M:%S\"\u001b[0m\u001b[1;33m)\u001b[0m\u001b[1;33m[\u001b[0m\u001b[1;33m:\u001b[0m\u001b[1;36m6\u001b[0m\u001b[1;33m]\u001b[0m\u001b[1;33m)\u001b[0m\u001b[1;33m\u001b[0m\u001b[1;33m\u001b[0m\u001b[0m\n\u001b[0m",
      "\u001b[1;32m~\\anaconda3\\lib\\_strptime.py\u001b[0m in \u001b[0;36m_strptime_time\u001b[1;34m(data_string, format)\u001b[0m\n\u001b[0;32m    569\u001b[0m     \"\"\"Return a time struct based on the input string and the\n\u001b[0;32m    570\u001b[0m     format string.\"\"\"\n\u001b[1;32m--> 571\u001b[1;33m     \u001b[0mtt\u001b[0m \u001b[1;33m=\u001b[0m \u001b[0m_strptime\u001b[0m\u001b[1;33m(\u001b[0m\u001b[0mdata_string\u001b[0m\u001b[1;33m,\u001b[0m \u001b[0mformat\u001b[0m\u001b[1;33m)\u001b[0m\u001b[1;33m[\u001b[0m\u001b[1;36m0\u001b[0m\u001b[1;33m]\u001b[0m\u001b[1;33m\u001b[0m\u001b[1;33m\u001b[0m\u001b[0m\n\u001b[0m\u001b[0;32m    572\u001b[0m     \u001b[1;32mreturn\u001b[0m \u001b[0mtime\u001b[0m\u001b[1;33m.\u001b[0m\u001b[0mstruct_time\u001b[0m\u001b[1;33m(\u001b[0m\u001b[0mtt\u001b[0m\u001b[1;33m[\u001b[0m\u001b[1;33m:\u001b[0m\u001b[0mtime\u001b[0m\u001b[1;33m.\u001b[0m\u001b[0m_STRUCT_TM_ITEMS\u001b[0m\u001b[1;33m]\u001b[0m\u001b[1;33m)\u001b[0m\u001b[1;33m\u001b[0m\u001b[1;33m\u001b[0m\u001b[0m\n\u001b[0;32m    573\u001b[0m \u001b[1;33m\u001b[0m\u001b[0m\n",
      "\u001b[1;32m~\\anaconda3\\lib\\_strptime.py\u001b[0m in \u001b[0;36m_strptime\u001b[1;34m(data_string, format)\u001b[0m\n\u001b[0;32m    357\u001b[0m     \u001b[1;32mif\u001b[0m \u001b[1;32mnot\u001b[0m \u001b[0mfound\u001b[0m\u001b[1;33m:\u001b[0m\u001b[1;33m\u001b[0m\u001b[1;33m\u001b[0m\u001b[0m\n\u001b[0;32m    358\u001b[0m         raise ValueError(\"time data %r does not match format %r\" %\n\u001b[1;32m--> 359\u001b[1;33m                          (data_string, format))\n\u001b[0m\u001b[0;32m    360\u001b[0m     \u001b[1;32mif\u001b[0m \u001b[0mlen\u001b[0m\u001b[1;33m(\u001b[0m\u001b[0mdata_string\u001b[0m\u001b[1;33m)\u001b[0m \u001b[1;33m!=\u001b[0m \u001b[0mfound\u001b[0m\u001b[1;33m.\u001b[0m\u001b[0mend\u001b[0m\u001b[1;33m(\u001b[0m\u001b[1;33m)\u001b[0m\u001b[1;33m:\u001b[0m\u001b[1;33m\u001b[0m\u001b[1;33m\u001b[0m\u001b[0m\n\u001b[0;32m    361\u001b[0m         raise ValueError(\"unconverted data remains: %s\" %\n",
      "\u001b[1;31mValueError\u001b[0m: time data '+2000-00-00T00:00:00Z' does not match format '+%Y-%m-%dT%H:%M:%S'"
     ]
    }
   ],
   "source": [
    "datetime.datetime(*time.strptime('+2000-00-00T00:00:00Z', \"+%Y-%m-%dT%H:%M:%S\")[:6])"
   ]
  },
  {
   "cell_type": "code",
   "execution_count": 34,
   "id": "3304e5d2",
   "metadata": {},
   "outputs": [
    {
     "ename": "TypeError",
     "evalue": "strptime() argument 1 must be str, not list",
     "output_type": "error",
     "traceback": [
      "\u001b[1;31m---------------------------------------------------------------------------\u001b[0m",
      "\u001b[1;31mTypeError\u001b[0m                                 Traceback (most recent call last)",
      "\u001b[1;32m<ipython-input-34-d2d870cd52ec>\u001b[0m in \u001b[0;36m<module>\u001b[1;34m\u001b[0m\n\u001b[0;32m      2\u001b[0m \u001b[1;33m\u001b[0m\u001b[0m\n\u001b[0;32m      3\u001b[0m \u001b[0mdate\u001b[0m \u001b[1;33m=\u001b[0m \u001b[1;33m[\u001b[0m\u001b[1;34m'+2000-00-00T00:00:00Z'\u001b[0m\u001b[1;33m]\u001b[0m\u001b[1;33m\u001b[0m\u001b[1;33m\u001b[0m\u001b[0m\n\u001b[1;32m----> 4\u001b[1;33m \u001b[0mdatem\u001b[0m \u001b[1;33m=\u001b[0m \u001b[0mdatetime\u001b[0m\u001b[1;33m.\u001b[0m\u001b[0mdatetime\u001b[0m\u001b[1;33m.\u001b[0m\u001b[0mstrptime\u001b[0m\u001b[1;33m(\u001b[0m\u001b[0mdate\u001b[0m\u001b[1;33m,\u001b[0m \u001b[1;34m\"%Y-%m-%d %H:%M:%S\"\u001b[0m\u001b[1;33m)\u001b[0m\u001b[1;33m\u001b[0m\u001b[1;33m\u001b[0m\u001b[0m\n\u001b[0m",
      "\u001b[1;31mTypeError\u001b[0m: strptime() argument 1 must be str, not list"
     ]
    }
   ],
   "source": [
    "import datetime\n",
    "\n",
    "date = ['+2000-00-00T00:00:00Z']\n",
    "datem = datetime.datetime.strptime(date, \"%Y-%m-%d %H:%M:%S\")\n"
   ]
  },
  {
   "cell_type": "code",
   "execution_count": 25,
   "id": "e9e70529",
   "metadata": {},
   "outputs": [
    {
     "ename": "ParserError",
     "evalue": "Unknown string format: ['+1732-02-22T00:00:00Z']",
     "output_type": "error",
     "traceback": [
      "\u001b[1;31m---------------------------------------------------------------------------\u001b[0m",
      "\u001b[1;31mTypeError\u001b[0m                                 Traceback (most recent call last)",
      "\u001b[1;32m~\\anaconda3\\lib\\site-packages\\pandas\\core\\arrays\\datetimes.py\u001b[0m in \u001b[0;36mobjects_to_datetime64ns\u001b[1;34m(data, dayfirst, yearfirst, utc, errors, require_iso8601, allow_object, allow_mixed)\u001b[0m\n\u001b[0;32m   2186\u001b[0m         \u001b[1;32mtry\u001b[0m\u001b[1;33m:\u001b[0m\u001b[1;33m\u001b[0m\u001b[1;33m\u001b[0m\u001b[0m\n\u001b[1;32m-> 2187\u001b[1;33m             \u001b[0mvalues\u001b[0m\u001b[1;33m,\u001b[0m \u001b[0mtz_parsed\u001b[0m \u001b[1;33m=\u001b[0m \u001b[0mconversion\u001b[0m\u001b[1;33m.\u001b[0m\u001b[0mdatetime_to_datetime64\u001b[0m\u001b[1;33m(\u001b[0m\u001b[0mdata\u001b[0m\u001b[1;33m.\u001b[0m\u001b[0mravel\u001b[0m\u001b[1;33m(\u001b[0m\u001b[1;34m\"K\"\u001b[0m\u001b[1;33m)\u001b[0m\u001b[1;33m)\u001b[0m\u001b[1;33m\u001b[0m\u001b[1;33m\u001b[0m\u001b[0m\n\u001b[0m\u001b[0;32m   2188\u001b[0m             \u001b[1;31m# If tzaware, these values represent unix timestamps, so we\u001b[0m\u001b[1;33m\u001b[0m\u001b[1;33m\u001b[0m\u001b[1;33m\u001b[0m\u001b[0m\n",
      "\u001b[1;32m~\\anaconda3\\lib\\site-packages\\pandas\\_libs\\tslibs\\conversion.pyx\u001b[0m in \u001b[0;36mpandas._libs.tslibs.conversion.datetime_to_datetime64\u001b[1;34m()\u001b[0m\n",
      "\u001b[1;31mTypeError\u001b[0m: Unrecognized value type: <class 'str'>",
      "\nDuring handling of the above exception, another exception occurred:\n",
      "\u001b[1;31mParserError\u001b[0m                               Traceback (most recent call last)",
      "\u001b[1;32m<ipython-input-25-191fd29fc576>\u001b[0m in \u001b[0;36m<module>\u001b[1;34m\u001b[0m\n\u001b[1;32m----> 1\u001b[1;33m \u001b[0mdff\u001b[0m\u001b[1;33m[\u001b[0m\u001b[1;34m'year'\u001b[0m\u001b[1;33m]\u001b[0m \u001b[1;33m=\u001b[0m \u001b[0mpd\u001b[0m\u001b[1;33m.\u001b[0m\u001b[0mDatetimeIndex\u001b[0m\u001b[1;33m(\u001b[0m\u001b[0mfeaturesQID\u001b[0m\u001b[1;33m[\u001b[0m\u001b[1;34m'date_of_birth'\u001b[0m\u001b[1;33m]\u001b[0m\u001b[1;33m)\u001b[0m\u001b[1;33m.\u001b[0m\u001b[0myear\u001b[0m\u001b[1;33m\u001b[0m\u001b[1;33m\u001b[0m\u001b[0m\n\u001b[0m",
      "\u001b[1;32m~\\anaconda3\\lib\\site-packages\\pandas\\core\\indexes\\datetimes.py\u001b[0m in \u001b[0;36m__new__\u001b[1;34m(cls, data, freq, tz, normalize, closed, ambiguous, dayfirst, yearfirst, dtype, copy, name)\u001b[0m\n\u001b[0;32m    339\u001b[0m             \u001b[0mdayfirst\u001b[0m\u001b[1;33m=\u001b[0m\u001b[0mdayfirst\u001b[0m\u001b[1;33m,\u001b[0m\u001b[1;33m\u001b[0m\u001b[1;33m\u001b[0m\u001b[0m\n\u001b[0;32m    340\u001b[0m             \u001b[0myearfirst\u001b[0m\u001b[1;33m=\u001b[0m\u001b[0myearfirst\u001b[0m\u001b[1;33m,\u001b[0m\u001b[1;33m\u001b[0m\u001b[1;33m\u001b[0m\u001b[0m\n\u001b[1;32m--> 341\u001b[1;33m             \u001b[0mambiguous\u001b[0m\u001b[1;33m=\u001b[0m\u001b[0mambiguous\u001b[0m\u001b[1;33m,\u001b[0m\u001b[1;33m\u001b[0m\u001b[1;33m\u001b[0m\u001b[0m\n\u001b[0m\u001b[0;32m    342\u001b[0m         )\n\u001b[0;32m    343\u001b[0m \u001b[1;33m\u001b[0m\u001b[0m\n",
      "\u001b[1;32m~\\anaconda3\\lib\\site-packages\\pandas\\core\\arrays\\datetimes.py\u001b[0m in \u001b[0;36m_from_sequence_not_strict\u001b[1;34m(cls, data, dtype, copy, tz, freq, dayfirst, yearfirst, ambiguous)\u001b[0m\n\u001b[0;32m    360\u001b[0m             \u001b[0mdayfirst\u001b[0m\u001b[1;33m=\u001b[0m\u001b[0mdayfirst\u001b[0m\u001b[1;33m,\u001b[0m\u001b[1;33m\u001b[0m\u001b[1;33m\u001b[0m\u001b[0m\n\u001b[0;32m    361\u001b[0m             \u001b[0myearfirst\u001b[0m\u001b[1;33m=\u001b[0m\u001b[0myearfirst\u001b[0m\u001b[1;33m,\u001b[0m\u001b[1;33m\u001b[0m\u001b[1;33m\u001b[0m\u001b[0m\n\u001b[1;32m--> 362\u001b[1;33m             \u001b[0mambiguous\u001b[0m\u001b[1;33m=\u001b[0m\u001b[0mambiguous\u001b[0m\u001b[1;33m,\u001b[0m\u001b[1;33m\u001b[0m\u001b[1;33m\u001b[0m\u001b[0m\n\u001b[0m\u001b[0;32m    363\u001b[0m         )\n\u001b[0;32m    364\u001b[0m \u001b[1;33m\u001b[0m\u001b[0m\n",
      "\u001b[1;32m~\\anaconda3\\lib\\site-packages\\pandas\\core\\arrays\\datetimes.py\u001b[0m in \u001b[0;36msequence_to_dt64ns\u001b[1;34m(data, dtype, copy, tz, dayfirst, yearfirst, ambiguous, allow_object, allow_mixed, require_iso8601)\u001b[0m\n\u001b[0;32m   2064\u001b[0m                 \u001b[0mallow_object\u001b[0m\u001b[1;33m=\u001b[0m\u001b[0mallow_object\u001b[0m\u001b[1;33m,\u001b[0m\u001b[1;33m\u001b[0m\u001b[1;33m\u001b[0m\u001b[0m\n\u001b[0;32m   2065\u001b[0m                 \u001b[0mallow_mixed\u001b[0m\u001b[1;33m=\u001b[0m\u001b[0mallow_mixed\u001b[0m\u001b[1;33m,\u001b[0m\u001b[1;33m\u001b[0m\u001b[1;33m\u001b[0m\u001b[0m\n\u001b[1;32m-> 2066\u001b[1;33m                 \u001b[0mrequire_iso8601\u001b[0m\u001b[1;33m=\u001b[0m\u001b[0mrequire_iso8601\u001b[0m\u001b[1;33m,\u001b[0m\u001b[1;33m\u001b[0m\u001b[1;33m\u001b[0m\u001b[0m\n\u001b[0m\u001b[0;32m   2067\u001b[0m             )\n\u001b[0;32m   2068\u001b[0m             \u001b[1;32mif\u001b[0m \u001b[0mtz\u001b[0m \u001b[1;32mand\u001b[0m \u001b[0minferred_tz\u001b[0m\u001b[1;33m:\u001b[0m\u001b[1;33m\u001b[0m\u001b[1;33m\u001b[0m\u001b[0m\n",
      "\u001b[1;32m~\\anaconda3\\lib\\site-packages\\pandas\\core\\arrays\\datetimes.py\u001b[0m in \u001b[0;36mobjects_to_datetime64ns\u001b[1;34m(data, dayfirst, yearfirst, utc, errors, require_iso8601, allow_object, allow_mixed)\u001b[0m\n\u001b[0;32m   2191\u001b[0m             \u001b[1;32mreturn\u001b[0m \u001b[0mvalues\u001b[0m\u001b[1;33m.\u001b[0m\u001b[0mview\u001b[0m\u001b[1;33m(\u001b[0m\u001b[1;34m\"i8\"\u001b[0m\u001b[1;33m)\u001b[0m\u001b[1;33m,\u001b[0m \u001b[0mtz_parsed\u001b[0m\u001b[1;33m\u001b[0m\u001b[1;33m\u001b[0m\u001b[0m\n\u001b[0;32m   2192\u001b[0m         \u001b[1;32mexcept\u001b[0m \u001b[1;33m(\u001b[0m\u001b[0mValueError\u001b[0m\u001b[1;33m,\u001b[0m \u001b[0mTypeError\u001b[0m\u001b[1;33m)\u001b[0m\u001b[1;33m:\u001b[0m\u001b[1;33m\u001b[0m\u001b[1;33m\u001b[0m\u001b[0m\n\u001b[1;32m-> 2193\u001b[1;33m             \u001b[1;32mraise\u001b[0m \u001b[0merr\u001b[0m\u001b[1;33m\u001b[0m\u001b[1;33m\u001b[0m\u001b[0m\n\u001b[0m\u001b[0;32m   2194\u001b[0m \u001b[1;33m\u001b[0m\u001b[0m\n\u001b[0;32m   2195\u001b[0m     \u001b[1;32mif\u001b[0m \u001b[0mtz_parsed\u001b[0m \u001b[1;32mis\u001b[0m \u001b[1;32mnot\u001b[0m \u001b[1;32mNone\u001b[0m\u001b[1;33m:\u001b[0m\u001b[1;33m\u001b[0m\u001b[1;33m\u001b[0m\u001b[0m\n",
      "\u001b[1;32m~\\anaconda3\\lib\\site-packages\\pandas\\core\\arrays\\datetimes.py\u001b[0m in \u001b[0;36mobjects_to_datetime64ns\u001b[1;34m(data, dayfirst, yearfirst, utc, errors, require_iso8601, allow_object, allow_mixed)\u001b[0m\n\u001b[0;32m   2180\u001b[0m             \u001b[0myearfirst\u001b[0m\u001b[1;33m=\u001b[0m\u001b[0myearfirst\u001b[0m\u001b[1;33m,\u001b[0m\u001b[1;33m\u001b[0m\u001b[1;33m\u001b[0m\u001b[0m\n\u001b[0;32m   2181\u001b[0m             \u001b[0mrequire_iso8601\u001b[0m\u001b[1;33m=\u001b[0m\u001b[0mrequire_iso8601\u001b[0m\u001b[1;33m,\u001b[0m\u001b[1;33m\u001b[0m\u001b[1;33m\u001b[0m\u001b[0m\n\u001b[1;32m-> 2182\u001b[1;33m             \u001b[0mallow_mixed\u001b[0m\u001b[1;33m=\u001b[0m\u001b[0mallow_mixed\u001b[0m\u001b[1;33m,\u001b[0m\u001b[1;33m\u001b[0m\u001b[1;33m\u001b[0m\u001b[0m\n\u001b[0m\u001b[0;32m   2183\u001b[0m         )\n\u001b[0;32m   2184\u001b[0m         \u001b[0mresult\u001b[0m \u001b[1;33m=\u001b[0m \u001b[0mresult\u001b[0m\u001b[1;33m.\u001b[0m\u001b[0mreshape\u001b[0m\u001b[1;33m(\u001b[0m\u001b[0mdata\u001b[0m\u001b[1;33m.\u001b[0m\u001b[0mshape\u001b[0m\u001b[1;33m,\u001b[0m \u001b[0morder\u001b[0m\u001b[1;33m=\u001b[0m\u001b[0morder\u001b[0m\u001b[1;33m)\u001b[0m\u001b[1;33m\u001b[0m\u001b[1;33m\u001b[0m\u001b[0m\n",
      "\u001b[1;32m~\\anaconda3\\lib\\site-packages\\pandas\\_libs\\tslib.pyx\u001b[0m in \u001b[0;36mpandas._libs.tslib.array_to_datetime\u001b[1;34m()\u001b[0m\n",
      "\u001b[1;32m~\\anaconda3\\lib\\site-packages\\pandas\\_libs\\tslib.pyx\u001b[0m in \u001b[0;36mpandas._libs.tslib.array_to_datetime\u001b[1;34m()\u001b[0m\n",
      "\u001b[1;32m~\\anaconda3\\lib\\site-packages\\pandas\\_libs\\tslib.pyx\u001b[0m in \u001b[0;36mpandas._libs.tslib._array_to_datetime_object\u001b[1;34m()\u001b[0m\n",
      "\u001b[1;32m~\\anaconda3\\lib\\site-packages\\pandas\\_libs\\tslib.pyx\u001b[0m in \u001b[0;36mpandas._libs.tslib._array_to_datetime_object\u001b[1;34m()\u001b[0m\n",
      "\u001b[1;32m~\\anaconda3\\lib\\site-packages\\pandas\\_libs\\tslibs\\parsing.pyx\u001b[0m in \u001b[0;36mpandas._libs.tslibs.parsing.parse_datetime_string\u001b[1;34m()\u001b[0m\n",
      "\u001b[1;32m~\\anaconda3\\lib\\site-packages\\dateutil\\parser\\_parser.py\u001b[0m in \u001b[0;36mparse\u001b[1;34m(timestr, parserinfo, **kwargs)\u001b[0m\n\u001b[0;32m   1366\u001b[0m         \u001b[1;32mreturn\u001b[0m \u001b[0mparser\u001b[0m\u001b[1;33m(\u001b[0m\u001b[0mparserinfo\u001b[0m\u001b[1;33m)\u001b[0m\u001b[1;33m.\u001b[0m\u001b[0mparse\u001b[0m\u001b[1;33m(\u001b[0m\u001b[0mtimestr\u001b[0m\u001b[1;33m,\u001b[0m \u001b[1;33m**\u001b[0m\u001b[0mkwargs\u001b[0m\u001b[1;33m)\u001b[0m\u001b[1;33m\u001b[0m\u001b[1;33m\u001b[0m\u001b[0m\n\u001b[0;32m   1367\u001b[0m     \u001b[1;32melse\u001b[0m\u001b[1;33m:\u001b[0m\u001b[1;33m\u001b[0m\u001b[1;33m\u001b[0m\u001b[0m\n\u001b[1;32m-> 1368\u001b[1;33m         \u001b[1;32mreturn\u001b[0m \u001b[0mDEFAULTPARSER\u001b[0m\u001b[1;33m.\u001b[0m\u001b[0mparse\u001b[0m\u001b[1;33m(\u001b[0m\u001b[0mtimestr\u001b[0m\u001b[1;33m,\u001b[0m \u001b[1;33m**\u001b[0m\u001b[0mkwargs\u001b[0m\u001b[1;33m)\u001b[0m\u001b[1;33m\u001b[0m\u001b[1;33m\u001b[0m\u001b[0m\n\u001b[0m\u001b[0;32m   1369\u001b[0m \u001b[1;33m\u001b[0m\u001b[0m\n\u001b[0;32m   1370\u001b[0m \u001b[1;33m\u001b[0m\u001b[0m\n",
      "\u001b[1;32m~\\anaconda3\\lib\\site-packages\\dateutil\\parser\\_parser.py\u001b[0m in \u001b[0;36mparse\u001b[1;34m(self, timestr, default, ignoretz, tzinfos, **kwargs)\u001b[0m\n\u001b[0;32m    641\u001b[0m \u001b[1;33m\u001b[0m\u001b[0m\n\u001b[0;32m    642\u001b[0m         \u001b[1;32mif\u001b[0m \u001b[0mres\u001b[0m \u001b[1;32mis\u001b[0m \u001b[1;32mNone\u001b[0m\u001b[1;33m:\u001b[0m\u001b[1;33m\u001b[0m\u001b[1;33m\u001b[0m\u001b[0m\n\u001b[1;32m--> 643\u001b[1;33m             \u001b[1;32mraise\u001b[0m \u001b[0mParserError\u001b[0m\u001b[1;33m(\u001b[0m\u001b[1;34m\"Unknown string format: %s\"\u001b[0m\u001b[1;33m,\u001b[0m \u001b[0mtimestr\u001b[0m\u001b[1;33m)\u001b[0m\u001b[1;33m\u001b[0m\u001b[1;33m\u001b[0m\u001b[0m\n\u001b[0m\u001b[0;32m    644\u001b[0m \u001b[1;33m\u001b[0m\u001b[0m\n\u001b[0;32m    645\u001b[0m         \u001b[1;32mif\u001b[0m \u001b[0mlen\u001b[0m\u001b[1;33m(\u001b[0m\u001b[0mres\u001b[0m\u001b[1;33m)\u001b[0m \u001b[1;33m==\u001b[0m \u001b[1;36m0\u001b[0m\u001b[1;33m:\u001b[0m\u001b[1;33m\u001b[0m\u001b[1;33m\u001b[0m\u001b[0m\n",
      "\u001b[1;31mParserError\u001b[0m: Unknown string format: ['+1732-02-22T00:00:00Z']"
     ]
    }
   ],
   "source": [
    "dff['year'] = pd.DatetimeIndex(featuresQID['date_of_birth']).year"
   ]
  },
  {
   "cell_type": "markdown",
   "id": "2103b33d",
   "metadata": {},
   "source": [
    "### Counting gender proportions"
   ]
  },
  {
   "cell_type": "code",
   "execution_count": 13,
   "id": "bfb38f03-b31f-4819-8228-2a0aae6f6827",
   "metadata": {},
   "outputs": [
    {
     "data": {
      "text/plain": [
       "male      575884\n",
       "female    111597\n",
       "NaN        13523\n",
       "other        510\n",
       "Name: gen, dtype: int64"
      ]
     },
     "execution_count": 13,
     "metadata": {},
     "output_type": "execute_result"
    }
   ],
   "source": [
    "def gender(x):\n",
    "    \n",
    "    'Function to convert wikidata id into a gender string value'\n",
    "    'We consider male and female as male/female and transgender male/female respectly'\n",
    "\n",
    "    if x == \"['Q6581097']\" or x ==\"['Q2449503']\": #males and transgender males\n",
    "        return 'male'\n",
    "    elif x == \"['Q6581072']\" or  x ==  \"['Q1052281']\": #females and transgender females\n",
    "        return 'female'\n",
    "    elif pd.isna(x):\n",
    "        return np.nan\n",
    "    else:\n",
    "        return 'other'\n",
    "\n",
    "dff['gen'] = dff['gender'].apply(gender)\n",
    "dff['gen'].value_counts(dropna=False)"
   ]
  },
  {
   "cell_type": "code",
   "execution_count": 14,
   "id": "82885c31",
   "metadata": {},
   "outputs": [],
   "source": [
    "import pickle\n",
    "path ='gen_2020.pickle'\n",
    "# Store data (serialize)\n",
    "with open(path, 'wb') as handle:\n",
    "    pickle.dump(dff[['qids','quoteID','gen']], handle, protocol=pickle.HIGHEST_PROTOCOL)\n",
    "\n",
    "dff[['qids','quoteID','gen']]\n",
    "pd.DataFrame.from_dict(data=dff[['qids','quoteID','gen']], orient='columns').to_csv(\"gen_2020.csv\", header=False)"
   ]
  },
  {
   "cell_type": "code",
   "execution_count": 15,
   "id": "19ac07f0",
   "metadata": {},
   "outputs": [
    {
     "name": "stdout",
     "output_type": "stream",
     "text": [
      "0.84% of the speakers are males, 0.16% female,0.0007% other gender or combination\n"
     ]
    }
   ],
   "source": [
    "### First small calculation of proportion of speakers \n",
    "import seaborn as sns\n",
    "male  =   575884 #based on outputed numbers above\n",
    "female =  111597\n",
    "Nann   = 13523\n",
    "other  = 510\n",
    "total =(male + female +other)\n",
    "print(f'{male/total:,.2f}% of the speakers are males, {female/total:,.2f}% female,{other/total:,.4f}% other gender or combination')\n"
   ]
  },
  {
   "cell_type": "code",
   "execution_count": 16,
   "id": "05bccb28-4886-4365-915d-a71e58e4c0eb",
   "metadata": {},
   "outputs": [
    {
     "data": {
      "image/png": "[encoded data removed]",
      "text/plain": [
       "<Figure size 432x288 with 1 Axes>"
      ]
     },
     "metadata": {
      "needs_background": "light"
     },
     "output_type": "display_data"
    }
   ],
   "source": [
    "### plot of the speakers proportion (here for 2020)\n",
    "\n",
    "ax = sns.countplot(x=\"gen\", data=dff)\n",
    "ax.set(xlabel='Gender', ylabel='Log [count]')\n",
    "ax.set_title('Speakers Gender in 2020')\n",
    "plt.yscale(\"log\")\n",
    "plt.show()\n"
   ]
  },
  {
   "cell_type": "markdown",
   "id": "c0fe1704",
   "metadata": {},
   "source": [
    "### Pie charts of proportion of women throughout the 6 years:\n",
    "cvs files of every year (that were generated one by one on our different computers using the code above) are now being loaded and presented in graphs. "
   ]
  },
  {
   "cell_type": "code",
   "execution_count": 17,
   "id": "a3640d81",
   "metadata": {
    "scrolled": true
   },
   "outputs": [
    {
     "ename": "SyntaxError",
     "evalue": "EOL while scanning string literal (<ipython-input-17-3ebaebf1ab88>, line 4)",
     "output_type": "error",
     "traceback": [
      "\u001b[1;36m  File \u001b[1;32m\"<ipython-input-17-3ebaebf1ab88>\"\u001b[1;36m, line \u001b[1;32m4\u001b[0m\n\u001b[1;33m    path = r'C:/data/gen\u001b[0m\n\u001b[1;37m                        ^\u001b[0m\n\u001b[1;31mSyntaxError\u001b[0m\u001b[1;31m:\u001b[0m EOL while scanning string literal\n"
     ]
    }
   ],
   "source": [
    "# pie charts of the results\n",
    "\n",
    "colnames = ['qids','quoteid','gender']\n",
    "path = r'C:/data/gen\n",
    "all_files = glob.glob(path + \"/*.csv\")\n",
    "\n",
    "li = []\n",
    "\n",
    "import matplotlib.pyplot as plotter\n",
    "\n",
    "year = 2015 #to have the right year on top of every chart. starting at year 2015\n",
    "\n",
    "for filename in all_files:\n",
    "    df = pd.read_csv(filename, header = None, index_col=0, names = colnames)\n",
    "    male = df[df['gender'] == 'male'].gender.count()\n",
    "    female = df[df['gender'] == 'female'].gender.count()\n",
    "    other = df[df['gender'] == 'other'].gender.count()\n",
    "    total = male + female + other\n",
    "    \n",
    "    # The slice names of a population distribution pie chart\n",
    "    labels = ['male','female','other']\n",
    "    \n",
    "    # Population data\n",
    "    sizes = [male/total, female/total, other/total]\n",
    "    figureObject, axesObject = plotter.subplots()\n",
    "    \n",
    "    # Drawing the pie chart\n",
    "    axesObject.pie(sizes,\n",
    "        labels=labels,\n",
    "        autopct='%1.1f%%',\n",
    "        startangle=90,\n",
    "        normalize=False)\n",
    "    \n",
    "    # Aspect ratio - equal means pie is a circle\n",
    "    axesObject.axis('equal')\n",
    "    plt.title(f'Proportion of speakers regarding the gender for year {year}');\n",
    "    plotter.show()\n",
    "    \n",
    "    li.append(df)\n",
    "    \n",
    "    year = year + 1 #to go through every year\n",
    "    \n",
    "\n",
    "allyears = pd.concat(li, axis=0, ignore_index=True)\n",
    "allyears['quoteid'] = allyears['quoteid'].str[:-7];"
   ]
  },
  {
   "cell_type": "code",
   "execution_count": null,
   "id": "1b68a9f0",
   "metadata": {},
   "outputs": [],
   "source": [
    "### Chart of all years together --> mean\n",
    "\n",
    "male = allyears[allyears['gender'] == 'male'].gender.count()\n",
    "female = allyears[allyears['gender'] == 'female'].gender.count()\n",
    "other = allyears[allyears['gender'] == 'other'].gender.count()\n",
    "total = male + female + other\n",
    "# import the pyplot library\n",
    "\n",
    "import matplotlib.pyplot as plotter\n",
    "# The slice names of a population distribution pie chart\n",
    "labels = ['male','female','other']\n",
    "# Population data\n",
    "sizes = [male/total, female/total, other/total]\n",
    "figureObject, axesObject = plotter.subplots()\n",
    "\n",
    "# Draw the pie chart\n",
    "axesObject.pie(sizes,\n",
    "        labels=labels,\n",
    "        autopct='%1.1f%%',\n",
    "        startangle=90)\n",
    "# Aspect ratio - equal means pie is a circle\n",
    "\n",
    "axesObject.axis('equal')\n",
    "plt.title('Proportion of speakers regarding the gender for years 2015 to 2020');\n",
    "plotter.show()"
   ]
  }
 ],
 "metadata": {
  "kernelspec": {
   "display_name": "Python 3",
   "language": "python",
   "name": "python3"
  },
  "language_info": {
   "codemirror_mode": {
    "name": "ipython",
    "version": 3
   },
   "file_extension": ".py",
   "mimetype": "text/x-python",
   "name": "python",
   "nbconvert_exporter": "python",
   "pygments_lexer": "ipython3",
   "version": "3.7.11"
  }
 },
 "nbformat": 4,
 "nbformat_minor": 5
}
