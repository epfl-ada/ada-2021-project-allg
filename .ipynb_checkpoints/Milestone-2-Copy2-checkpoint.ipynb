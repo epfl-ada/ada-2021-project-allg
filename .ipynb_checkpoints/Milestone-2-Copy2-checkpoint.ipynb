{
 "cells": [
  {
   "cell_type": "code",
   "execution_count": 1,
   "id": "a6023742",
   "metadata": {},
   "outputs": [
    {
     "ename": "KeyboardInterrupt",
     "evalue": "",
     "output_type": "error",
     "traceback": [
      "\u001b[1;31m---------------------------------------------------------------------------\u001b[0m",
      "\u001b[1;31mKeyboardInterrupt\u001b[0m                         Traceback (most recent call last)",
      "\u001b[1;32m<ipython-input-1-4743a6f90409>\u001b[0m in \u001b[0;36m<module>\u001b[1;34m\u001b[0m\n\u001b[0;32m      2\u001b[0m \u001b[1;32mimport\u001b[0m \u001b[0mjson\u001b[0m\u001b[1;33m\u001b[0m\u001b[1;33m\u001b[0m\u001b[0m\n\u001b[0;32m      3\u001b[0m \u001b[1;32mimport\u001b[0m \u001b[0mbz2\u001b[0m\u001b[1;33m\u001b[0m\u001b[1;33m\u001b[0m\u001b[0m\n\u001b[1;32m----> 4\u001b[1;33m \u001b[1;32mimport\u001b[0m \u001b[0mpandas\u001b[0m \u001b[1;32mas\u001b[0m \u001b[0mpd\u001b[0m\u001b[1;33m\u001b[0m\u001b[1;33m\u001b[0m\u001b[0m\n\u001b[0m\u001b[0;32m      5\u001b[0m \u001b[1;32mimport\u001b[0m \u001b[0mnumpy\u001b[0m \u001b[1;32mas\u001b[0m \u001b[0mnp\u001b[0m\u001b[1;33m\u001b[0m\u001b[1;33m\u001b[0m\u001b[0m\n\u001b[0;32m      6\u001b[0m \u001b[1;32mimport\u001b[0m \u001b[0mre\u001b[0m\u001b[1;33m\u001b[0m\u001b[1;33m\u001b[0m\u001b[0m\n",
      "\u001b[1;32m~\\anaconda3\\lib\\site-packages\\pandas\\__init__.py\u001b[0m in \u001b[0;36m<module>\u001b[1;34m\u001b[0m\n\u001b[0;32m      9\u001b[0m \u001b[1;32mfor\u001b[0m \u001b[0mdependency\u001b[0m \u001b[1;32min\u001b[0m \u001b[0mhard_dependencies\u001b[0m\u001b[1;33m:\u001b[0m\u001b[1;33m\u001b[0m\u001b[1;33m\u001b[0m\u001b[0m\n\u001b[0;32m     10\u001b[0m     \u001b[1;32mtry\u001b[0m\u001b[1;33m:\u001b[0m\u001b[1;33m\u001b[0m\u001b[1;33m\u001b[0m\u001b[0m\n\u001b[1;32m---> 11\u001b[1;33m         \u001b[0m__import__\u001b[0m\u001b[1;33m(\u001b[0m\u001b[0mdependency\u001b[0m\u001b[1;33m)\u001b[0m\u001b[1;33m\u001b[0m\u001b[1;33m\u001b[0m\u001b[0m\n\u001b[0m\u001b[0;32m     12\u001b[0m     \u001b[1;32mexcept\u001b[0m \u001b[0mImportError\u001b[0m \u001b[1;32mas\u001b[0m \u001b[0me\u001b[0m\u001b[1;33m:\u001b[0m\u001b[1;33m\u001b[0m\u001b[1;33m\u001b[0m\u001b[0m\n\u001b[0;32m     13\u001b[0m         \u001b[0mmissing_dependencies\u001b[0m\u001b[1;33m.\u001b[0m\u001b[0mappend\u001b[0m\u001b[1;33m(\u001b[0m\u001b[1;34mf\"{dependency}: {e}\"\u001b[0m\u001b[1;33m)\u001b[0m\u001b[1;33m\u001b[0m\u001b[1;33m\u001b[0m\u001b[0m\n",
      "\u001b[1;32m~\\anaconda3\\lib\\site-packages\\numpy\\__init__.py\u001b[0m in \u001b[0;36m<module>\u001b[1;34m\u001b[0m\n\u001b[0;32m    335\u001b[0m \u001b[1;33m\u001b[0m\u001b[0m\n\u001b[0;32m    336\u001b[0m     \u001b[1;32mimport\u001b[0m \u001b[0mmkl\u001b[0m\u001b[1;33m\u001b[0m\u001b[1;33m\u001b[0m\u001b[0m\n\u001b[1;32m--> 337\u001b[1;33m     \u001b[0m__mkl_version__\u001b[0m \u001b[1;33m=\u001b[0m \u001b[1;34m\"{MajorVersion}.{MinorVersion}.{UpdateVersion}\"\u001b[0m\u001b[1;33m.\u001b[0m\u001b[0mformat\u001b[0m\u001b[1;33m(\u001b[0m\u001b[1;33m**\u001b[0m\u001b[0mmkl\u001b[0m\u001b[1;33m.\u001b[0m\u001b[0mget_version\u001b[0m\u001b[1;33m(\u001b[0m\u001b[1;33m)\u001b[0m\u001b[1;33m)\u001b[0m\u001b[1;33m\u001b[0m\u001b[1;33m\u001b[0m\u001b[0m\n\u001b[0m\u001b[0;32m    338\u001b[0m \u001b[1;33m\u001b[0m\u001b[0m\n\u001b[0;32m    339\u001b[0m \u001b[1;33m\u001b[0m\u001b[0m\n",
      "\u001b[1;31mKeyboardInterrupt\u001b[0m: "
     ]
    }
   ],
   "source": [
    "import time\n",
    "import json\n",
    "import bz2\n",
    "import pandas as pd\n",
    "import numpy as np\n",
    "import re\n",
    "\n",
    "#import jsonlines"
   ]
  },
  {
   "cell_type": "code",
   "execution_count": null,
   "id": "653c3404-5c2a-4dee-96cf-bfd66cee6425",
   "metadata": {},
   "outputs": [],
   "source": [
    "###  IMPORTING DATA ###\n",
    "\n",
    "# Define the path where the data is located\n",
    "\n",
    "Path = \"../quotes-2020.json.bz2\" #goes out of the current folder\n"
   ]
  },
  {
   "cell_type": "code",
   "execution_count": null,
   "id": "e9a82dfc",
   "metadata": {},
   "outputs": [],
   "source": [
    "#Filtering functions\n",
    "\n",
    "def find_proba(text):\n",
    "    num = re.findall(r'-?\\d+\\.?\\d*',text)\n",
    "    return \" \".join(num)\n",
    "\n",
    "def filter_speakers(chunk_data):\n",
    "    #remove the lines with no speaker\n",
    "    #filt_none = chunk_data.drop(chunk_data[chunk_data['speaker'] == 'None'].index)\n",
    "    \n",
    "    #chunk_data['probas']=str(chunk_data['probas'])\n",
    "    chunk_data['number'] = chunk_data['probas'].apply(lambda x: find_proba(x))\n",
    "    filt_prob = chunk_data.drop(chunk_data[chunk_data['number'] < '0.9'].index)\n",
    "    return filt_prob\n"
   ]
  },
  {
   "cell_type": "code",
   "execution_count": null,
   "id": "4cc36778-37dc-4d7e-8f3d-4db3ff09dd16",
   "metadata": {
    "scrolled": true
   },
   "outputs": [],
   "source": [
    "def process_chunk(chunk):\n",
    "        print(f'Processing chunk with {len(chunk)} rows')\n",
    "        print(chunk.columns)\n",
    "\n",
    "with pd.read_json(Path, lines=True, compression='bz2', chunksize=1_000_000) as df_reader:\n",
    "    dfs = []\n",
    "    for chunk in df_reader:\n",
    "        process_chunk(chunk)\n",
    "        #filt_chunk = chunk.drop(chunk[chunk['speaker'] == 'None'].index)\n",
    "        #chunk['number']=chunk['probas'].apply(lambda x: find_proba(x))\n",
    "        #chunk.drop(chunk[chunk['number'] < '0.9'].index)\n",
    "        \n",
    "        chunk['probas']=str(chunk['probas'])\n",
    "        filt_chunk = filter_speakers(chunk)\n",
    "        dfs.append(filt_chunk)\n",
    "        \n",
    "        #dfs.to_json(compression='bz2')"
   ]
  },
  {
   "cell_type": "code",
   "execution_count": null,
   "id": "fc49f83e",
   "metadata": {},
   "outputs": [],
   "source": [
    "#chunk.drop(chunk[chunk['numOccurrences'] == 1].index)\n",
    "\n",
    "chunk"
   ]
  },
  {
   "cell_type": "code",
   "execution_count": null,
   "id": "d825b16a",
   "metadata": {},
   "outputs": [],
   "source": [
    "#filt_chunk = filter_speakers(chunk)\n",
    "#filt_chunk"
   ]
  },
  {
   "cell_type": "code",
   "execution_count": null,
   "id": "00bb0bd3",
   "metadata": {},
   "outputs": [],
   "source": [
    "chunk.dtypes['probas']\n",
    "chunk.dtypes['qids']"
   ]
  },
  {
   "cell_type": "code",
   "execution_count": null,
   "id": "672eeec9",
   "metadata": {
    "scrolled": true
   },
   "outputs": [],
   "source": [
    "#TESTS\n",
    "#chunk.query('numOccurrences > 2')\n",
    "#chunk.drop(chunk[chunk['speaker'] == 'None'].index)\n",
    "#chunk.query('qids != []')\n",
    "#chunk['probas'] = chunk['probas'].astype('str') \n",
    "#chunk['qids'] = np.int64(chunk.qids)\n",
    "#chunk.dtypes['numOccurrences']"
   ]
  },
  {
   "cell_type": "code",
   "execution_count": null,
   "id": "3f77da2f",
   "metadata": {},
   "outputs": [],
   "source": [
    "pd.concat(dfs)"
   ]
  },
  {
   "cell_type": "code",
   "execution_count": null,
   "id": "6b163ee9",
   "metadata": {},
   "outputs": [],
   "source": [
    "#def filter_speakers(chunk_data):\n",
    " #   filt_none = chunk_data.drop(chunk_data[chunk_data['speaker'] == 'None'].index)\n",
    "  #  return filt_none"
   ]
  },
  {
   "cell_type": "code",
   "execution_count": null,
   "id": "753c9578",
   "metadata": {
    "scrolled": true
   },
   "outputs": [],
   "source": [
    "filt_chunk"
   ]
  },
  {
   "cell_type": "code",
   "execution_count": null,
   "id": "db31a43e",
   "metadata": {},
   "outputs": [],
   "source": [
    "chunk"
   ]
  },
  {
   "cell_type": "code",
   "execution_count": null,
   "id": "ddd7e85d",
   "metadata": {
    "scrolled": true
   },
   "outputs": [],
   "source": [
    "chunk.dtypes['probas']"
   ]
  },
  {
   "cell_type": "code",
   "execution_count": null,
   "id": "6c8f1111",
   "metadata": {},
   "outputs": [],
   "source": [
    "#chunk['probas']=str(chunk['probas'])"
   ]
  },
  {
   "cell_type": "code",
   "execution_count": null,
   "id": "8c2448f5",
   "metadata": {},
   "outputs": [],
   "source": [
    "#import re\n",
    "def find_number(text):\n",
    "    num = re.findall(r'-?\\d+\\.?\\d*',text)\n",
    "    return \" \".join(num)\n",
    "chunk['number']=chunk['probas'].apply(lambda x: find_number(x))\n",
    "\n",
    "#chunk['number']=chunk['probas'].str(apply(lambda x: re.findall(r'-?\\d+\\.?\\d*',x)))#.to_frame()\n",
    "#print(\" \".join(chunk['number']))"
   ]
  },
  {
   "cell_type": "code",
   "execution_count": null,
   "id": "18cebba0",
   "metadata": {
    "scrolled": true
   },
   "outputs": [],
   "source": [
    "chunk"
   ]
  },
  {
   "cell_type": "code",
   "execution_count": null,
   "id": "37408333",
   "metadata": {},
   "outputs": [],
   "source": [
    "chunk.drop(chunk[chunk['number'] < '0.9'].index)"
   ]
  },
  {
   "cell_type": "code",
   "execution_count": null,
   "id": "3b8bccaa",
   "metadata": {},
   "outputs": [],
   "source": [
    "chunk.dtypes['number']"
   ]
  },
  {
   "cell_type": "code",
   "execution_count": null,
   "id": "4532901a",
   "metadata": {},
   "outputs": [],
   "source": [
    "#chunk.drop(chunk[chunk['number'] < '0.9'].index)"
   ]
  },
  {
   "cell_type": "code",
   "execution_count": null,
   "id": "de07a65a",
   "metadata": {},
   "outputs": [],
   "source": []
  },
  {
   "cell_type": "code",
   "execution_count": null,
   "id": "73a040e8",
   "metadata": {},
   "outputs": [],
   "source": []
  }
 ],
 "metadata": {
  "kernelspec": {
   "display_name": "Python 3",
   "language": "python",
   "name": "python3"
  },
  "language_info": {
   "codemirror_mode": {
    "name": "ipython",
    "version": 3
   },
   "file_extension": ".py",
   "mimetype": "text/x-python",
   "name": "python",
   "nbconvert_exporter": "python",
   "pygments_lexer": "ipython3",
   "version": "3.7.11"
  }
 },
 "nbformat": 4,
 "nbformat_minor": 5
}
