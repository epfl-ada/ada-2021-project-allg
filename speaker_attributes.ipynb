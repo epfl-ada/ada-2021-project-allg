{
 "cells": [
  {
   "cell_type": "code",
   "execution_count": 1,
   "id": "2a2e5ccb",
   "metadata": {
    "scrolled": true
   },
   "outputs": [],
   "source": [
    "import pandas as pd\n",
    "import pyarrow.parquet as pq"
   ]
  },
  {
   "cell_type": "code",
   "execution_count": 8,
   "id": "64fb386a",
   "metadata": {
    "scrolled": true
   },
   "outputs": [
    {
     "data": {
      "text/html": [
       "<div>\n",
       "<style scoped>\n",
       "    .dataframe tbody tr th:only-of-type {\n",
       "        vertical-align: middle;\n",
       "    }\n",
       "\n",
       "    .dataframe tbody tr th {\n",
       "        vertical-align: top;\n",
       "    }\n",
       "\n",
       "    .dataframe thead th {\n",
       "        text-align: right;\n",
       "    }\n",
       "</style>\n",
       "<table border=\"1\" class=\"dataframe\">\n",
       "  <thead>\n",
       "    <tr style=\"text-align: right;\">\n",
       "      <th></th>\n",
       "      <th>gender</th>\n",
       "      <th>id</th>\n",
       "    </tr>\n",
       "  </thead>\n",
       "  <tbody>\n",
       "    <tr>\n",
       "      <th>0</th>\n",
       "      <td>[Q6581097]</td>\n",
       "      <td>Q210555</td>\n",
       "    </tr>\n",
       "    <tr>\n",
       "      <th>1</th>\n",
       "      <td>[Q6581097]</td>\n",
       "      <td>Q210569</td>\n",
       "    </tr>\n",
       "    <tr>\n",
       "      <th>2</th>\n",
       "      <td>[Q6581097]</td>\n",
       "      <td>Q210630</td>\n",
       "    </tr>\n",
       "    <tr>\n",
       "      <th>3</th>\n",
       "      <td>[Q6581097]</td>\n",
       "      <td>Q210669</td>\n",
       "    </tr>\n",
       "    <tr>\n",
       "      <th>4</th>\n",
       "      <td>[Q6581072]</td>\n",
       "      <td>Q210695</td>\n",
       "    </tr>\n",
       "    <tr>\n",
       "      <th>...</th>\n",
       "      <td>...</td>\n",
       "      <td>...</td>\n",
       "    </tr>\n",
       "    <tr>\n",
       "      <th>481758</th>\n",
       "      <td>[Q6581097]</td>\n",
       "      <td>Q45619237</td>\n",
       "    </tr>\n",
       "    <tr>\n",
       "      <th>481759</th>\n",
       "      <td>[Q6581097]</td>\n",
       "      <td>Q45619241</td>\n",
       "    </tr>\n",
       "    <tr>\n",
       "      <th>481760</th>\n",
       "      <td>[Q6581097]</td>\n",
       "      <td>Q45619243</td>\n",
       "    </tr>\n",
       "    <tr>\n",
       "      <th>481761</th>\n",
       "      <td>[Q6581097]</td>\n",
       "      <td>Q45619265</td>\n",
       "    </tr>\n",
       "    <tr>\n",
       "      <th>481762</th>\n",
       "      <td>[Q6581097]</td>\n",
       "      <td>Q45619268</td>\n",
       "    </tr>\n",
       "  </tbody>\n",
       "</table>\n",
       "<p>481763 rows × 2 columns</p>\n",
       "</div>"
      ],
      "text/plain": [
       "            gender         id\n",
       "0       [Q6581097]    Q210555\n",
       "1       [Q6581097]    Q210569\n",
       "2       [Q6581097]    Q210630\n",
       "3       [Q6581097]    Q210669\n",
       "4       [Q6581072]    Q210695\n",
       "...            ...        ...\n",
       "481758  [Q6581097]  Q45619237\n",
       "481759  [Q6581097]  Q45619241\n",
       "481760  [Q6581097]  Q45619243\n",
       "481761  [Q6581097]  Q45619265\n",
       "481762  [Q6581097]  Q45619268\n",
       "\n",
       "[481763 rows x 2 columns]"
      ]
     },
     "execution_count": 8,
     "metadata": {},
     "output_type": "execute_result"
    }
   ],
   "source": [
    "df = pd.read_parquet('part-00014-0d587965-3d8f-41ce-9771-5b8c9024dce9-c000.snappy.parquet') # load .parquet file\n",
    "pq.read_table('part-00014-0d587965-3d8f-41ce-9771-5b8c9024dce9-c000.snappy.parquet').to_pandas() # decompress\n",
    "df = df.drop(df.columns[[0, 1, 2, 4, 5, 6, 7, 8, 9, 11, 12, 13, 14]], axis=1) # drop all columns except gender and id\n",
    "df"
   ]
  },
  {
   "cell_type": "markdown",
   "id": "a4d2a838",
   "metadata": {},
   "source": [
    "information from wikidata: male (Q6581097), female (Q6581072), intersex (Q1097630), transgender female (Q1052281), transgender male (Q2449503)"
   ]
  },
  {
   "cell_type": "code",
   "execution_count": 7,
   "id": "f9cc874f",
   "metadata": {},
   "outputs": [],
   "source": [
    "df.to_json(r'speaker_attributes_part-00014.json') #save it as a json file, but format seems wrong"
   ]
  }
 ],
 "metadata": {
  "kernelspec": {
   "display_name": "Python [conda env:ada] *",
   "language": "python",
   "name": "conda-env-ada-py"
  },
  "language_info": {
   "codemirror_mode": {
    "name": "ipython",
    "version": 3
   },
   "file_extension": ".py",
   "mimetype": "text/x-python",
   "name": "python",
   "nbconvert_exporter": "python",
   "pygments_lexer": "ipython3",
   "version": "3.8.11"
  }
 },
 "nbformat": 4,
 "nbformat_minor": 5
}
